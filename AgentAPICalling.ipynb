{
 "cells": [
  {
   "cell_type": "code",
   "execution_count": 1,
   "metadata": {},
   "outputs": [
    {
     "name": "stderr",
     "output_type": "stream",
     "text": [
      "/tmp/ipykernel_1314/3622290940.py:1: DeprecationWarning: \n",
      "Pyarrow will become a required dependency of pandas in the next major release of pandas (pandas 3.0),\n",
      "(to allow more performant data types, such as the Arrow string type, and better interoperability with other libraries)\n",
      "but was not found to be installed on your system.\n",
      "If this would cause problems for you,\n",
      "please provide us feedback at https://github.com/pandas-dev/pandas/issues/54466\n",
      "        \n",
      "  import pandas as pd\n"
     ]
    }
   ],
   "source": [
    "import pandas as pd\n"
   ]
  },
  {
   "cell_type": "code",
   "execution_count": 3,
   "metadata": {},
   "outputs": [],
   "source": [
    "from langchain.agents import initialize_agent, Tool\n",
    "from langchain.agents import initialize_agent, AgentType\n",
    "from langchain.tools import BaseTool\n",
    "import requests"
   ]
  },
  {
   "cell_type": "code",
   "execution_count": 5,
   "metadata": {},
   "outputs": [
    {
     "data": {
      "text/plain": [
       "False"
      ]
     },
     "execution_count": 5,
     "metadata": {},
     "output_type": "execute_result"
    }
   ],
   "source": [
    "from dotenv import load_dotenv\n",
    "\n",
    "\n",
    "os.environ[\"OPENAI_API_TYPE\"] = OPENAI_API_TYPE\n",
    "os.environ[\"OPENAI_API_VERSION\"] = OPENAI_API_VERSION\n",
    "os.environ[\"OPENAI_API_BASE\"] = OPENAI_API_BASE\n",
    "os.environ[\"AZURE_OPENAI_ENDPOINT\"] = OPENAI_API_BASE\n",
    "os.environ[\"OPENAI_API_KEY\"] = OPENAI_API_KEY\n",
    "os.environ[\"OPENAI_DEPLOYMENT_NAME\"] = OPENAI_DEPLOYMENT_NAME\n",
    "\n",
    "load_dotenv()"
   ]
  },
  {
   "cell_type": "code",
   "execution_count": 7,
   "metadata": {},
   "outputs": [],
   "source": [
    "# Import Azure OpenAI\n",
    "# from langchain_community.llms import AzureOpenAI\n",
    "from langchain.chat_models import AzureChatOpenAI\n",
    "from langchain.schema import HumanMessage"
   ]
  },
  {
   "cell_type": "code",
   "execution_count": 9,
   "metadata": {},
   "outputs": [
    {
     "name": "stderr",
     "output_type": "stream",
     "text": [
      "/home/vscode/.local/lib/python3.10/site-packages/langchain_core/_api/deprecation.py:117: LangChainDeprecationWarning: The class `langchain_community.chat_models.azure_openai.AzureChatOpenAI` was deprecated in langchain-community 0.0.10 and will be removed in 0.2.0. An updated version of the class exists in the langchain-openai package and should be used instead. To use it run `pip install -U langchain-openai` and import as `from langchain_openai import AzureChatOpenAI`.\n",
      "  warn_deprecated(\n"
     ]
    }
   ],
   "source": [
    "# Test the model connection\n",
    "model = AzureChatOpenAI(\n",
    "    openai_api_version=OPENAI_API_VERSION,\n",
    "    deployment_name=OPENAI_DEPLOYMENT_NAME,\n",
    ")\n",
    "  "
   ]
  },
  {
   "cell_type": "code",
   "execution_count": 10,
   "metadata": {},
   "outputs": [
    {
     "name": "stderr",
     "output_type": "stream",
     "text": [
      "/home/vscode/.local/lib/python3.10/site-packages/langchain_core/_api/deprecation.py:117: LangChainDeprecationWarning: The function `__call__` was deprecated in LangChain 0.1.7 and will be removed in 0.2.0. Use invoke instead.\n",
      "  warn_deprecated(\n"
     ]
    },
    {
     "data": {
      "text/plain": [
       "AIMessage(content=\"J'aime la programmation.\")"
      ]
     },
     "execution_count": 10,
     "metadata": {},
     "output_type": "execute_result"
    }
   ],
   "source": [
    "message = HumanMessage(\n",
    "    content=\"Translate this sentence from English to French. I love programming.\"\n",
    ")\n",
    "model([message])\n",
    "\n"
   ]
  },
  {
   "cell_type": "code",
   "execution_count": 14,
   "metadata": {},
   "outputs": [
    {
     "name": "stdout",
     "output_type": "stream",
     "text": [
      "[{'id': 'devon-and-cornwall', 'name': 'Devon & Cornwall Police'}]\n"
     ]
    }
   ],
   "source": [
    "def get_police_forces():\n",
    "    url = \"https://data.police.uk/api/forces\"\n",
    "    response = requests.get(url)\n",
    "\n",
    "    if response.status_code == 200:\n",
    "        return response.json()\n",
    "    else:\n",
    "        return None\n",
    "\n",
    "def search_police_forces(query):\n",
    "    police_forces = get_police_forces()\n",
    "\n",
    "    if not police_forces:\n",
    "        print(\"Error: Unable to fetch police forces\")\n",
    "        return\n",
    "\n",
    "    matching_forces = []\n",
    "\n",
    "    for force in police_forces:\n",
    "        if query.lower() in force[\"name\"].lower():\n",
    "            matching_forces.append(force)\n",
    "\n",
    "    return matching_forces\n",
    "\n",
    "class search_police_force(BaseTool):\n",
    "    name = \"search_police_force\"\n",
    "    description = \"useful for when you need to answer questions about police forces, such as the id Unique force identifier and Police Force name\"\n",
    "\n",
    "    def _run(self, query: str) -> str:\n",
    "        \"\"\"Use the tool.\"\"\"\n",
    "        return search_police_forces(query)\n",
    "    \n",
    "    async def _arun(self, query: str) -> str:\n",
    "        \"\"\"Use the tool asynchronously.\"\"\"\n",
    "        raise NotImplementedError(\"API does not support async\")\n",
    "\n",
    "# Example usage\n",
    "force_id = \"devon\"\n",
    "police_force_data = search_police_forces(force_id)\n",
    "print (police_force_data)"
   ]
  },
  {
   "cell_type": "code",
   "execution_count": 15,
   "metadata": {},
   "outputs": [
    {
     "name": "stdout",
     "output_type": "stream",
     "text": [
      "{'description': '<p>Devon &amp; Cornwall Police covers the largest geographical police area in England, extending 180 miles from the Dorset and Somerset borders in the east to the Isles of Scilly in the west.<br />\\t\\t<br />\\t\\tTo give some impression of the scale of the area, police headquarters in Exeter is actually nearer to London than the furthest extremity of the Force.<br />\\t\\t<br />\\t\\tPolicing an area of this size offers many challenges, with the needs of both rural and urban communities continually at the forefront of the Force\\'s approach to tackling crime.</p>\\n\\n<p>\\t\\tThe Force aim is:<br />\\t\\t\"By working in partnership to: bring about safer communities; reduce disorder, crime and the fear of crime; and contribute to the delivery of justice in a way which secures and maintains public confidence.\"</p>', 'url': 'http://www.devon-cornwall.police.uk', 'engagement_methods': [{'url': 'http://www.facebook.com/pages/Exeter-United-Kingdom/Devon-Cornwall-Police/151265442987', 'type': None, 'description': '<p>Find us on Facebook</p>', 'title': 'Facebook'}, {'url': '', 'type': None, 'description': '<p>Non emergency contact number</p>', 'title': 'Telephone'}, {'url': 'http://twitter.com/DC_Police', 'type': None, 'description': '<p>Follow us on Twitter</p>', 'title': 'Twitter'}, {'url': 'http://www.youtube.com/dcpolice', 'type': None, 'description': '<p>View our latest videos on YouTube</p>', 'title': 'YouTube'}], 'telephone': '101', 'id': 'devon-and-cornwall', 'name': 'Devon & Cornwall Police'}\n"
     ]
    }
   ],
   "source": [
    "def get_police_force_id(force_id):\n",
    "    url = f\"https://data.police.uk/api/forces/{force_id}\"\n",
    "    response = requests.get(url)\n",
    "\n",
    "    if response.status_code == 200:\n",
    "        return response.json()\n",
    "    else:\n",
    "        return None\n",
    "\n",
    "\n",
    "class get_police_force_details(BaseTool):\n",
    "    name = \"get_police_force_details\"\n",
    "    description = \"useful for when you need to answer questions about a specific police force such as the website, ways to keep informed, telephone number, Unique force identifier or Force name\"\n",
    "\n",
    "    def _run(self, query: str) -> str:\n",
    "        \"\"\"Use the tool.\"\"\"\n",
    "        return get_police_force_id(query)\n",
    "    \n",
    "    async def _arun(self, query: str) -> str:\n",
    "        \"\"\"Use the tool asynchronously.\"\"\"\n",
    "        raise NotImplementedError(\"API does not support async\")\n",
    "\n",
    "# Example usage\n",
    "force_id = \"devon-and-cornwall\"\n",
    "police_force_data = get_police_force_id(force_id)\n",
    "print (police_force_data)"
   ]
  },
  {
   "cell_type": "code",
   "execution_count": 16,
   "metadata": {},
   "outputs": [
    {
     "name": "stdout",
     "output_type": "stream",
     "text": [
      "[{'bio': '<p>Rob has served with Leicestershire Police for 25 years, beginning his policing career here in 1993.</p>\\n\\n<p>In 2008 he was appointed as the head of the force’s Community Safety Bureau, which was responsible for the implementation of neighbourhood policing, tackling anti-social behaviour and offender management.</p>\\n\\n<p>His next role, from 2009 to 2014, was as Chief Superintendent for the Leicester City Basic Command Unit. He led local policing for the area and worked with communities during two large scale English Defence League and Unite Against Fascism demonstrations. He was instrumental in the force’s response to disorder during August 2012.</p>\\n\\n<p>Throughout 2014 and 2015 he was head of business change and developed Blueprint2020 – a programme designed to decide how to make significant savings and take the force into a new era of policing.</p>\\n\\n<p>His next step was to become Temporary Assistant Chief Constable, working across Leicestershire, Northamptonshire and Nottinghamshire on collaborative projects such as the regional East midlands Operational Support Service and East Midlands Criminal Justice Service.</p>\\n\\n<p>He stayed in this role until April 2017, when he was appointed as the force’s Assistant Chief Constable. He has responsibility for local policing, crime and intelligence and public protection.</p>\\n\\n<p>Outside of policing, Rob lives in Leicestershire with his family. He is a keen pilot, skier and has developed his construction skills while renovating a derelict property.</p>', 'contact_details': {}, 'name': 'Rob Nixon', 'rank': 'Chief Constable'}, {'bio': '<p>Julia Debenham joined Leicestershire Police in 1993 and has remained with the force ever since. Throughout her service, Julia has held a variety of roles throughout both ranks – both uniformed and non uniformed. More recently, Julia worked in collaborative roles within the East Midlands region where she held Chief officer responsibility for East Midlands Criminal Justice Service and East Midlands Specialist Operations Service.</p>\\n\\n<p>Julia said “I feel immensely proud to be an Assistant Chief Constable in Leicestershire Police. I work with brilliant and dedicated people who achieve so much for the public. Often their efforts are not widely visible but their impact on people, often at a time of crisis, is hugely positive. It is a real privilege to live and work in our diverse communities in Leicester, Leicestershire and Rutland. When I joined the police, I was seeking an interesting and challenging role that I could maintain as a career and that made a positive impact in our communities. 26 years on .. every day is different, every day is challenging and I continue to enjoy (almost) every minute… and I hope to make a positive difference”</p>\\n\\n<p>Julia is married and is the mother of two young children.</p>', 'contact_details': {}, 'name': 'Julia Debenham', 'rank': 'Assistant Chief Constable'}, {'bio': '<p>David Sandall has served with Leicestershire Police since 1999, commencing his policing career from the old Asfordby Street and Charles Street Police stations in Leicester, following on from his dad and grandad in serving in Leicestershire Police as part of over 80 years family service.</p>\\n\\n<p>David continued to work across Leicester and surrounding area as a Sergeant. He led teams as a Shift, Neighbourhood and Custody Sergeant, before moving into the investigative departments, as a Detective Sergeant and being promoted as a Leicester City Detective Inspector.</p>\\n\\n<p>As a Detective Inspector David also led the Force Special Operations Unit, leading on covert policing and Serious and Organised Crime before being seconded to the United Kingdom Borders Agency, managing an East Midlands Regional Team tackling foreign national offending. On promotion to Chief Inspector in 2009 David worked as the crime lead across the County of Leicestershire and Rutland as part of the County North and South areas, before supporting the amalgamation into the Counties Basic Command Unit.</p>\\n\\n<p>From 2012 to 2015 David took the lead for Safeguarding Investigations, significantly developing the response to vulnerable people and the investigation of Serious Crime. He was instrumental in the introduction of the co-located multi-agency Safeguarding, Child Abuse and Child Sexual Exploitation teams and the development of the investigative digital hub.</p>\\n\\n<p>In 2015 David was promoted to Chief Superintendent as the Head of Crime and Intelligence. David has been engaged in broad variety of high profile serious and critical incidents and crimes that have sadly occurred in Leicestershire. David recently successfully completed a Master’s degree at Cambridge University, he is an accredited PIP4 and PIP3 Senior Investigating Officer, a Senior Identification Manager and is also an active Strategic and experienced Tactical Firearms Commander.</p>\\n\\n<p>From January 2019 David is undertaking the Temporary position as the Protective Services, Assistant Chief Constable for Leicestershire Police. This portfolio has the lead for the East Midlands Regional Criminal Justice Service, East Midlands Operations Department and he leads in Leicestershire for Serious and Organised Crime, Offender Management, Safeguarding Investigations and as the senior LGBT lead.</p>\\n\\n<p>Outside of work David lives in Leicestershire with his family. He enjoys sport and being outside with his active children. David manages a local children’s football team and is also a parent representative for a local scout group.</p>', 'contact_details': {}, 'name': 'David Sandall', 'rank': 'Assistant Chief Constable'}]\n"
     ]
    }
   ],
   "source": [
    "def get_police_force_people(force_id):\n",
    "    url = f\"https://data.police.uk/api/forces/{force_id}/people\"\n",
    "    response = requests.get(url)\n",
    "\n",
    "    if response.status_code == 200:\n",
    "        return response.json()\n",
    "    else:\n",
    "        return None\n",
    "\n",
    "\n",
    "class get_police_force_peoples(BaseTool):\n",
    "    name = \"get_police_force_peoples\"\n",
    "    description = \"useful for when you need to answer questions about Senior officer bio\"\n",
    "\n",
    "    def _run(self, query: str) -> str:\n",
    "        \"\"\"Use the tool.\"\"\"\n",
    "        return get_police_force_people(query)\n",
    "    \n",
    "    async def _arun(self, query: str) -> str:\n",
    "        \"\"\"Use the tool asynchronously.\"\"\"\n",
    "        raise NotImplementedError(\"API does not support async\")\n",
    "\n",
    "# Example usage\n",
    "force_id = \"leicestershire\"\n",
    "police_force_data = get_police_force_people(force_id)\n",
    "print (police_force_data)"
   ]
  },
  {
   "cell_type": "code",
   "execution_count": 17,
   "metadata": {},
   "outputs": [
    {
     "name": "stdout",
     "output_type": "stream",
     "text": [
      "Camborne North, Camborne South, Camborne West, Illogan North, Illogan South, Redruth North, Redruth South &amp; St Day &amp; Lanner, Helston Town, Lizard, Porthleven &amp; Helston North, Penzance Rural East, Penzance Rural West, Penzance Town East, Penzance Town West, St Just, Pendeen &amp; Sennen, Carbis Bay, Copperhouse &amp; Gwinear, Hayle Foundry, Isles of Scilly, St Ives Town, Arwenack &amp; Boslowick, Penwerris &amp; Trescobeas, Newquay Town, St Columb Major, Grampound &amp; Mevagissey, Lostwithiel &amp; Fowey, St Austell Town, St Blazey &amp; Tywardreath, St Stephen &amp; St Dennis, Treverbyn &amp; Roche, Boscawen, Moresk &amp; Tregolls, Mount Hawke &amp; St Agnes, Perranporth, Roseland &amp; Probus &amp; Trispen &amp; St Erme, Treliske Hospital, Bodmin Rural, Bodmin St Marys, Bodmin St Petroc, Padstow &amp; St Merryn, Wadebridge Town, Rock, Polzeath &amp; Port Isaac, Bude Rural, Bude Town, Camelford &amp; Tintagel, Launceston, Launceston Rural, Liskeard North, Liskeard Rural, Liskeard South, Looe Area, Callington &amp; Stokeclimsland, Calstock, Millbrook &amp; Rame, Saltash Town, St Germans &amp; Landrake, Torpoint, Chacewater, Feock, Kea &amp; Kenwyn, Trehaverne, Highertown, Malabar &amp; Redannick, Newquay Suburbs, Penryn, Mylor &amp; Penryn Rural, Dartmouth Town, Dartmouth Townstal &amp; Rural, Totnes East, Totnes Town, Totnes West, Ivybridge Rural North, Ivybridge Rural South, Ivybridge Town, Kingsbridge, Kingsbridge Rural West, Kingsbridge Rural East, Salcombe, Bere Peninsula, Okehampton Rural East, Okehampton Rural West, Okehampton Town, Tavistock Rural East, Tavistock Rural West, Tavistock Town, Berry Head-with-Furzeham, Blatchcombe, Churston-with-Galmpton, Clifton-with-Maidenway, Goodrington-with-Roselands, Preston, Roundham-with-Hyde, St Marys-with-Summercombe, Cockington-with-Chelston, Ellacombe, Hele, Shiphay-with-the-Willows, St Marychurch, Torquay Town Centre, Torre &amp; Upton, Watcombe, Wellswood, Ashburton, Bovey Tracey &amp; Moretonhampstead, Buckfastleigh, Chudleigh-Teign Valley, Exminster &amp; Rural, Kingskerswell &amp; Rural, Kingsteignton, Newton Abbot East, Newton Abbot Town, Dawlish, Dawlish Rural, Teignmouth, Teignmouth Rural, Alphington, Countess Wear &amp; Topsham, Cowick &amp; St Thomas, Duryard &amp; Pennsylvania, Exwick, Exeter City Centre, Heavitree &amp; Polsloe, Mincinglake, Newtown &amp; St Leonards, Pinhoe, Wonford, St Davids, St James, St Loyes, Whipton Barton, Budleigh &amp; Bicton, &amp; Raleigh, Clyst Valley, Woodbury &amp; Lympstone, Exmouth Halsdon &amp; Withycombe, Exmouth Littleham, Exmouth Town, Exmouth Brixington, Canonsleigh, Halberton &amp; Willand, Crediton Rural North, Crediton Rural South, Crediton Town, Cullompton North &amp; South, Cullompton Outer &amp; Bradninch, Lower Culm &amp; Upper Culm, Tiverton Rural, Tiverton Canal, Tiverton Lowman, Tiverton Westexe, Tiverton Town Centre, Axminster Rural, Axminster Town, Honiton Rural, Honiton Town, Ottery Rural, Ottery St Mary Town, Seaton, Seaton Rural, Sidmouth, Barnstaple Central Town, Barnstaple Forches, Barnstaple Newport, Bishops Tawton, Landkey, Swimbridge &amp; Whiddon Valley, Gorwell &amp; Fort Hill, Frankmarsh &amp; St Georges, Instow, Fremington &amp; Bickington, Pilton, Bratton Fleming &amp; Goodleigh, Roundswell, Tawstock &amp; Longbridge, Braunton Rural, Braunton Urban, Combe Martin, Ilfracombe East &amp; Central, Ilfracombe West, Lynton &amp; Lynmouth, Mortehoe &amp; Woolacombe, South Molton, South Molton Rural, Bideford East-the-Water, Bideford West, Holsworthy Rural, Torrington Rural, Westward Ho!, Northam &amp; Appledore, Hartland Rural, Chaddlewood, Colebrook &amp; Newnham, Elburton &amp; Dunstone, Goosewell, Plymstock, Turnchapel, Hooe &amp; Oreston, Woodford, East End, Efford, Greenbank &amp; University, Higher Compton &amp; Mannamead, Lipson &amp; Laira, Mount Gould, Mutley, Derriford West &amp; Crownhill, Estover, Glenholt &amp; Derriford East, Eggbuckland, Ernesettle, Honicknowle, Leigham &amp; Mainstone, Manadon, Southway, Tamerton Foliot, Whitleigh, Widewell, Plymouth City Centre, Stonehouse, Devonport, Ford, Keyham, Morice Town, Stoke, Barne Barton, Beacon Park, Ham, Weston Mill &amp; Pennycross, North Prospect, Peverell &amp; Hartley, St Budeaux &amp; Kings Tamerton, Plympton St Maurice &amp; Yealmpstone\n"
     ]
    }
   ],
   "source": [
    "def get_neighbourhoods(force_id):\n",
    "    url = f\"https://data.police.uk/api/{force_id}/neighbourhoods\"\n",
    "    cleaned_url = url.replace(\"'\", \"\")\n",
    "    response = requests.get(cleaned_url)\n",
    "    neighbourhoods = response.json()\n",
    "\n",
    "    if response.status_code == 200:\n",
    "        names = [entry['name'] for entry in neighbourhoods]\n",
    "        names_string = ', '.join(names)\n",
    "        return (names_string)\n",
    "    else:\n",
    "        return None\n",
    "\n",
    "class get_police_neighbourhoods(BaseTool):\n",
    "    name = \"get_police_neighbourhoods\"\n",
    "    description = \"useful for when you need to answer questions about the name for the police force neighbourhood. You will need to use GetPoliceforce first to get the force name for the API\"\n",
    "\n",
    "    def _run(self, query: str) -> str:\n",
    "        \"\"\"Use the tool.\"\"\"\n",
    "        return get_neighbourhoods(query)\n",
    "    \n",
    "    async def _arun(self, query: str) -> str:\n",
    "        \"\"\"Use the tool asynchronously.\"\"\"\n",
    "        raise NotImplementedError(\"API does not support async\")\n",
    "\n",
    "# Example usage\n",
    "force_id = \"\\'devon-and-cornwall\\'\"\n",
    "neighbourhood_data = get_neighbourhoods(force_id)\n",
    "print (neighbourhood_data)"
   ]
  },
  {
   "cell_type": "code",
   "execution_count": 18,
   "metadata": {},
   "outputs": [
    {
     "name": "stdout",
     "output_type": "stream",
     "text": [
      "{'force': 'devon-and-cornwall', 'neighbourhood': 'PLY.4028'}\n"
     ]
    }
   ],
   "source": [
    "def locate_neighbourhood(latlong):\n",
    "\n",
    "    url = f\"https://data.police.uk/api/locate-neighbourhood?q={latlong}\"\n",
    "    response = requests.get(url)\n",
    "\n",
    "    if response.status_code == 200:\n",
    "        return response.json()\n",
    "    else:\n",
    "        return None\n",
    "\n",
    "class locate_police_neighbourhood(BaseTool):\n",
    "    name = \"locate_police_neighbourhood\"\n",
    "    description = \"useful for when you need to answer questions about the location of a police neighbourhood using lattitude, longitude numbers. Pass lattitude and longitude as a string\"\n",
    "\n",
    "    def _run(self, query: str) -> str:\n",
    "        \"\"\"Use the tool.\"\"\"\n",
    "        return locate_neighbourhood(query)\n",
    "    \n",
    "    async def _arun(self, query: str) -> str:\n",
    "        \"\"\"Use the tool asynchronously.\"\"\"\n",
    "        raise NotImplementedError(\"API does not support async\")\n",
    "\n",
    "# Example usage\n",
    "latlong = \"50.3656 ,-4.1423\"\n",
    "neighbourhood_data = locate_neighbourhood(latlong)\n",
    "print (neighbourhood_data)"
   ]
  },
  {
   "cell_type": "code",
   "execution_count": 19,
   "metadata": {},
   "outputs": [],
   "source": [
    "# Load the tool configs that are needed.\n",
    "tools = [\n",
    "    Tool(\n",
    "        name=\"SearchPoliceForce\",\n",
    "        func=search_police_force.run,\n",
    "        description=\"useful for when you need to answer questions about police forces, such as the id Unique force identifier and Police Force name\"\n",
    "    ),\n",
    "    Tool(\n",
    "        name=\"GetPoliceforceDetails\",\n",
    "        func=get_police_force_details.run,\n",
    "        description=\"useful for when you need to answer questions about a specific police force such as the website, ways to keep informed, telephone number, Unique force identifier or Force name\"\n",
    "    ),\n",
    "    Tool(\n",
    "        name=\"GetPoliceforcePeople\",\n",
    "        func=get_police_force_peoples.run,\n",
    "        description=\"useful for when you need to answer questions about Senior officer bio\"\n",
    "    ),\n",
    "        Tool(\n",
    "        name=\"GetPoliceforceNeighbourhood\",\n",
    "        func=get_police_neighbourhoods.run,\n",
    "        description=\"useful for when you need to answer questions about the name for the police force neighbourhood. You will need to use GetPoliceforceDetails first to get the force name for the API\"\n",
    "    ),\n",
    "    Tool(\n",
    "        name=\"LocatePoliceNeighbourhood\",\n",
    "        func=locate_police_neighbourhood.run,\n",
    "        description=\"useful for when you need to answer questions about the location of a police neighbourhood using lattitude, longitude numbers. Pass lattitude and longitude as a string\"\n",
    "    )\n",
    "]"
   ]
  },
  {
   "cell_type": "code",
   "execution_count": 21,
   "metadata": {},
   "outputs": [
    {
     "name": "stderr",
     "output_type": "stream",
     "text": [
      "/home/vscode/.local/lib/python3.10/site-packages/langchain_core/_api/deprecation.py:117: LangChainDeprecationWarning: The function `initialize_agent` was deprecated in LangChain 0.1.0 and will be removed in 0.2.0. Use Use new agent constructor methods like create_react_agent, create_json_agent, create_structured_chat_agent, etc. instead.\n",
      "  warn_deprecated(\n"
     ]
    }
   ],
   "source": [
    "tools = [search_police_force(), get_police_force_details(), get_police_neighbourhoods(), locate_police_neighbourhood()]\n",
    "agent = initialize_agent(tools, model, agent=AgentType.ZERO_SHOT_REACT_DESCRIPTION, verbose=True)"
   ]
  },
  {
   "cell_type": "code",
   "execution_count": 23,
   "metadata": {},
   "outputs": [
    {
     "name": "stdout",
     "output_type": "stream",
     "text": [
      "\n",
      "\n",
      "\u001b[1m> Entering new AgentExecutor chain...\u001b[0m\n",
      "\u001b[32;1m\u001b[1;3mFirst, I need to use the latitude and longitude to find out which police neighbourhood the location falls under. Then I can identify the police force associated with that neighbourhood.\n",
      "\n",
      "Action: locate_police_neighbourhood\n",
      "Action Input: \"50.3656, -4.1423\"\u001b[0m\n",
      "Observation: \u001b[36;1m\u001b[1;3m{'force': 'devon-and-cornwall', 'neighbourhood': 'PLY.4028'}\u001b[0m\n",
      "Thought:\u001b[32;1m\u001b[1;3mNow that I have the police force identifier, I can get the details of the Devon and Cornwall Police force.\n",
      "\n",
      "Action: get_police_force_details\n",
      "Action Input: devon-and-cornwall\u001b[0m\n",
      "Observation: \u001b[33;1m\u001b[1;3m{'description': '<p>Devon &amp; Cornwall Police covers the largest geographical police area in England, extending 180 miles from the Dorset and Somerset borders in the east to the Isles of Scilly in the west.<br />\\t\\t<br />\\t\\tTo give some impression of the scale of the area, police headquarters in Exeter is actually nearer to London than the furthest extremity of the Force.<br />\\t\\t<br />\\t\\tPolicing an area of this size offers many challenges, with the needs of both rural and urban communities continually at the forefront of the Force\\'s approach to tackling crime.</p>\\n\\n<p>\\t\\tThe Force aim is:<br />\\t\\t\"By working in partnership to: bring about safer communities; reduce disorder, crime and the fear of crime; and contribute to the delivery of justice in a way which secures and maintains public confidence.\"</p>', 'url': 'http://www.devon-cornwall.police.uk', 'engagement_methods': [{'url': 'http://www.facebook.com/pages/Exeter-United-Kingdom/Devon-Cornwall-Police/151265442987', 'type': None, 'description': '<p>Find us on Facebook</p>', 'title': 'Facebook'}, {'url': '', 'type': None, 'description': '<p>Non emergency contact number</p>', 'title': 'Telephone'}, {'url': 'http://twitter.com/DC_Police', 'type': None, 'description': '<p>Follow us on Twitter</p>', 'title': 'Twitter'}, {'url': 'http://www.youtube.com/dcpolice', 'type': None, 'description': '<p>View our latest videos on YouTube</p>', 'title': 'YouTube'}], 'telephone': '101', 'id': 'devon-and-cornwall', 'name': 'Devon & Cornwall Police'}\u001b[0m\n",
      "Thought:\u001b[32;1m\u001b[1;3mI now know the final answer\n",
      "Final Answer: The police force details for the location with latitude 50.3656 and longitude -4.1423, which falls under the Devon and Cornwall Police jurisdiction, are as follows:\n",
      "- Description: Devon & Cornwall Police covers the largest geographical police area in England, extending 180 miles from the Dorset and Somerset borders in the east to the Isles of Scilly in the west. The headquarters in Exeter is nearer to London than the furthest extremity of the Force. The Force aims to work in partnership to bring about safer communities, reduce disorder, crime and the fear of crime, and contribute to the delivery of justice in a way which secures and maintains public confidence.\n",
      "- Website URL: http://www.devon-cornwall.police.uk\n",
      "- Engagement Methods: \n",
      "  - Facebook: http://www.facebook.com/pages/Exeter-United-Kingdom/Devon-Cornwall-Police/151265442987\n",
      "  - Telephone: (Non-emergency contact number) - 101\n",
      "  - Twitter: http://twitter.com/DC_Police\n",
      "  - YouTube: http://www.youtube.com/dcpolice\n",
      "- Telephone: 101\n",
      "- Unique force identifier: devon-and-cornwall\n",
      "- Force name: Devon & Cornwall Police\u001b[0m\n",
      "\n",
      "\u001b[1m> Finished chain.\u001b[0m\n"
     ]
    },
    {
     "data": {
      "text/plain": [
       "'The police force details for the location with latitude 50.3656 and longitude -4.1423, which falls under the Devon and Cornwall Police jurisdiction, are as follows:\\n- Description: Devon & Cornwall Police covers the largest geographical police area in England, extending 180 miles from the Dorset and Somerset borders in the east to the Isles of Scilly in the west. The headquarters in Exeter is nearer to London than the furthest extremity of the Force. The Force aims to work in partnership to bring about safer communities, reduce disorder, crime and the fear of crime, and contribute to the delivery of justice in a way which secures and maintains public confidence.\\n- Website URL: http://www.devon-cornwall.police.uk\\n- Engagement Methods: \\n  - Facebook: http://www.facebook.com/pages/Exeter-United-Kingdom/Devon-Cornwall-Police/151265442987\\n  - Telephone: (Non-emergency contact number) - 101\\n  - Twitter: http://twitter.com/DC_Police\\n  - YouTube: http://www.youtube.com/dcpolice\\n- Telephone: 101\\n- Unique force identifier: devon-and-cornwall\\n- Force name: Devon & Cornwall Police'"
      ]
     },
     "execution_count": 23,
     "metadata": {},
     "output_type": "execute_result"
    }
   ],
   "source": [
    "agent.run(\"Get the police force details for latitude 50.3656, longitude -4.1423\")"
   ]
  }
 ],
 "metadata": {
  "kernelspec": {
   "display_name": "Python 3",
   "language": "python",
   "name": "python3"
  },
  "language_info": {
   "codemirror_mode": {
    "name": "ipython",
    "version": 3
   },
   "file_extension": ".py",
   "mimetype": "text/x-python",
   "name": "python",
   "nbconvert_exporter": "python",
   "pygments_lexer": "ipython3",
   "version": "3.10.12"
  }
 },
 "nbformat": 4,
 "nbformat_minor": 2
}
