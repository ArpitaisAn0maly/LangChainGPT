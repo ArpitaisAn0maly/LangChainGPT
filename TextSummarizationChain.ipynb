{
 "cells": [
  {
   "cell_type": "code",
   "execution_count": 66,
   "metadata": {},
   "outputs": [],
   "source": [
    "from langchain.chains.summarize import load_summarize_chain\n",
    "from langchain.document_loaders import PyPDFLoader\n",
    "from langchain import PromptTemplate\n",
    "import glob\n",
    "import os\n",
    "from IPython.display import HTML"
   ]
  },
  {
   "cell_type": "code",
   "execution_count": 69,
   "metadata": {},
   "outputs": [
    {
     "data": {
      "text/plain": [
       "False"
      ]
     },
     "execution_count": 69,
     "metadata": {},
     "output_type": "execute_result"
    }
   ],
   "source": [
    "from dotenv import load_dotenv\n",
    "\n",
    "\n",
    "os.environ[\"OPENAI_API_TYPE\"] = OPENAI_API_TYPE\n",
    "os.environ[\"OPENAI_API_VERSION\"] = OPENAI_API_VERSION\n",
    "os.environ[\"OPENAI_API_BASE\"] = OPENAI_API_BASE\n",
    "os.environ[\"AZURE_OPENAI_ENDPOINT\"] = OPENAI_API_BASE\n",
    "os.environ[\"OPENAI_API_KEY\"] = OPENAI_API_KEY\n",
    "os.environ[\"OPENAI_DEPLOYMENT_NAME\"] = OPENAI_DEPLOYMENT_NAME\n",
    "\n",
    "load_dotenv()"
   ]
  },
  {
   "cell_type": "code",
   "execution_count": 71,
   "metadata": {},
   "outputs": [],
   "source": [
    "from langchain.chat_models import AzureChatOpenAI\n",
    "from langchain.schema import HumanMessage"
   ]
  },
  {
   "cell_type": "code",
   "execution_count": 73,
   "metadata": {},
   "outputs": [],
   "source": [
    "# Test the model connection\n",
    "model = AzureChatOpenAI(\n",
    "    openai_api_version=OPENAI_API_VERSION,\n",
    "    deployment_name=OPENAI_DEPLOYMENT_NAME,\n",
    ")\n",
    "  "
   ]
  },
  {
   "cell_type": "code",
   "execution_count": 74,
   "metadata": {},
   "outputs": [
    {
     "data": {
      "text/plain": [
       "AIMessage(content=\"J'aime la programmation.\")"
      ]
     },
     "execution_count": 74,
     "metadata": {},
     "output_type": "execute_result"
    }
   ],
   "source": [
    "message = HumanMessage(\n",
    "    content=\"Translate this sentence from English to French. I love programming.\"\n",
    ")\n",
    "model([message])\n",
    "\n"
   ]
  },
  {
   "cell_type": "code",
   "execution_count": 76,
   "metadata": {},
   "outputs": [],
   "source": [
    "def color_chunks(text: str, chunk_size: int, overlap_size: int) -> str:\n",
    "        overlap_color = \"#808080\"\n",
    "        chunk_colors = [\"#a8d08d\", \"#c6dbef\", \"#e6550d\", \"#fd8d3c\", \"#fdae6b\", \"#fdd0a2\"] # Different shades of green for chunks\n",
    "        \n",
    "        colored_text = \"\"\n",
    "        overlap = \"\"\n",
    "        color_index = 0\n",
    "        for i in range(0, len(text), chunk_size-overlap_size):\n",
    "            chunk = text[i:i+chunk_size]\n",
    "            if overlap:\n",
    "                colored_text += f'<mark style=\"background-color: {overlap_color};\">{overlap}</mark>'\n",
    "            chunk = chunk[len(overlap):]\n",
    "            colored_text += f'<mark style=\"background-color: {chunk_colors[color_index]};\">{chunk}</mark>'\n",
    "            color_index = (color_index + 1) % len(chunk_colors)\n",
    "            overlap = text[i+chunk_size-overlap_size:i+chunk_size]\n",
    "\n",
    "        return colored_text"
   ]
  },
  {
   "cell_type": "code",
   "execution_count": 77,
   "metadata": {},
   "outputs": [],
   "source": [
    "def color_chunks_specific(docs):\n",
    "    chunk_colors = [\"#a8d08d\", \"#c6dbef\", \"#e6550d\", \"#fd8d3c\", \"#fdae6b\", \"#fdd0a2\"]\n",
    "\n",
    "    colored_text = \"\"\n",
    "    color_index = 0\n",
    "\n",
    "    for i, chunk in enumerate(docs):\n",
    "        # Add HTML markup for the current chunk\n",
    "        colored_text += f'<mark style=\"background-color: {chunk_colors[color_index]};\">{chunk}</mark>'\n",
    "\n",
    "        # Update the color index for the next chunk\n",
    "        color_index = (color_index + 1) % len(chunk_colors)\n",
    "\n",
    "    return colored_text\n",
    "\n"
   ]
  },
  {
   "cell_type": "code",
   "execution_count": 79,
   "metadata": {},
   "outputs": [],
   "source": [
    "#Function to chunk docs using load_and_split() from PyPDF2 and using stuff chain\n",
    "\n",
    "def summarize_pdfs_from_folder(pdfs_folder):\n",
    "   \n",
    "    \n",
    "    summaries = []\n",
    "    for pdf_file in glob.glob(pdfs_folder + \"/*.pdf\"):\n",
    "        loader = PyPDFLoader(pdf_file)\n",
    "        docs = loader.load_and_split()\n",
    "        \n",
    "         # Print the number of chunks\n",
    "        print(f\"Number of Chunks for {pdf_file}: {len(docs)}\")\n",
    "        \n",
    "      \n",
    "        # Colorize and print only the chunks obtained from load_and_split()\n",
    "        colored_text = color_chunks_specific(docs)\n",
    "        display(HTML(\"Colored Chunks:<br>\" + colored_text))\n",
    "        \n",
    "        # Print the number of colored chunks\n",
    "        num_colored_chunks = len(docs)\n",
    "        print(f\"Number of Colored Chunks for {pdf_file}: {num_colored_chunks}\")\n",
    "\n",
    "       \n",
    "                  \n",
    "        chain = load_summarize_chain(AzureChatOpenAI(openai_api_key=OPENAI_API_KEY, deployment_name=OPENAI_DEPLOYMENT_NAME, model_name=MODEL_NAME), chain_type=\"stuff\")\n",
    "        summary = chain.run(docs)\n",
    "        print(\"Summary for: \", pdf_file)\n",
    "        print(summary)\n",
    "        print(\"\\n\")\n",
    "        summaries.append(summary)\n",
    "    \n",
    "    return summaries"
   ]
  },
  {
   "cell_type": "code",
   "execution_count": 82,
   "metadata": {},
   "outputs": [],
   "source": [
    "#Sample function \n",
    "\n",
    "def pdfLoader(pdfs_folder):      \n",
    "    for pdf_file in glob.glob(pdfs_folder + \"/*.pdf\"):\n",
    "        loader = PyPDFLoader(pdf_file)\n",
    "        docs = loader.load_and_split()\n",
    "        return docs"
   ]
  },
  {
   "cell_type": "code",
   "execution_count": 96,
   "metadata": {},
   "outputs": [],
   "source": [
    "#Sample code to count no of tokens in a document\n",
    "docs=pdfLoader(\"/workspaces/info-assist/docs/sample_doc\")\n",
    "text =\"\"\n",
    "for doc in docs:\n",
    "    text += doc.page_content\n",
    "text=text.replace('\\t','')"
   ]
  },
  {
   "cell_type": "code",
   "execution_count": 84,
   "metadata": {},
   "outputs": [
    {
     "data": {
      "text/plain": [
       "16594"
      ]
     },
     "execution_count": 84,
     "metadata": {},
     "output_type": "execute_result"
    }
   ],
   "source": [
    "num_tokens=model.get_num_tokens(text)\n",
    "num_tokens"
   ]
  },
  {
   "cell_type": "code",
   "execution_count": 87,
   "metadata": {},
   "outputs": [
    {
     "name": "stdout",
     "output_type": "stream",
     "text": [
      "Number of Chunks for /workspaces/info-assist/docs/sample_doc/China, climate change and the energy transition.pdf: 29\n"
     ]
    },
    {
     "data": {
      "text/html": [
       "Colored Chunks:<br><mark style=\"background-color: #a8d08d;\">page_content='March 2023STRATEGIC INSIGHTS\\n179China, climate change and the energy transition\\nXu Yi-chong\\nThe global energy transition from relying on fossil fuels to low-carbon sources of energy for electricity generation, \\nindustrial processing, residential lighting and heating—as well as transport by air, seas and road—is a process of \\ngeostrategic and geopolitical change. The driving forces behind this transition are energy security (securing stable and \\nreliable energy supplies) and also climate change—which is hitting parts of the world with unprecedented calamities.\\nTechnology innovation is the engine of the energy transformation that we’re currently experiencing—those able \\nto invest, develop, and deploy on a large scale the new (or not-so-new) technologies will be able to manage energy \\ntransformation with relative ease and might take some crucial sectors of the world’s future energy economy to \\ncommanding heights. All countries have adopted policies towards energy transition. In this process, China represents \\nsome of the best and some of the worst practices. China is facing daunting challenges; how it manages them will \\nhave long-term impacts on domestic social and economic life, global climate change and China’s position in the \\nglobal landscape.\\nImage: Cooling towers and solar panels, China. Image: iStockphoto/ WangAnQi .' metadata={'source': '/workspaces/info-assist/docs/sample_doc/China, climate change and the energy transition.pdf', 'page': 0}</mark><mark style=\"background-color: #c6dbef;\">page_content='2 Strategic Insights\\nThis report surveys China’s enormous energy transition to renewables. It begins by sketching the energy challenges China faces \\nand its climate-change-related energy policies, in the context of the global geopolitics of the energy transformation. Next the \\nreport focuses on conventional energy sources (oil and natural gas), followed by electricity, and energy technologies. Although the \\nreport is intended primarily to survey developments to date, it concludes with some brief observations about the considerable \\nenergy challenges China faces in the years ahead.\\nWhile traditional concerns over energy security—ensuring a safe, adequate, and dependable supply of natural energy resources \\n(coal, oil or natural gas) and providing universal access to a stable and reliable electricity supply remain on the government \\nagenda, climate change brings new and urgent challenges to national energy policies when renewable energy is added to the \\nnational energy mix and new technologies are being developed to replace fossil-fuel consumption. Every aspect of energy \\ntransformation involves distinct technical issues that scientists and engineers have been working on. Energy transformation \\nnonetheless requires fundamental structural changes in the economy and society—changes which are much more difficult \\nto achieve.\\nThose challenges aren’t unique to China, but China faces more difficulties in pursuing the energy transformation because it’s the \\nworld’s largest coal producer and consumer and the largest carbon dioxide (CO2) emitter, it has the largest population, which \\nneeds modern energy, and it’s among the largest coal, oil, and natural gas importer as well. Technology innovation can drive, and \\nhas been driving, energy transition from fossil fuels to low-carbon sources of energy. It can present a massive opportunity for a \\nnational economy and thereby provide space and time for energy transition. Technology innovation, meanwhile, is a double-edged \\nsword that’s triggered more intensive competition and rivalry between China and some developed countries while it’s contributed \\nsignificantly to the expansion of low-carbon sources of energy. Diversification is the key behind its climate-change-induced \\nenergy policy—diversifying sources and kinds. This paper only briefly highlights some of the issues in this process of energy \\ntransformation in China.\\nChallenges\\nAt the UN General Assembly meeting in September 2020, China pledged to bring its carbon emissions to a peak by 2030 and \\nachieve carbon neutrality by 2060 (2030/60 commitments, hereafter).1 This announcement surprised diplomats, climate activists \\nand China observers. It stunned policy experts, researchers and industries inside China for two reasons. One is that China seldom \\nannounces a target that it can’t fulfil. They do this, in terms of both domestic and international commitments, to avoid raising \\nexpectations that the government is unable to manage. Second, the energy transition in China is structural, requiring changes in all \\nsectors of the economy and in all places. With both its energy demand and carbon emissions still rising, China has about 30\\xa0years \\nto achieve its 2030/60 targets. In contrast, the EU had about 60–70\\xa0years to make the energy transformation, from its energy peak \\nin 1990 to carbon-zero in 2050, while the US and Japan have about 40\\xa0years for the transition, as their energy peaked around \\n2007–08. Timing is critical.\\nCurrently, major contributors to CO2 emissions in China are electricity, heat production and consumption (45%, growing at \\n4% annually), industries (33%, no longer growing), and transport (8%, lower than the 17% world average, but growing by 6% \\nannually).2 Coal combustion is by far the leading contributor to CO2 emissions in China in part because it’s the world’s largest \\nfactory, accounting for 28.7% of global manufacturing output, a little shy of the total of the next three major manufacturing' metadata={'source': '/workspaces/info-assist/docs/sample_doc/China, climate change and the energy transition.pdf', 'page': 1}</mark><mark style=\"background-color: #e6550d;\">page_content='factory, accounting for 28.7% of global manufacturing output, a little shy of the total of the next three major manufacturing \\ncountries, the US (16.8%), Japan (7.5%), and Germany (5.3%). It’s also the largest producer of several high-energy-intensive and \\nhigh-polluting products: steel (eight times that of the world’s second largest steel producer, India), fertiliser (more than double \\nthat of the world’s second producer (the US), cement and flat glass (half of the world’s total production). Most of these materials \\nwere consumed domestically, but a notable portion was also used overseas. In 2017, around 25% of the cement and 7.2% of the \\nsteel produced in China were exported, while, in 2018, China was the second largest fertiliser exporter (13.3% of the world total) \\nbehind Russia (15.1%). In addition to the scale of its energy-intensive industries, their production relies heavily on inefficient coal \\ncombustion. For instance, in China over 90% of crude steel is produced in blast furnaces that release about 1.5 to 5 times more CO2 \\nthan electric arc furnaces, while more than 45% of world steel production outside China is done with electric arc furnaces.3' metadata={'source': '/workspaces/info-assist/docs/sample_doc/China, climate change and the energy transition.pdf', 'page': 1}</mark><mark style=\"background-color: #fd8d3c;\">page_content='3\\n China, climate change and the energy transition\\nIn general, energy intensity (measured by energy consumption per unit of GDP) in China is about 1.7 times the world average, and \\nits emissions intensity (measured by CO2 emissions per unit of GDP) is double that in the US and two and a half times the average \\nfor the Organisation for Economic Co-operation and Development (OECD).4 Many international, national and private organisations \\nhave provided road maps for China to meet its 2030/60 commitments.5 In China, government agencies, industries and think tanks \\nhave worked out their plans to move towards carbon neutrality. A common message from these organisations is that radical \\nactions are needed immediately to save humanity. Details vary in terms of priorities, sequences and strategies. For example, one \\ngroup has called on China to peak its emissions over the next decade and then rapidly decrease them to reach carbon neutrality by \\n2050, or 10\\xa0years earlier than the government’s commitment.6\\nA transition road map provided by the electricity industry shows the challenges. To meet its 2030/2060 commitment, the energy \\nstructure needs to be changed—that is, to replace coal combustion with electricity that must come from low-carbon sources, \\nwind, solar, nuclear and other technologies in the process of being developed. So far, Norway, Sweden, Switzerland and Iceland \\nhave already achieved or are close to zero-carbon electricity systems, while the US and UK have proposed to do so by 2035. In \\nChina, the plan is as follows:\\n• In the first phase (2021–2030), carbon emissions from the electricity system enter the peak plateau period around 2028 while \\nthe electrification process in industry, building and transportation continues. At the same time, electricity demand continues \\nto grow at an average annual rate of about 4.5%, with all new demands from low-carbon sources.\\n• In the second phase (2031–2050), carbon emissions in the electricity system will reduce by 90%. This means about 53% of \\nelectricity generation is from renewable sources, 13% from hydropower, 14% from nuclear, 7% from natural gas and 13% from \\ncoal generation capacity with carbon capture, utilisation and storage (CCUS) technology.\\n• In the third phase (2051–60), the share of renewable sources will go up to 61%, hydro 13%, nuclear 16%, natural gas 3% and  \\ncoal with CCUS 7%.7\\nHow to meet its ambitious 2030/2060 commitment remains a hot topic for debate but it will demand changes in the entire \\neconomy. Perhaps, as in all countries, the most difficult challenge is that the energy transition needs to take place while \\nensuring a stable and reliable energy supply, which is the responsibility and priority for all governments for both political and \\neconomic reasons.\\nThe short-term setbacks of expanding coal-fired thermal power generation in China, Europe and elsewhere because of the war in \\nUkraine and its associated sanctions against Russian energy supplies won’t change China’s shift away from fossil fuels. The most \\nrecent World Energy Outlook shows that many countries are looking to accelerate structural changes because of the crisis and \\nindeed, for the first time ever, global demand for every fossil fuel exhibits a peak or plateau. As the global total demand for fossil \\nfuels declines from the mid-2020s onward, the foundation on which the modern economy and politics has been built is shifting. \\nThe transition might not take place as fast as climate change requires; it nonetheless is changing the global political, economic and \\nenergy landscape.8\\nNo successful energy transition can take place without innovation. Most low-carbon sources of energy, from wind, solar, biomass, \\nnuclear, hydrogen etc., are technology-intensive. Indeed, the entire transition to carbon-zero 2050 relies on technology innovation, \\nfor which the International Energy Agency (IEA) has identified 50\\xa0components in eight categories. In the past decade, the number' metadata={'source': '/workspaces/info-assist/docs/sample_doc/China, climate change and the energy transition.pdf', 'page': 2}</mark><mark style=\"background-color: #fdae6b;\">page_content='for which the International Energy Agency (IEA) has identified 50\\xa0components in eight categories. In the past decade, the number \\nof patents filed for renewable energy generation has tripled for solar, wind and bioenergy technologies. Between 2001 and 2017, \\nthe annual average growth rate for renewable patents was 16.23%, which was much higher than in other industrial sectors.9\\nSome technologies for low-carbon sources of energy are mature but not yet commercially competitive with fossil-fuel \\ntechnologies, such as offshore wind. Despite an over 40% decline, the cost of offshore wind remains more than double that of \\nonshore wind. Others, such as CCUS and green hydrogen, are in the development stages. The world needs an array of these \\ntechnologies to avoid human calamities; each country decides what’s in its own basket and its transition strategies. The race to \\nmaster new energy technologies has begun; the finish line may be 20–30\\xa0years away. Emerging technologies are transforming ‘the \\nglobal energy landscape’ and ‘will have particularly pronounced impact on geopolitics’.10 Power and influence will gradually shift \\naway from those countries that have traditional natural resources to those that can innovate and lead in technologies.' metadata={'source': '/workspaces/info-assist/docs/sample_doc/China, climate change and the energy transition.pdf', 'page': 2}</mark><mark style=\"background-color: #fdd0a2;\">page_content='Strategic Insights4\\nPlenty of analyses on China’s energy are available. Many examine conventional energy sources (coal, oil and natural gas), while \\nincreasingly they include climate change-related energy issues: a carbon-zero energy future, high penetration of solar and \\nwind in the electricity system, and innovation in energy technologies, from geothermal and hydrogen to nuclear fusion. Forces \\nrepresenting conventional and low-carbon sources of energy and those technologies in the process of development compete for \\npublic attention, the policy agenda, and public and private resources. Players differ in each category of issues, and so do the rules \\nof the games.\\nOver the conventional energy sources, debates have not changed fundamentally. They’re about access, trade, investment and \\nthe impact of their production and consumption on climate change.11 Renewable sources of energy are often about secondary \\nenergy—electricity and hydrogen—and how they compete with conventional energy sources and how the entire energy system \\nneeds to support renewable expansion.12 Low-carbon energy production and consumption depend more on technology \\ninnovation than natural resources.13 This is increasingly presented in the context of global competition for taking over the \\ncommanding heights in future energy—energy for 2030–2050 and beyond.\\nThe following sections provide a very brief discussion on three issues: conventional energy sources (oil and natural gas), \\nelectricity, and energy technologies. The focus is on the last two, as China has invested heavily in its electricity system and energy \\ntechnologies in which, in some areas, it hopes it will be able to set standards and lead markets. Energy transition is complex and \\nuncertain, involves a wide range of actors, and can be shaped by past policy choices and macroeconomic conditions. Despite \\nChina’s centralised political system, its energy transition takes place within a very fragmented institutional setting in which firms \\n(state-owned, private and multinational), interests, bureaucratic agencies, and central and provincial governments compete in \\npolicymaking as well as policy implementation. This critical component in energy transformation—domestic politics—which can \\nboth help and hinder the transition, however, is not discussed in this paper.14\\nConventional sources of energy\\nChina is poor in oil and natural gas reserves. Its proven reserves of oil amounted to 1.6% of the world’s total resources, while its \\nnatural gas amounted to about 2%. China became a net importer of oil in 1996, and the first major natural gas import took place in \\nthe early 2000s. Currently, China is the world’s largest importer of both oil and natural gas, and its dependence on imported oil has \\nrisen to over 70% of its domestic consumption. In 2019, a quarter of oil traded globally was bought by China. Saudi Arabia was the \\nlargest oil supplier to China from 2005 to 2015, and Russia then took over. They have been China’s top two sources of oil in recent \\nyears. Other major oil exporters to China include Angola, Iran, Iraq, Venezuela and Kuwait. After Chinese oil companies started \\ninvesting in oilfields, first in Sudan in the 1990s, then in some Central Asian and Latin American countries, there was an outcry over \\nChina’s national oil companies ‘taking over the world’, ‘removing oil from the world market’, undermining the energy security of \\nother oil-importing countries, and destabilising oil exporting countries.15 Securing reliable oil imports is a perennial issue for China \\nand covers a range of issues: the global oil trade and its price fluctuations, overseas acquisitions of oilfields, and transport safety.16\\nImporting natural gas is a relatively new phenomenon for China. In the past decade, natural gas consumption increased by double \\ndigits annually and imports more than tripled. The total natural gas consumption rose from 25\\xa0billion cubic metres (Bcm) in 2000' metadata={'source': '/workspaces/info-assist/docs/sample_doc/China, climate change and the energy transition.pdf', 'page': 3}</mark><mark style=\"background-color: #a8d08d;\">page_content='digits annually and imports more than tripled. The total natural gas consumption rose from 25\\xa0billion cubic metres (Bcm) in 2000 \\nto 186\\xa0Bcm in 2014 and 325\\xa0Bcm in 2020.17 Despite a compound annual growth rate of 7% in domestic production of natural gas \\nin the past decade, consumption grew even faster over the same period, at a compound rate of almost 11%. The population with \\naccess to gas jumped from 170\\xa0million in 2010 to 286\\xa0million in 2015 and climbed to 413\\xa0million in 2020. A major initial driving force \\nbehind this rapid increase in natural gas consumption was the commitment made by the central government in 2009 to reduce \\ncarbon intensity by 40%–45% below the 2005 level by 2020. Natural gas releases 40% less CO2 than other sources when it’s used as \\na source of energy. Thus, it’s been increasingly used to replace wood and coal for residential and commercial heating and cooking \\nto reduce pollution as well as CO2 emissions. A small proportion is also used for electricity generation and for industrial and \\nresidential consumption. The focus of Chinese oil and gas companies has changed from ‘oil and gas’ to ‘gas and oil’ for their energy \\nstrategy because of climate-change pressures.' metadata={'source': '/workspaces/info-assist/docs/sample_doc/China, climate change and the energy transition.pdf', 'page': 3}</mark><mark style=\"background-color: #c6dbef;\">page_content='5\\n China, climate change and the energy transition\\nThe challenge is that China is highly dependent on gas imports even though it increased local production from a little over 1% to \\n4.8% of the world’s total. In 2020, nearly 40% of its natural gas consumption came from imports, down from 45% in 2018. Half of \\nthe imports are through pipelines with its neighbouring countries, primarily Myanmar, Kazakhstan, Turkmenistan and Uzbekistan, \\nwhile the other half is in liquefied natural gas (LNG) form, mainly from Australia, Qatar, Malaysia and a few others. In 2002, Australia \\nsigned the largest ever export agreement with China with a total value of A$25\\xa0billion to supply 3.3\\xa0million tonnes of LNG a year \\nfor 25\\xa0years. With the completion of construction of the first terminal in Guangdong in 2006, Australian exports of LNG to China \\nbegan—the very first LNG imports for China. The volume later expanded to 42\\xa0Bcm of its total LNG imports of 114\\xa0Bcm in 2021, \\nmaking China the largest LNG customer for Australia.18\\nGrowing dependence on natural gas imports exposed China not only to global gas price fluctuations but also to changing \\ngeopolitics. For instance, China’s trade relationship with the US has always been full of tensions and more so during the Trump \\nadministration, which imposed tariffs on nearly all imports from China. Under the bilateral agreement negotiated in 2020, China \\nagreed to expand purchases of certain US goods and services by US$200\\xa0billion for the two-year period from 1\\xa0January 2020 \\nthrough 31\\xa0December 2021. As part of the agreement, China lowered tariffs on LNG imports from the US. The US’s LNG exports \\nto China jumped from zero in 2015 to 12.8\\xa0Bcm in 2021. For some, this was good news for the US natural gas industry; it was \\nan example of how ‘politics can lubricate a commercial relationship.’19 For others, this was a trap set by China in the bilateral \\nrelationship: ‘the United States exports commodities to China while China steadily edges the United States out as the dominant \\nplayer in global high-tech markets, including clean energy markets.’20\\nChina wants as much natural gas as it can buy to help the country’s energy transition, while it’s acutely aware of the vulnerability \\nof relying on natural gas imports from a single country. It plays the careful political game that all economic dependence calls \\nfor. That is, to reduce the dependency risks, Chinese oil companies negotiated with other natural-gas-exporting countries, both \\nthrough pipelines and in LNG forms. Just days before the war in Ukraine broke out in February 2022, China and Russia signed a 30-\\nyear contract on gas supply of 10\\xa0Bcm a year to China via a new pipeline that will go through Mongolia. The new gas sale would be \\nsettled in euros instead of US dollars, which have been dominating the global oil and gas trade since the first oil crisis in the 1970s. \\nAfter new sanctions were put in place because of the war in Ukraine, China and Russia renegotiated payment arrangements and \\nagreed in September 2022 that the sale would be paid 50% in Russian roubles and 50% in Chinese yuan—a deal for both: Russia \\nneeds new buyers for its oil and gas, while China embarked on its long march to promote its currency as a new anchor currency in \\nthe world after the global financial crisis.21\\nIn 2021, Qatar also signed two major deals with China: one was a 10-year deal to supply 2\\xa0million metric tonnes (mmt) a year and \\nthe other was to supply 1\\xa0mmt a year to Guangdong, starting in 2024 for 10\\xa0years. In November 2022, Qatar and China signed a \\nUS$60\\xa0billion plus deal to supply 4\\xa0mmt a year for 27\\xa0years, starting in 2026, from the North Field East that’s under development.22\\nConventional energy sources, oil and natural gas, in particular, are always intertwined with geopolitics. In addition to securing \\nsupplies and safe transport, there’s also the competition in controlling the price, as seen in 2020 when the rift among OPEC' metadata={'source': '/workspaces/info-assist/docs/sample_doc/China, climate change and the energy transition.pdf', 'page': 4}</mark><mark style=\"background-color: #e6550d;\">page_content='supplies and safe transport, there’s also the competition in controlling the price, as seen in 2020 when the rift among OPEC \\ncountries led to the fall of the crude oil price below zero and in 2022 in the conflict between the US and the OPEC when the latter \\nannounced the cutting of oil production. As a major importer of oil and natural gas, China has been diversifying its sources and \\nkinds of imported energy. The major Chinese oil and gas companies have global operations and thus have been particularly careful \\nin their engagements in transactions that might violate any current and future sanctions imposed by the US.23\\nChina’s changing electricity needs\\nIn 2002, per capita electricity consumption in China was less than half of the world average, at 1,184\\xa0kilowatt-hours (kWh) versus \\n2,373\\xa0kWh. At that time, more than 200\\xa0million people lived on US$1\\xa0a day and the urbanisation rate was 38%. In the past two \\ndecades, there’s been a rapid build-up of generation capacities. The total electricity capacity more than doubled from 1990 to \\n2000 (from 138\\xa0gigawatts (GW) to 319\\xa0GW), then more than tripled from 2000 to 2010 (318\\xa0GW to 966\\xa0GW), and nearly doubled again \\nby 2020 (2,020\\xa0GW). Now, there’s universal access to electricity in China, and per capita electricity consumption was 5,119\\xa0kWh in' metadata={'source': '/workspaces/info-assist/docs/sample_doc/China, climate change and the energy transition.pdf', 'page': 4}</mark><mark style=\"background-color: #fd8d3c;\">page_content='Strategic Insights6\\n2019, or 1.5\\xa0times the world average, 65% of the OECD average, and 52% of that in Australia.24 Electricity development has been \\npart and parcel of economic development and poverty reduction.\\nWhile electricity development was necessary for development, there were serious adverse impacts on the economy, environment \\nand society as a whole. China is rich in coal reserves even though they’re depleting fast. In 2019, China accounted for half of the \\nworld’s coal production (49.7%), while it was also the world’s largest coal importer. Nearly 60% of its coal is used to generate \\nelectricity, while the rest is used to produce steel, construction materials and petrochemicals. In 2010, the proportion of electricity \\ngenerated by coal-fired power plants reached over 81%. Until then, the main concern of the government was to provide its \\npopulation and economy with adequate energy supplies, especially electricity to those 70–100\\xa0million people in the country \\nwithout access to electricity and the 400\\xa0million in rural areas with only limited access, mainly for lighting.\\nThe rapid expansion of coal-fired power plants meant that related issues demanded urgent actions—the unsustainability of natural \\nresources, the vulnerability of energy resources imports, worsening environmental pollution and its related social problems, \\nand political embarrassment for the regime. Initially, government policies aimed to deal with some of those issues by closing \\nsmall-scale and high-polluting power generation plants and coalmines while adding more efficient supercritical power stations, \\nas part of the efforts to reduce energy intensity by 20% in the 2002–2020 period—a target set in 2003 as ‘quantitative indicators for \\nenergy efficiency’.25 As the expansion of coal-fired power plants continued, air, water, and soil pollution worsened and sparked a \\nmass outpouring of anger, frustration and protests. Pollution threatened political stability: ‘China’s 2013 “airpocalypse” triggered \\nthe first wave of government measures aimed squarely at reducing coal consumption in the most polluted regions.’26\\nThe Energy Development Plan for 2006–2010 included energy-intensity reductions for 11\\xa0industries, such as steel, aluminium, \\ncement and petrochemicals. In September 2012, the State Council unveiled its Action Plan. It set strict coal consumption reduction \\nplans and air pollution targets. The targets were formally incorporated into the Energy Development Plan in the 12th Five-year \\nPlan—to reduce energy intensity by 16% and CO2 intensity by 17% in the 2010–15 period.27 The 13th Five-year Plan’s Energy \\nDevelopment Plan set the first national mandatory limit on coal consumption: the percentage of coal in the total energy mix \\nwouldn’t exceed 58% by 2020, remaining higher than the world average.\\nThe so-called ‘dual control’ policy—to reduce energy intensity and reduce carbon intensity—has been in place for over a decade. \\nSince 2016, each province has also set its own targets for reducing energy intensity and CO2 intensity. The policy bore some ‘fruit \\ndue to a combination of improvements in energy efficiency in the industrial sector alongside the expansion of the service sector \\nin the Chinese economy’.28 But both coal and electricity consumption have kept rising, and so have CO2 emissions. This is the \\nchallenge of a paradoxical development in energy transition—decarbonisation and the expansion of electricity are both necessary \\nto tackle climate change. Energy decarbonisation re quires the ‘electrification of everything’ because direct burning of fossil fuels \\nreleases much more CO2 emissions and it’s much less energy efficient. Low-carbon generated electricity needs to replace coal, oil \\nand natural gas to heat and cool our buildings, run transport on roads, in the air and at sea, power factories, agriculture, fishery,' metadata={'source': '/workspaces/info-assist/docs/sample_doc/China, climate change and the energy transition.pdf', 'page': 5}</mark><mark style=\"background-color: #fdae6b;\">page_content='and natural gas to heat and cool our buildings, run transport on roads, in the air and at sea, power factories, agriculture, fishery, \\nand forestry,  and meet military uses. Electricity consumption in China is expected to rise from 7,779\\xa0terawatt-hours (TWh) in \\n2020 to 11,800\\xa0TWh in 2030 and 15,900\\xa0TWh in 2050. Meanwhile, not only must new electricity capacities come from low-carbon \\nsources, but the existing coal-fired power stations also need to be replaced with wind, water, solar and other low-carbon sources \\nto avoid human apocalypse.29\\nEnergy transformation requires fundamental changes in the electricity system, while continuing to deliver stable and reliable \\nelectricity with a deep penetration of variable renewables. That is, the modern electricity system has been built on large \\ngeneration centres with centralised transmission and distribution networks, while renewable sources tend to be decentralised and \\nvariable. Re-electrification is necessary and demands a significant expansion of low-carbon sources of energy. That requires the \\nrestructuring of the entire electricity system, with more and flexible interconnections across provinces and regions—a daunting \\nchallenge for the government and the country.30' metadata={'source': '/workspaces/info-assist/docs/sample_doc/China, climate change and the energy transition.pdf', 'page': 5}</mark><mark style=\"background-color: #fdd0a2;\">page_content='7\\n China, climate change and the energy transition\\nEnergy technologies and innovation\\nEnergy technologies and innovation will play an important role in energy transition. In China, while thermal power plants \\nwere expanding at a breakneck speed in the first decade of the 21st century, the government started pushing for renewable \\ndevelopment. The Renewable Energy Law 2005 aimed to ‘promote the development and utilisation of renewable energy, improve \\nthe energy structure, diversify energy supplies, safeguard energy security, protect environment, and utilise the sustainable \\ndevelopment of the economy’.31 Other policies included, for instance, the Medium and Long-Term Energy Development Plan \\n(2004–2020), the Medium- to Long-Term Nuclear Energy Development Plan, released in 2005, the Renewable Energy Law of 2005, \\nthe 11th Five-year Plan Energy Development Plan issued in 2007, the Medium and Long-Term Development Plan for Renewable \\nEnergy in 2007, and the guideline of renewable energy development plan for the 11th FYP (2006–2010).32 Five-year Plan to \\nincrease the share of renewables in total energy consumption to 10% by 2010 and 15% by 2020. The main objective for renewable \\ndevelopment at the time was to help 11.5\\xa0million people without access to modern energy.\\nSince 2008, China has invested heavily in a basket of low-carbon energy technologies to meet continuing rising demands and to \\ncontrol worsening air, water and soil pollution that became political problems for the regime: coal and gas generation plants, \\nwind and solar renewables, and nuclear. One significant change was clearly stated in the National Energy Technology Program \\nduring the 12th Five-year Plan period (2011–15), released by the National Energy Administration (NEA). This was China’s very first \\nenergy science and technology development plan. One strategy outlined in the plan was to develop renewables in combination \\nwith upgrading China’s economy to move up global value chains. The very first sentence of the plan clearly stipulates its \\nstrategic thinking:\\nEnergies are the foundation of the national economy; they’re also technology-intensive industries. ‘Safety, high efficiency, and \\nlow carbon’ are the core features of modern energy technologies. They’re the battlefields of global competition in controlling \\nthe commanding heights in future energy.\\nIt stated clearly that ‘China will launch a series of strategic and advanced research projects on frontier technologies in basic \\nsciences, like geology, materials, environmental studies, electricity and electricity systems, and information and automation \\ncontrol.’ Support for energy technology innovation would also include support in ‘energy equipment technologies’ and in large \\ndemonstration projects. The plan identified four areas for technology innovation: exploration and exploitation (primarily for oil \\nand natural gas); processing and conversion; power generation, transmission and distribution; and renewables. It emphasised that \\nresources would be invested in building an energy innovation system  that integrates all stages of innovation,33 from research and \\ndevelopment (R&D) on ‘frontier’ technologies and basic science, such as geology, materials, information and automation, energy \\nequipment technology and manufacturing, to supporting major demonstration projects in the field of nuclear power, the use of \\ncoalseam gas, exploration for and development of shale gas, energy storage, smart grids, and so on.\\nAlong with these policies—the Renewable Energy Law 2005, the Medium and Long-Term Development Plan for Renewable Energy \\n(2007)), and the 11th and 12th five-year plans on Energy Development—the government not only set the target of renewable \\ndevelopment, but also offered incentives, such as tax benefits for renewable development, and grid companies were mandated \\nto connect all approved new renewable supplies. Renewable energy development took off: first wind and then solar, along with' metadata={'source': '/workspaces/info-assist/docs/sample_doc/China, climate change and the energy transition.pdf', 'page': 6}</mark><mark style=\"background-color: #a8d08d;\">page_content='to connect all approved new renewable supplies. Renewable energy development took off: first wind and then solar, along with \\nother technology developments, such as high-voltage transmission networks to connect remotely located renewable sources to \\nend users, nuclear power plants, various storage capacities, and electrical vehicles (Table\\xa01).34 Renewables expansion started in \\nthe 2000s not to replace fossil fuels but to supplement growing electricity capacity while leveraging this development to transform \\nthe labour force and an economic structure that had been built on high labour, investment and energy intensity. The strategy was \\nin line with the one that guided general economic reforms of the past four decades: ‘growing out of the plan’, rather than killing the \\nplan overnight.35' metadata={'source': '/workspaces/info-assist/docs/sample_doc/China, climate change and the energy transition.pdf', 'page': 6}</mark><mark style=\"background-color: #c6dbef;\">page_content='Strategic Insights8\\nTable 1:  Installed wind and solar capacity in China, 2011–2020\\nGW 2011 2012 2013 2014 2015 2016 2017 2018 2019 2020\\nWind 46 61 76 96 131 147 164 184 209 281\\nSolar 2 3 16 25 43 76 130 175 204 253\\nProduction (TWh)\\nWind 70 96 141 160 186 237 297 366 406 466\\nSolar 0.6 3.6 8.4 23 39 66 118 177 224 261\\nSources: China Statistical Yearbook 2022, online ; China Electricity Council, online .\\nChina has become a key driver in global renewable energy expansion, accounting for 34%–53% of the global annual growth over \\nthe period from 2013 to 2021 (Table\\xa02).\\nTable 2:  Total installed capacity, China and the world, 2013 to 2021 (GW)\\nTotal installed capacity (GW) World China Share (%)\\nHydro 1,360 390 28.7\\nWater pump storage 130 36.4 28\\nWind 825 329 40\\nSolar 849 307 36\\nBioenergy 143 29.8 20.8\\nSolid biofuels 119 28 23.5\\nMunicipal waste 19.5 11 56.4\\nOther solid fuels 79 17 24\\nTotal renewables 3064 1020 33.3\\nNuclear*\\nIn operation\\nUnder construction383\\n57.752\\n18.513.6\\n32\\nNote: The International Energy Agency (IEA) and International Atomic Energy Agency (IAEA) both consider nuclear power an important low-carbon source \\nof energy. There are plenty of arguments one can make against nuclear energy development, but there’s no scientific evidence to show that nuclear is not \\nlow carbon. See IAEA, Nuclear energy for a net zero world , Vienna, September 2021; IEA, Nuclear power in a clean energy system , OECD, Paris, 2019; Nuclear \\nEnergy Agency, The costs of decarbonization: system costs with high shares of nuclear and renewables , OECD, Paris, 2019.\\nSources: IRENA, Renewable capacity statistics 2022, Abu Dhabi, 2022; IAEA, Power Reactor Information System, online .\\nDomestically, the rapid expansion of renewable capacities brought its own pains. Over 70% of large-scale wind and solar projects \\nwere in northern regions where there was plenty of coal but electricity consumption was low, such as Inner Mongolia, Gansu \\nand Shanxi. The excess of electricity supply from both renewable and thermal generation in resource-rich regions couldn’t be \\nexported to where end users were along the coast due to inter-regional transmission bottlenecks. The wind curtailment ratio in \\nGansu reached 43%, while wind and solar curtailments in Xinjiang reached 38% and 32%, respectively, in 2016. That is, over 30% \\nof electricity generated by wind and solar had to be abandoned.36 Part of the 13th Five-year Plan’s Energy Development Plan and \\nthe 12th Five-year Plan’s Renewable Energy Development Plan (2013–2020) was designed to address these growing pains and to \\nmanage a high penetration of renewables.37\\nOne positive consequence of a large-scale deployment of wind and solar capacity is that China has been instrumental in ‘a seismic \\nimprovement’ in the competitiveness of renewables through reduced cost and increased capacity factors. The global average \\ncost of newly commissioned utility -scale solar photovoltaic (PV) projects declined by 88% between 2010 and 2021, while that of \\nonshore wind fell by 68% and offshore wind by 60% (Table 3).38' metadata={'source': '/workspaces/info-assist/docs/sample_doc/China, climate change and the energy transition.pdf', 'page': 7}</mark><mark style=\"background-color: #e6550d;\">page_content='9\\n China, climate change and the energy transition\\nTable 3:  Installed total solar photovoltaic capacity, 2012 to 2021 (GW)\\n2012 2013 2014 2015 2016 2017 2018 2019 2020 2021\\nWorld 107 137 176 223 295 390 483 585 710 843\\nChina 6.7 18 28 43.5 28 131 175 205 253 306\\nEU (27) 69 78 82 86 90 94 102 118 137 158\\nUS 8 12 16 22 33 41 50 29 74 94\\nSource: IRENA, Renewable capacity statistics 2022 , Abu Dhabi, 2022.\\nAnother impact of the rapid expansion of renewables is that global solar PV manufacturing capacity has moved from Europe, \\nJapan and the US to China over the past decade. China invested heavily (over US$50\\xa0billion in new PV supply capacity—10\\xa0times \\nmore than Europe) and has created more than 300,000 manufacturing jobs across the solar PV value chain since 2011. One \\noutcome of the investment was the expansion of production and market share. China’s share in all the manufacturing stages of \\nsolar panels (such as polysilicon, ingots, wafers, cells and modules) exceeds 80%. That’s more than double China’s share of global \\nPV demand. In addition, the country is home to the world’s 10\\xa0top suppliers of solar PV manufacturing equipment. In 2021, the \\nvalue of China’s solar PV exports was over US$30\\xa0billion, or almost 7% of China’s trade surplus over the past five years. In addition, \\nChinese investment in Malaysia and Vietnam made those countries major exporters of PV products, accounting for around 10% \\nand 5%, respectively, of their trade surpluses since 2017. This has been one of the thorny issues between China and the US over \\ntheir trade relations.39\\nAs China expanded its solar PV manufacturing, it also improved its innovation capacity, measured by patents. It has ‘changed the \\nway the world thinks about energy innovation, with a focus on component performance improvement brought about by Chinese \\ninstitutions and companies.’40 China isn’t alone in adopting the strategy of energy transition and industrial policy. The Obama \\nadministration sought seriously and systematically to promote renewable energy technologies by adopting ‘a series of policy \\nstrategies and instruments previously foreign to the federal government’ to pursue two combined objectives: the use of renewable \\nenergy technologies and the promotion of American leads in the global ‘cleantech’ industry.41 A decade later, many in the US argue \\nthat the US is losing its leadership in renewables and nuclear because of the shifting landscape of global R&D spending. That is, \\nthe share of the US in the global total R&D spending declined from 70% in 1960 to 30% in 2019 (even though it remains the world’s \\nlargest R&D spender), while China’s share of global R&D rose from 4.9% in 2000 to 23% in 2019 (Table\\xa04).42 A similar pattern of \\nchange occurred in energy R&D expenditures.\\nTable 4:  Spending on energy R&D by governments, 2015 to 2021 (US$ billion 2021)\\n2015 2016 2017 2018 2019 2020 2021\\nNorth America 7.76 7.73 7.85 9.05 9.59 10.42 10.25\\nJapan, Korea, Australia, New Zealand 3.66 3.35 3.25 3.82 3.70 3.80 3.93\\nEurope 8.68 8.46 9.14 9.08 9.95 10.52 11.25\\nChina 7.50 7.42 8.70 9.80 8.96 9.93 11.64\\nRest of world 1.49 1.31 1.45 1.60 1.53 1.47 1.31\\nTotal 29.09 28.27 30.39 33.35 33.73 36.14 38.38\\nSource: IEA, online .\\nChina’s increase in R&D spending did help develop some renewable technologies. Yet, what’s distinguished strategies and \\nspending in China and the US since 2008 has been the allocation of spending and emphasis. In the US, federal energy R&D \\nspending rose in the 21st century, and there was a spike to US$13\\xa0billion in FY\\xa02009 as part of the American Recovery and \\nReinvestment Act of 2009. During the Obama administration, approximately US$77\\xa0billion was made available for climate-change \\nactions from FY\\xa02006 to FY\\xa02013, and more than 75% (US$58\\xa0billion) funded energy technology development and deployment \\nthrough the Department of Energy. In FY\\xa02014, 68% of the climate-change-related budget went to clean-energy technologies.43' metadata={'source': '/workspaces/info-assist/docs/sample_doc/China, climate change and the energy transition.pdf', 'page': 8}</mark><mark style=\"background-color: #fd8d3c;\">page_content='Strategic Insights10\\nDespite the resources put into promoting American leadership in the cleantech industry, investment in energy R&D focused \\nmore on ‘promoting radical and disruptive technologies,’ rather than ‘commercialisation and manufacturing of the technologies \\ndeveloped domestically’.44 Promising technologies often failed to emerge due to weak incentives for investment in demonstration \\nand initial commercialisation, known as ‘the valley of death’ in technology innovation.45\\nFor now, while some renewable technologies (wind and solar) are mature, others are still in the development stage to become \\ncommercially competitive with fossil fuels. Competition is about who’ll get there first, for instance, with commercially competitive \\ncarbon capture and storage technology, small modular nuclear reactor technology, green hydrogen, and system support \\ntechnologies that rely on automation, big data and artificial intelligence. Innovation can offer opportunities for new sectors to \\ndevelop and expand. It also needs government support. Energy transformation requires a whole basket of technologies. Not \\nevery country chooses all or the same options because of their different natural energy endowments, the existing energy mix and \\nstructures, and the priorities of the country. As John Kerry said in 2021:\\nA raft of other technologies—spanning advanced renewables and nuclear, long-duration energy storage, smart grids, battery \\nstorage, direct air carbon capture—so many different things that could provide the saving grace. But they all need to be \\ncommercialized and scaled. And this is even more of a challenge.46\\nMajor countries have been investing in all low-carbon sources of energy and technologies that make energy transformation \\npossible to reach carbon-zero by 2050/2060. Many countries around the globe are in an exciting ‘race to zero’. Indeed, global \\nclean-energy technology competition has been intensifying and has produced a growing role for new players, most notably China. \\nAmong firms, industries and countries, the race for many advanced technologies that will help the world achieve the carbon-zero \\ntarget has begun, even though the finish line is 30\\xa0years away.\\nCurrent challenges for China\\nThere’s been a shift in energy mix from coal to renewables in China, including a rising share of natural gas and renewables (Table\\xa05). \\nCoal consumption remains persistently higher than that of most countries. The Chinese Government in recent years did try to \\nlimit the total coal consumption; as late as April 2021 the central government repeated its policy on restricting new coal-fired \\npower plant construction. In 2020, China also announced that it would no longer finance coal-fired power station construction \\noutside China.47\\nTable 5:  Primary energy consumption mix in China, by source, 1990 to 2060 (%)\\n1990 2000 2010 2020 2030 2060\\nCoal 76.2 68.5 69.2 59.2 49.7 12.4\\nOil 16.6 22 17.4 17.7 18.5 8.5\\nNatural gas 2.1 2.2 4 8.2 8.7 5.4\\nRenewables 5.1 7.3 9.4 12.2 18.5 58.9\\nSource: IEA, An energy sector roadmap to carbon neutrality in China , Paris, OECD, 2021, 62.\\nIn 2021, global electricity demand grew by 6%, while demand in China grew by 10% due to a rapid economic recovery from the \\nCovid-19 pandemic, extreme weather conditions, and a colder than average winter. Meanwhile, the global energy price soared \\nin the third quarter of 2021, led by natural gas and coal, with most benchmarks reaching all-time highs. The increase in prices \\nreflected a rebound in demand and weather-related disruptions in both gas and coal production. With increased global transport \\nof LNG, there’s a much broader spillover effect of price rises from one fuel to another.48 Due to tight coal supply with higher prices \\nand rising electricity demand in the fourth quarter 2021, some 20\\xa0provinces started experiencing rolling blackouts.49 Some' metadata={'source': '/workspaces/info-assist/docs/sample_doc/China, climate change and the energy transition.pdf', 'page': 9}</mark><mark style=\"background-color: #fdae6b;\">page_content='and rising electricity demand in the fourth quarter 2021, some 20\\xa0provinces started experiencing rolling blackouts.49 Some \\nbusinesses turned on diesel generators that were much less efficient and more polluting than coal-fired power plants. In December \\n2021, the government reversed its decision announced in April to limit new coal-fired power plants and adopted a new policy: to' metadata={'source': '/workspaces/info-assist/docs/sample_doc/China, climate change and the energy transition.pdf', 'page': 9}</mark><mark style=\"background-color: #fdd0a2;\">page_content='11\\n China, climate change and the energy transition\\nbuild sufficient capacities to cover all eventualities as the country expands its renewables. In December 2021 alone, over 10\\xa0GW of \\nnew coal-fired capacity (54% of the annual total) was approved, and, in the first quarter of 2022, another 8.6\\xa0GW of new thermal \\ncapacity was approved. New coal-fired power stations were concentrated in a few provinces: Hunan (5.3\\xa0GW), Shaanxi (2.6\\xa0GW), \\nGansu (4 GW) and Anhui (2 GW). \\nBehind this change are the complex politics and difficulties in climate-change-related energy transition. On politics, the four \\ncentral state-owned power generation companies were reluctant to expand thermal capacities. For them, thermal power was the \\nlosing segment in their operation because they couldn’t pass on rising coal prices to electricity consumers, while renewables were \\ncompetitive and profitable.50 They were also concerned about potential stranded capital in thermal capacities. In contrast, other \\nprovinces and localities saw the reversed central policy as an opportunity for local development and local jobs. Private investors \\ndid not open their wallets at all after the policy reversal.\\nFor the central government, the priority is to ensure stable and reliable energy supplies while pushing forward energy \\ntransformation. To avoid similar energy disruptions as a result of extreme weather, natural disasters and conflicts in Europe, \\nChina chose a policy of building excess basic supply capacities while expanding all other low-carbon sources of energy. This may \\nlead to a lot of waste, as the average utilisation of coal-fired power plants in China is now below 40% (in contrast to 60%–70% in \\nOECD countries), and the average lifespan of a thermal power station is around 40\\xa0years, but the country might have to pay for the \\npotential waste to ensure stable and reliable energy supply. Government needs to balance its priorities. There’s no one perfect \\nsolution, while decisions need to be made.\\nConclusion\\nThere can be no one easy analysis of energy in China not only because each energy sector has its own distinct structure, features, \\nrules and institutions, but also because there are many contradictory developments in China. China is the world’s largest coal \\nproducer and user, the world’s largest CO2 emitter and the world’s largest oil and natural gas importing country, and it built half of \\nthe world’s new coal-fired power plants in 2021. Meanwhile, China has built the world’s largest solar and wind capacities and has \\nthereby been instrumental in bringing down solar PV module prices by 90% since 2009 and wind turbine prices by 49%–78% since \\n2010. Based on these apparently contradictory developments, some insist that China is leading on a ‘highway to climate hell’ by \\nnot only being the world’s largest CO2 emitter but also by investing in overseas fossil-fuel capacities. Others see China and Chinese \\nfirms as leading the energy transition, which ‘is an industrial transition’.51\\nMore importantly, these and other contradictions also reflect China’s complex domestic politics. Energy transformation is a \\nmultidecade process. It will ‘entail fundamental structural changes of the economy: China’s energy, industrial and transport \\nsystems, its cities, and land use patterns will have to undergo dramatic transformation,’ as a World Bank study argues.52 Prices \\nwill rise; jobs will be lost; some firms, even sectors, may become obsolete; and pain might be concentrated. While inaction isn’t \\nan option, to forge ahead on the energy transformation requires government to make difficult choices. No problem is unique in \\nChina, while the challenges and complexities entailed in the energy transition need to be multiplied many times when compared \\nto those in other countries that are so much smaller, at more developed stages, or both, and where the problems of geography and \\neconomy make the process so much easier.' metadata={'source': '/workspaces/info-assist/docs/sample_doc/China, climate change and the energy transition.pdf', 'page': 10}</mark><mark style=\"background-color: #a8d08d;\">page_content='to those in other countries that are so much smaller, at more developed stages, or both, and where the problems of geography and \\neconomy make the process so much easier.\\nThe renewable industries in China started and expanded initially because of worsening air, water and soil pollution—all of \\nwhich are causes of climate change. Their development has been closely aligned and integrated with other national economic \\nand industrial priorities, including jobs, sustaining economic growth, the abatement of conventional pollution, upgrading \\nChinese industry’s position in global value chains, and energy security. To support this development, public investment in clean \\nenergy research and development in China grew fastest among major countries and this led to ‘China’s rise as a major player \\nacross clean-energy markets … with an uptake of the goal of competitiveness and economic growth in new and repurposed \\ninstitutions’.53 China now needs to manage the consequences of climate change itself by changing the country’s entire energy and \\neconomic system. China may have led in some areas so far, but that lead can’t be guaranteed for the future. Perhaps China is in no \\nbetter or worse position than others in meeting its 2030/2060 commitment.' metadata={'source': '/workspaces/info-assist/docs/sample_doc/China, climate change and the energy transition.pdf', 'page': 10}</mark><mark style=\"background-color: #c6dbef;\">page_content='Strategic Insights12\\nNotes\\n1 Valerie Volcovici, ‘China pledges to achieve CO2 emissions peak before 2030, carbon neutrality before 2060—Xi’, Reuters , 23\\xa0September 2020, online .\\n2 World Bank, China: Country climate and development plan , 2022.\\n3 Henrik Bergsager, Anna Korppoo, China’s state-owned enterprises as climate policy actors: the power and steel sector , Nordic Council of Ministers, 2013; \\nEdmund Downie, Getting to 30–60 , Center on Global Energy Policy, Columbia University, August 2021. Sources of data are Global Upside, online  and \\nthe World Steel Association, online .\\n4 ‘Protocol on Energy Efficiency and Environmental Aspects’, China energy efficiency report , Energy Charter, Brussels, 2018, online ; World Bank, China: \\nCountry climate and development report , October 2022; World Bank, China: 40-year experience in energy efficiency development , 2021.\\n5 International Energy Agency (IEA), An energy sector roadmap to carbon neutrality in China , Paris, OECD, 2021; International Renewable Energy \\nAgency (IRENA), China’s route to carbon neutrality , Abu Dhabi, 2022; World Bank, China: Country climate and development report , Washington\\xa0DC, \\nOctober 2022.\\n6 Lili Pike, ‘How the world’s biggest emitter could be carbon neutral by 2050’, Vox , 15\\xa0October 2020, online .\\n7 How realistic this plan is depends on how fast different technologies can be developed. Take nuclear power as an example: different technologies are \\nbeing developed, such as small modular nuclear reactors with mature and advanced technologies (to be deployable from 2030 onwards), and nuclear \\nfusion (to be deployable in 2050). If nuclear fusion can be commercialised by then, the world will have an endless source of clean energy. Without new \\ntechnological breakthroughs, the plan may remain a plan because, by 2050, the total installed electricity generation will reach 4,400\\xa0GW to meet the \\ndemand, and 14% of it (616 GW) would be 160% of the current total global nuclear power generation capacity (378 GW).\\n8 IEA, ‘World Energy Outlook 2022 shows the global energy crisis can be a historical turning point towards a cleaner and more secure future’, news \\nrelease, 27 October 2022; IRENA, A new world: the geopolitics of energy transformation , 2019; Jason Bordoff, Meghan L O’Sullivan, ‘The new energy \\norder’, Foreign Affairs , July/August 2022, 101(4):131–44.\\n9 IEA, ‘Project on Tracking Clean Energy Transformation’, online ; IRENA, Innovation landscape for a renewable-powered future , 2019; IEA, Tracking clean \\nenergy innovation , November 2020 .\\n10 Meghan O’Sullivan, Indra Overland, David Sandalow, ‘The geopolitics of renewable energy’, Center on Global Energy Policy, Columbia University, \\nJune 2017; IRENA, A new world: the geopolitics of the energy transformation .\\n11 One of the represented works would be Daniel Yergin, Joseph Stanislaw, The commanding heights , Simon & Schuster, 1998; Daniel Yergin, The quest: \\nenergy, security and the remaking of the modern world , Penguin, 2011.\\n12 Michael B McElroy, Energy and climate change , Oxford University Press, 2016; Dieter Helm, Burn out , Yale University Press, 2017; Peter Fox-Penner, \\nPower after carbon , Harvard University Press, 2020.\\n13 Critical minerals have become hotly debated issues because their production tends to be highly polluting, often affects indigenous people, and is \\nseen as being controlled by a few countries, especially China (see Sophia Kalantzakos, China and the geopolitics of rare earths , Oxford University \\nPress, 2018). Storage supporting renewable penetration, however, comes from a range of sources, such as water pump storage, compressed air \\nstorage, and ‘virtual power plants’ that depend on system controls, big data and AI technologies. These new technologies are all options to help \\nmanage the stability and reliability of large grids with deep penetration of renewables (IEA, Unlocking the potential of distributed energy resources ,' metadata={'source': '/workspaces/info-assist/docs/sample_doc/China, climate change and the energy transition.pdf', 'page': 11}</mark><mark style=\"background-color: #e6550d;\">page_content='manage the stability and reliability of large grids with deep penetration of renewables (IEA, Unlocking the potential of distributed energy resources , \\nOECD, Paris, 2022; L\\xa0Baringo, M\\xa0Rahimiyan, Virtual power plants and electricity markets , Springer, 2020). Therefore, lack of access to critical minerals \\ncan be used as an excuse for fossil-fuel industries and some politicians not to do anything.\\n14 There are plenty of studies on policymaking and policy implementation in China. On energy issues, Philip Andrews-Speed has published extensively. \\nSee, for example, his Energy policy and regulation in the People’s Republic of China , Kluwer Law International, 2004; The governance of energy in China: \\ntransition to low-carbon economy , Palgrave Macmillan, 2012; ‘State vs market in China’s low-carbon energy transition’ (with Sufang Zhang), Energy \\nResearch and Social Science , August 2020, 66, online ; Software versus hardware: how China’s institutional setting helps and hinders the clean energy \\ntransition  (with Anders Hove), Oxford Institute For Energy Studies, December 2021. See also Kelly Sims Gallagher, Xiaowei Xuan, Titans of the climate , \\nMIT Press, 2018; Michael Davidson, Valerie J Karplus, Da Zhang, Xilian Zhang, ‘Policies and institutions to support carbon neutrality in China by 2060,’ \\nEconomics of Energy and Environmental Policy , 2021, 18(2):7–24.\\n15 Erica Downs, ‘Who’s afraid of China’s national oil companies?’, in C\\xa0Pascual, J\\xa0Elkind (eds), Energy security , Brookings Institution Press, 2010.\\n16 There’s a large body literature on energy security in oil production, oil trading and sectoral investment. See Paul Robert, The end of oil , Houghton \\nMifflin Company, 2004; William R Clark, Petrodollar warfare , New Society Publisher, 2005; Tatsu Kambara, Christopher Howe, China and the global \\nenergy crisis , Edward Elgar, 2007; Michael Wesley (ed.), Energy security in Asia , Routledge, 2007; Gabriel B Collins, Andrew S Erickson, Lyle J Goldstein, \\nWilliam S Murray (eds.), China’s energy strategy , Naval Institute Press, 2008; Jonathan D Pollack, ‘Energy insecurity with Chinese and American \\ncharacteristics’, Journal of Contemporary China , 2008, 17(55):229–45; Bob Kong, China’s international petroleum policy , Praeger Security International, \\n2010; Carlos Pascual, Jonathan Elkind (eds), Energy security , Brookings Institution Press, 2010; Andreas Goldthau, Jan Martin White (eds), Global \\nenergy governance , Brookings Institution Press, 2010; Phillip Andrews-Speed, Roland Dannreuther, China, oil and global politics , Taylor and Francis, \\n2011; Yanran Xu, China’s strategic partnership in Latin America: case studies of China’s oil diplomacy in Argentina, Brazil, Mexico, and Venezuela, \\n1991–2015 , Lexington Books, 2017; Gabriel Collins, ‘A maritime oil blockade against China,’ Naval War College Review , 2018, 71(2).\\n17 Xin Li, Natural gas in China , Oxford Institute for Energy Studies, November 2015, online ; Rui Chen, Wenyu Sun, ‘Production and consumption of natural \\ngas in China and its prospects’, in Annual report on China’s petroleum, gas, and new energy industry, 2021 , Springer, October 22, 161–172, online .\\n18 Erica Downs has published several very good pieces on China’s oil and gas imports. A more recent one is Erica Downs, High anxiety: the trade war \\nand China’s oil and gas supply security , Center on Global Energy Policy, Columbia University, November 2019. See also Ana Cristina Alves, ‘Chinese \\neconomic statecraft: a comparative study of China’s oil-backed loans in Angola and Brazil’, Journal of Current Chinese Affairs , 2013, 42(1):99–130; \\nDeborah Brautigam, Kevin Gallagher, ‘Bartering globalisation’, Global Policy , 2014, 5(3):346–52; Cyril Obi, ‘The changing dynamics of Chinese oil \\nand gas engagement in Africa’, in Arkebe Oqubay, Justin Yifu Lin (eds), China–Africa and an economic transformation , Oxford University Press, 2019, \\n173–191.' metadata={'source': '/workspaces/info-assist/docs/sample_doc/China, climate change and the energy transition.pdf', 'page': 11}</mark><mark style=\"background-color: #fd8d3c;\">page_content='and gas engagement in Africa’, in Arkebe Oqubay, Justin Yifu Lin (eds), China–Africa and an economic transformation , Oxford University Press, 2019, \\n173–191.\\n19 Nikos Tsafos, ‘A new chapter in US–China LNG relations’, Center for Strategic and International Studies, 6\\xa0December 2021, CSIS, at online .' metadata={'source': '/workspaces/info-assist/docs/sample_doc/China, climate change and the energy transition.pdf', 'page': 11}</mark><mark style=\"background-color: #fdae6b;\">page_content='13\\n China, climate change and the energy transition\\n20 Melanie Hart, Luke Bassett, Blaine Johnson, Do not fall for the hype on US–China natural gas trade , Center for American Progress, April 2018, online .\\n21 Barry Eichengreen, Masahiro Kawai (eds), Renminbi internationalisation: achievements, prospects, and challenges , Brookings Institution Press, 2015; \\nMalhar Nabar, Camilo E Tovar, ‘Renminbi internationalisation’, in Modernising China: investing in soft infrastructure , International Monetary Fund, 2017, \\n249–277; Edwin L C-Lai, One currency, two markets , Cambridge University Press, 2021.\\n22 This is also an important diplomatic manoeuvre for both countries in the region because the North Field East covers Qatar’s 6,000-square-kilometre \\nsection adjacent to Iran’s 3,700-square-kilometre section. Qatar wants to be a big player in global gas supplies, while China wants to diversify its \\nimports while holding a balanced influence with all Gulf countries. Qatar is willing to give up a small stake for foreign investors more for strategic than \\neconomic reasons. Sinopec is negotiating with Qatar for 5% of the stake.\\n23 Daniel Yergin, The new map: energy, climate, and the clash of nations , Penguin, 2022. See also Oil dependence and US foreign policy, 1850–2022 , Council \\non Foreign Relations, online ; Erica Downs, ‘A friend in need is a friend indeed?’, Journal of International Affairs, 15 September 2022, online .\\n24 IEA, Key world energy statistics , OECD, Paris, 2022.\\n25 World Bank, Mid-term evaluation of China’s 11th Five-Year Plan , report no.\\xa046355-CN, December 2008, 35.\\n26 Barbara Finamore, ‘Will China save the planet’, Polity , 2018; Yifei Li, Judith Shapiro, ‘China goes green’, Polity , 2020, 35; Yashu Chen, Pauline Cheong, \\n‘“Airpocalypse” and the China smog crisis’, International Journal of Communication , 2019, 13:693–714.\\n27 Asian Development Bank, Emissions trading schemes and their linking: challenges and opportunities in Asia and the Pacific , 2016; Jie Wu, Qingyuan, \\nLiang Liang, ‘CO2 emissions and energy intensity reduction allocation over provincial industrial sectors in China,’ Applied Energy , 2016, 166:282–91.\\n28 Michal Meidan, Philip Andrews-Speed, China’s power crisis , Oxford Institute for Energy Studies, November 2021.\\n29 IRENA, ‘Electrification with renewables’, 2019, online ; EU Joint Research Centre Science for Policy, Global energy and climate outlook 2019: \\nelectrification for the low-carbon transition , European Commission, 2020; Occo Roelofsen et al., Plugging in , McKinsey, May 2020, online ; Mark Z \\nJacobson, 100% clean, renewable energy and storage for everything , Cambridge University Press, 2020.\\n30 See the discussion in IEA, Norway 2022: energy policy review , OECD, Paris, 2022.\\n31 Congressional Research Service (CRS), China and the United States: a comparison of green energy programs and policies , US\\xa0Congress, 30 August 2014.\\n32 Xu Yi-chong, ‘Energy and Environmental Challenges in China,’ in Energy Security in the Era of Climate Change , edited by Luca Anceschi and Jonathan \\nSymons, Palgrave Macmillan, 2012, p.93. Policies on energy technology innovation were part of the national science and technology development \\nstrategies adopted by the State Council in 2006. Reactions to these policies were: don’t worry; China cannot innovate; and all these policies were \\npart of the Chinese techno nationalism that would not produce any useful innovation. See, Andrew B Kennedy, The Conflicted Superpower , Columbia \\nUniversity Press, 2018; Douglas B Fuller, Paper Tigers, Hidden Dragons , Oxford University Press, 2016.\\n33 Innovation isn’t a linear development, but complex and overlapping stages of activities, from basic R&D in laboratories, experimental prototypes, \\nlarge demonstration projects of the first of the kind, to commercialisation and scaling up. See Richard K Lester, Michael J Piore, Innovation, the' metadata={'source': '/workspaces/info-assist/docs/sample_doc/China, climate change and the energy transition.pdf', 'page': 12}</mark><mark style=\"background-color: #fdd0a2;\">page_content='large demonstration projects of the first of the kind, to commercialisation and scaling up. See Richard K Lester, Michael J Piore, Innovation, the \\nmissing dimension , Harvard University Press, 2004; Richard K Lester, David M Hart, Unlocking energy innovation , MIT Press, 2012; Kelly Sims Gallagher, \\nJohn P Holdren, Ambuj D Sagar, ‘Energy–technology innovation’, Annual Review of Environment and Resources , 2006, 31:193–237; Jim Skea et al., \\n‘Understanding and measuring energy innovation’, Energy innovation for the twenty-first century , Elgard, 2019, 147–178.\\n34 For wind power development, see Joanna Lewis, Green innovation in China , Columbia University Press, 2012; Julia Kirch Kirkegaad, Wind power in \\nChina , Routledge, 2019. For solar power, see Gregory F Nemet, How solar energy became cheap: a model for low-carbon innovation , Routledge, 2019. \\nFor renewables in general, see Kelly Sims Gallagher, The globalisation of clean energy technology: lessons from China , MIT Press, 2014; Kelly Sims \\nGallagher, Xiaowei Xuan, Titans of the climate , 2018; Jonas Nahm, Collaborative advance , Oxford University Press.\\n35 A lot has been written on the gradual Chinese economic reforms. The phrase is from Barry Naughton, Growing out of the plan , Cambridge University \\nPress, 1995; Barry Naughton, The Chinese economy: transition and growth , MIT Press, 2007.\\n36 The wind curtailment in Inner Mongolia dropped from over 30% in 2016 to about 12% in 2021. Solar curtailment improved in Qinghai too but \\nremained at 10% even after policies were put in place guaranteeing renewables 100% access to the grid. See, ‘China’s renewable energy fleet is \\ngrowing too fast for its grid’, Bloomberg , 6 June 2022, at online ; Qi Ye, Lu Jiaqi, Zhu Mengye, Wind curtailment in China and lessons from the United \\nStates , Brookings Institution, March 2018; Shiyu Liu et al., ‘Curtailment of renewable energy in northwest China and market-based solution’, Energy \\nPolicy , 2018, 123:494–502.\\n37 For the technical analysis, see Michael G Pollitt, Reforming the Chinese electricity supply sector , Palgrave Macmillan, 2020.\\n38 IRENA, Renewable power generation costs in 2021 , 2022.\\n39 Trade disputes over solar PV panels between China and the US have been going on since 2011. Both sides took the issue to the World Trade \\nOrganization several times. The question was debated among economists who focus on manufacturing industries, trade specialists, \\nenvironmentalists and people in strategic studies. Even different government agencies, from the departments of State, Energy, Treasury and \\nCommerce to US trade representatives, have presented different views, and the same is case with different government agencies in China. There’s no \\nstraightforward right and wrong way of handling the issue, as many have pointed out: ‘If Biden decides to end tariffs, trade in solar products will be \\nfreer, which will boost his plans for shifting quickly to solar energy to reduce American dependency on fossil fuels and thus combat climate change. \\nOn the other hand, if he decides not to keep them, he could be accused of betraying American manufacturing workers and labour unions.’ This is \\nan interesting topic for international political economy, but it’s also beyond the scope of this paper. James Bacchus, Gabriella Beaumont-Smith, \\nLet the sun set on solar tariffs , CATO Institute, 19 January 2022; Melanie Hart, Shining a light on US–China clean energy cooperation , Center for \\nAmerican Progress, February 2012; CRS, China and the United States: a comparison of green energy programs and policies ; CRS, US solar photovoltaic \\nmanufacturing , 5 May 2022; IEA, Solar PV global supply chains: an IEA special report , OECD, Paris, July 2022; Ka Zeng, ‘Domestic politics and US–China \\ntrade disputes over renewable energy’, Journal of East Asian Studies , 2015, 15(3):423–54; David M Hart, The impact of China’s production surge on' metadata={'source': '/workspaces/info-assist/docs/sample_doc/China, climate change and the energy transition.pdf', 'page': 12}</mark><mark style=\"background-color: #a8d08d;\">page_content='trade disputes over renewable energy’, Journal of East Asian Studies , 2015, 15(3):423–54; David M Hart, The impact of China’s production surge on \\ninnovation in the global solar photovoltaics industry , Information Technology and Innovation Foundation, 2020.\\n40 IEA, Tracking clean energy innovation: focus on China , OECD, Paris, 2022, 6; Matthew Hopkins, Yin Li, ‘The rise of the Chinese solar photovoltaic \\nindustry’, in Yu Zhou et al. (eds), China as an innovation nation , Oxford University Press, 2016, 306–32.\\n41 CRS, ‘Renewable energy—a pathway to green jobs?’, 24 September 2009; Wim Naude, ‘Climate change and industrial policy,’ in A Szirmai, W Naude, \\nL Alcorta (eds), Pathways to industrialisation in the twenty-first century , Oxford University Press, 2013; Robert MacNeil, ‘Between innovation and' metadata={'source': '/workspaces/info-assist/docs/sample_doc/China, climate change and the energy transition.pdf', 'page': 12}</mark><mark style=\"background-color: #c6dbef;\">page_content='Strategic Insights14\\nAcronyms and abbreviations\\nBcm billion cubic metres\\nCCUS carbon capture, utilisation and storage\\nEU European Union\\nGDP gross domestic product\\nGW gigawatt\\nIAEA International Atomic Energy Agency\\nIEA International Energy Agency\\nKWh kilowatt-hour\\nLNG liquefied natural gas\\nmmt million metric tonnes\\nMWh megawatt-hour\\nNEA National Energy Administration\\nOECD Organisation for Economic Co-operation and Development\\nOPEC Organization of the Petroleum Exporting Countries\\nPV photovoltaic\\nR&D research and development\\nTWh terawatt-hour\\nUN United Nationsindustrial policy’, Prometheus, 2016, 34(3–4): 173–189. For a comparative study on the nexus of renewable energy and industrial policy, see Jonas \\nNahm, Collaborative advantage: forging green industries in the new global economy , Oxford University Press, 2021.\\n42 CRS, The global research and development landscape and implications for the Department of Defense , updated 28 June 2021.\\n43 CRS, Renewable energy R&D funding history, 18 June 2018 ; CRS, Federal climate change funding from FY\\xa02008 to FY\\xa02014 , updated 13 September 2013.\\n44 MacNeil, ‘Between innovation and industrial policy’; Jonas Nahm, Reimagine: Clean energy technology and US industrial policy , Center for a New \\nAmerican Security, September 2022, 1; Llewelyn Hughes, Jonas Meckling, ‘Policy competition in clean technology: scaling up or innovating up?’, \\nBusiness and Politics , 2018, 20(4): 588–614; Jonas Nahm, Reimagine: Clean energy technology and US industrial policy .\\n45 David J Teece, ‘Profiting from technological innovation’, Research Policy , 1986, 15(6):285–305; Reinhilde Veugelers, ‘Which policy instruments to \\ninduce clean innovation’, Research Policy , 2012, 41(10):1770–78; Gregory F Nemet, Vera Zipperer, Martina Kraus, ‘The valley of death, the technology \\npork barrel, and public support for large demonstration projects’, Energy Policy , 2018, 119:154–67.\\n46 John Kerry, ‘Remarks on the urgency of global climate action’, 20 July 2021, Royal Botanic Garden, Kew, London, at online.\\n47 This is a topic that deserves separate analysis. A comprehensive analysis of China’s investment in coal power projects in several Asian countries \\npresents a much more complex story of what mainstream media have presented as a simple push by China. See Kelly Sims Gallagher et al., ‘Banking \\non coal,’ Energy Research and Social Science , 2021, 71:101827.\\n48 The global economy has become much more integrated despite politicians’ intervention in the trend in the past decade in part because of technology \\ninnovation and in part due to the consequences of global integration that had taken place in the previous two or three decades. For the integrated \\nimpacts among different fuels,\\xa0see World Bank, The changing wealth of nations 2021 , Washington\\xa0DC, 2021.\\n49 In addition to tight coal supplies and rising electricity demand, incomplete electricity reform was a deeper root to the short-term electricity supply \\nproblems. That is, renewables become more competitive and are expanding, and government policy requires transmission companies to connect \\nall renewables. Coal-fired power plants are increasingly used as backup capacities with their utilisation rate dropped to a historical low. While \\nsome prices were freed in the past couple of years, no policy on how to recover capacity cost was yet developed. There was little incentive for \\npower generation companies to operate their power plants. This was only one of the many hiccups in a complex and intricate electricity system and \\nelectricity reform process.\\n50 Electricity reform has been as old as general economic reform in China. Major reforms took place in 1997 that led to corporatisation of some energy \\nsegments, and in 2002 when the electricity industry was unbundled vertically. Several attempts were made to create some sorts of electricity market' metadata={'source': '/workspaces/info-assist/docs/sample_doc/China, climate change and the energy transition.pdf', 'page': 13}</mark><mark style=\"background-color: #e6550d;\">page_content='segments, and in 2002 when the electricity industry was unbundled vertically. Several attempts were made to create some sorts of electricity market \\nsystems. ‘Pricing’ remains one of the most difficult issues. Several studies are available on the electricity reforms: IEA, China’s power sector reforms, \\n2006 ; Power sector reform in China , 2018; China power system transformation , 2019. See also Xu Yi-chong, Sinews of power , Oxford University Press, \\n2017.\\n51 Nikos Tsafos, ‘China’s climate change strategy and US–China competition’, statement before the US–China Economic and Security Review \\nCommission, 17 March 2022, 2.\\n52 World Bank, China: Country climate and development report , 2022, 4.\\n53 Jonas Meckling et al., ‘Energy innovation funding and institutions with major economies’, Nature Energy , September 2022, 7:881.' metadata={'source': '/workspaces/info-assist/docs/sample_doc/China, climate change and the energy transition.pdf', 'page': 13}</mark><mark style=\"background-color: #fd8d3c;\">page_content='15\\n China, climate change and the energy transition\\nAbout the author\\nProfessor Xu Yi-chong FASSA, School of Government and International Relations, Griffith University. Previous research and publications on energy \\ninclude: The Sinews of Power (OUP, 2017), The Politics of Nuclear Energy in China (2010); Electricity Reform in China, India and Russia  (2004); Powering China  \\n(2002); and on international organisations with Professor Patrick Weller: The Working World of International Organisations  (2018); Inside the World Bank  \\n(2009), The Governance of World Trade , (2004); The Politics of International Organisations  (2015), and International Organisations and Small States  (with \\nWeller and Jack Cobbett).\\nAcknowledgements\\nASPI would like to thank the Konrad Adenauer Stiftung for its generous support for the research and publication of this edition of Strategic Insights .\\nAbout ASPI\\nThe Australian Strategic Policy Institute was formed in 2001 as an independent, non -partisan think tank. Its core aim is to provide the Australian \\nGovernment with fresh ideas on Australia’s defence, security and strategic policy choices. ASPI is responsible for informing the public on a range of \\nstrategic issues, generating new thinking for government and harnessing strategic thinking internationally. ASPI’s sources of funding are identified in \\nour annual report, online at www.aspi.org.au  and in the acknowledgements section of individual publications. ASPI remains independent in the content \\nof the research and in all editorial judgements. It is incorporated as a company, and is governed by a Council with broad membership. ASPI’s core values \\nare collegiality, originality & innovation, quality & excellence and independence.\\nASPI’s publications—including this paper—are not intended in any way to express or reflect the views of the Australian Government. The opinions and \\nrecommendations in this paper are published by ASPI to promote public debate and understanding of strategic and defence issues. They\\xa0reflect the \\npersonal views of the author(s) and should not be seen as representing the formal position of ASPI on any particular issue.\\nImportant disclaimer\\nThis publication is designed to provide accurate and authoritative information in relation to the subject matter covered. It\\u202fis provided with the \\nunderstanding that the publisher is not engaged in rendering any form of professional or other advice or services. No person should rely on the  \\ncontents of this publication without first obtaining advice from a qualified professional.\\nAbout Strategic Insights\\nStrategic Insights are short studies intended to provide expert perspectives on topical policy issues. They reflect the personal views of the author(s), \\nand do not in any way express or reflect the views of the Australian Government or represent the formal position of ASPI on any\\xa0particular\\u202fissue.\\nASPI\\nTel Canberra: +61 2 6270 5100\\nTel Washington DC: +1 202 414 7353\\nEmail enquiries@aspi.org.au\\nwww.aspi.org.au\\nwww.aspistrategist.org.au\\n facebook.com/ASPI.org\\n @ASPI_org\\nISSN 1449 -3993\\n© The Australian Strategic Policy Institute Limited\\xa02023\\nThis publication is subject to copyright. Except as permitted under the Copyright Act 1968 , no part of it may in any form or by any means (electronic, \\nmechanical, microcopying, photocopying, recording or otherwise) be reproduced, stored in a retrieval system or transmitted without prior written \\npermission. Enquiries should be addressed to the\\xa0publisher.\\nNotwithstanding the above, educational institutions (including schools, independent colleges, universities and TAFEs) are granted permission to make \\ncopies of copyrighted works strictly for educational purposes without explicit permission from ASPI and free of charge.\\nFunding support for this \\npublication was provided by \\nKonrad-Adenauer-Stiftung.' metadata={'source': '/workspaces/info-assist/docs/sample_doc/China, climate change and the energy transition.pdf', 'page': 14}</mark><mark style=\"background-color: #fdae6b;\">page_content='China, climate change and the energy transition' metadata={'source': '/workspaces/info-assist/docs/sample_doc/China, climate change and the energy transition.pdf', 'page': 15}</mark>"
      ],
      "text/plain": [
       "<IPython.core.display.HTML object>"
      ]
     },
     "metadata": {},
     "output_type": "display_data"
    },
    {
     "name": "stdout",
     "output_type": "stream",
     "text": [
      "Number of Colored Chunks for /workspaces/info-assist/docs/sample_doc/China, climate change and the energy transition.pdf: 29\n",
      "Summary for:  /workspaces/info-assist/docs/sample_doc/China, climate change and the energy transition.pdf\n",
      "This report examines China's significant shift towards renewable energy amidst global efforts to transition from fossil fuels to low-carbon energy sources due to climate change and energy security concerns. China's actions present a mix of impressive strides and daunting challenges in the energy transformation landscape. As the largest coal producer, consumer, and CO2 emitter, China's management of its energy transition will have substantial domestic and global impacts on social, economic, and environmental fronts.\n",
      "\n",
      "China has committed to peaking carbon emissions by 2030 and achieving carbon neutrality by 2060. Its energy policy has shifted to include renewables such as wind and solar, alongside traditional coal, oil, and natural gas. Technology innovation is a critical driver of this transition, creating opportunities as well as intensifying global competition.\n",
      "\n",
      "The report provides a glimpse into China's energy challenges, policies, and the geopolitical context of its energy transformation. It discusses conventional energy sources, the growing role of electricity, and the significance of energy technologies. It highlights the complexities of balancing energy supply stability with the shift to low-carbon sources.\n",
      "\n",
      "China's domestic politics and fragmented institutional setting play a significant role in the energy transition process, which requires structural changes in the economy and society. As China progresses, its decisions will influence the global political, economic, and energy landscape, especially with its investments in a wide range of energy technologies that are critical for a carbon-neutral future.\n",
      "\n",
      "\n"
     ]
    }
   ],
   "source": [
    "summaries = summarize_pdfs_from_folder(\"/workspaces/info-assist/docs/sample_doc\")\n",
    "# This is stuff chain summary and it works\n",
    "\n",
    "#16 pages 29 chunks. 29 colored chunks"
   ]
  },
  {
   "cell_type": "code",
   "execution_count": null,
   "metadata": {},
   "outputs": [],
   "source": [
    "#Map Reduce Chain"
   ]
  },
  {
   "cell_type": "code",
   "execution_count": 95,
   "metadata": {},
   "outputs": [],
   "source": [
    "#chunking method changed and prompt variations and start of map reduce chain\n",
    "from langchain.text_splitter import RecursiveCharacterTextSplitter"
   ]
  },
  {
   "cell_type": "code",
   "execution_count": 99,
   "metadata": {},
   "outputs": [],
   "source": [
    "text_splitter = RecursiveCharacterTextSplitter(separators=[\"\\n\\n\", \"\\n\"], chunk_size=3000, chunk_overlap=300)\n",
    "\n",
    "docs = text_splitter.create_documents([text])"
   ]
  },
  {
   "cell_type": "code",
   "execution_count": 101,
   "metadata": {},
   "outputs": [
    {
     "name": "stdout",
     "output_type": "stream",
     "text": [
      "Now we have 28 documents and the first one has 544 tokens\n"
     ]
    }
   ],
   "source": [
    "num_docs = len(docs)\n",
    "\n",
    "num_tokens_first_doc = model.get_num_tokens(docs[0].page_content)\n",
    "\n",
    "print (f\"Now we have {num_docs} documents and the first one has {num_tokens_first_doc} tokens\")"
   ]
  },
  {
   "cell_type": "code",
   "execution_count": 102,
   "metadata": {},
   "outputs": [],
   "source": [
    "summary_chain = load_summarize_chain(llm=model, chain_type='map_reduce',\n",
    "#                                      verbose=True # Set verbose=True if you want to see the prompts being used\n",
    "                                    )"
   ]
  },
  {
   "cell_type": "code",
   "execution_count": null,
   "metadata": {},
   "outputs": [],
   "source": [
    "#Bullet Summary"
   ]
  },
  {
   "cell_type": "code",
   "execution_count": 104,
   "metadata": {},
   "outputs": [],
   "source": [
    "map_prompt = \"\"\"\n",
    "Write a concise summary of the following:\n",
    "\"{text}\"\n",
    "CONCISE SUMMARY:\n",
    "\"\"\"\n",
    "map_prompt_template = PromptTemplate(template=map_prompt, input_variables=[\"text\"])"
   ]
  },
  {
   "cell_type": "code",
   "execution_count": 105,
   "metadata": {},
   "outputs": [],
   "source": [
    "combine_prompt = \"\"\"\n",
    "Write a concise summary of the following text delimited by triple backquotes.\n",
    "Return your response in bullet points which covers the key points of the text.\n",
    "```{text}```\n",
    "BULLET POINT SUMMARY:\n",
    "\"\"\"\n",
    "combine_prompt_template = PromptTemplate(template=combine_prompt, input_variables=[\"text\"])"
   ]
  },
  {
   "cell_type": "code",
   "execution_count": 107,
   "metadata": {},
   "outputs": [],
   "source": [
    "summary_chain = load_summarize_chain(llm=model,\n",
    "                                     chain_type='map_reduce',\n",
    "                                     map_prompt=map_prompt_template,\n",
    "                                     combine_prompt=combine_prompt_template,\n",
    "#                                      verbose=True\n",
    "                                    )"
   ]
  },
  {
   "cell_type": "code",
   "execution_count": 109,
   "metadata": {},
   "outputs": [
    {
     "name": "stdout",
     "output_type": "stream",
     "text": [
      "- Xu Yi-chong discussed China's role in the energy transition, emphasizing the move from fossil fuels to low-carbon energy due to environmental and security reasons.\n",
      "- China faces challenges as the largest coal producer and consumer, top CO2 emitter, and with the highest population energy demands.\n",
      "- China aims to peak emissions by 2030 and achieve carbon neutrality by 2060, necessitating wide-ranging economic reforms.\n",
      "- The main CO2 sources are electricity/heat production, industry, and transport, mostly from coal combustion.\n",
      "- Energy-intensive materials production, like steel and cement using coal, leads to high emissions intensity in China.\n",
      "- The electricity industry in China is working to peak emissions by 2028 and integrate more low-carbon sources to satisfy increasing demand.\n",
      "- China's 2050 energy strategy includes a diverse mix with reduced electricity sector emissions.\n",
      "- Global fossil fuel demand is expected to peak in the mid-2020s, but China may see short-term rises in coal use.\n",
      "- China's energy strategy incorporates both conventional and renewable sources, focusing on innovative technologies such as geothermal and hydrogen.\n",
      "- The country's energy transition is managed by a mixture of state-owned, private, and multinational companies, with different government levels competing for influence.\n",
      "- Over 70% of China's oil and natural gas consumption is imported, making it susceptible to global market volatility.\n",
      "- China is broadening its natural gas sources and increasing imports from countries like Russia and Qatar.\n",
      "- China has expanded electricity capacity, closing inefficient coal plants and improving efficiency to lessen environmental impacts.\n",
      "- The energy transformation demands a fundamental revamp of the electricity system, with investment in low-carbon tech and regional interconnectivity improvements.\n",
      "- Policies like the Renewable Energy Law and Five-Year Plans support renewable energy growth and address environmental concerns.\n",
      "- China's innovation plan in energy technology spans four main areas and involves an integrated system from R&D to demonstration projects.\n",
      "- Renewable capacity has seen significant growth, with China leading in various renewable sectors and contributing greatly to global renewable energy expansion.\n",
      "- Regional overcapacity and transmission issues have led to energy waste in wind and solar sectors.\n",
      "- China's renewable expansion has significantly lowered global costs for solar PV and wind power technologies.\n",
      "- China's R&D investment has grown, focusing on renewables, but faces challenges in commercializing new technologies.\n",
      "- Government support is essential for a diverse range of energy transformation technologies.\n",
      "- China continues to depend on coal, occasionally relaxing restrictions due to energy shortages, and faces local government excess capacity building.\n",
      "- The country's energy policies reflect a dual approach, leading in both coal usage and renewables innovation.\n",
      "- China's energy transition is marked by economic challenges, with aims to develop clean-energy markets and meet climate commitments by 2030/2060 amidst complex political situations.\n",
      "- Literature reviews China's impact on global energy, climate change, and discusses its strategic energy partnerships' geopolitical implications.\n",
      "- China's 2006 national energy technology innovation strategies were initially viewed as techno-nationalism, but progress has been made, especially in wind and solar.\n",
      "- The text touches on international political economy issues, including US-China trade disputes over solar PV, and President Biden's tariff dilemma.\n",
      "- Studies on China's electricity sector reform, renewable power costs, solar PV industry, and green job potential are referenced.\n",
      "- The passage examines China's influence on global solar PV innovation and contrasts green energy policies with the US.\n",
      "- China's electricity sector grapples with integrating renewables into the grid and incentivizing coal power due to policy ambiguity.\n",
      "- The Australian Strategic Policy Institute (ASPI), funded by the Konrad Adenauer Stiftung, provides strategic policy insights, with its publications reflecting authors' views for informational purposes.\n"
     ]
    }
   ],
   "source": [
    "output = summary_chain.run(docs)\n",
    "print (output)"
   ]
  },
  {
   "cell_type": "code",
   "execution_count": null,
   "metadata": {},
   "outputs": [],
   "source": [
    "#Theme Summary"
   ]
  },
  {
   "cell_type": "code",
   "execution_count": 114,
   "metadata": {},
   "outputs": [],
   "source": [
    "map_prompt1 = \"\"\"\n",
    "The following is a set of documents:\n",
    "\n",
    "\"{text}\"\n",
    "\n",
    "Based on this list of docs, please identify the main themes \n",
    "\n",
    "Helpful Answer:\n",
    "\"\"\"\n",
    "map_prompt_template1 = PromptTemplate(template=map_prompt, input_variables=[\"text\"])\n",
    "\n",
    "\n"
   ]
  },
  {
   "cell_type": "code",
   "execution_count": 118,
   "metadata": {},
   "outputs": [],
   "source": [
    "combine_prompt1 = \"\"\"\n",
    "The following is set of summaries:\n",
    "{doc_summaries}\n",
    "Take these and distill it into a final, consolidated summary of the main themes. \n",
    "Helpful Answer:\n",
    "\"\"\"\n",
    "combine_prompt_template1 = PromptTemplate(template=combine_prompt, input_variables=[\"text\"])"
   ]
  },
  {
   "cell_type": "code",
   "execution_count": 119,
   "metadata": {},
   "outputs": [],
   "source": [
    "summary_chain1 = load_summarize_chain(llm=model,\n",
    "                                     chain_type='map_reduce',\n",
    "                                     map_prompt=map_prompt_template1,\n",
    "                                     combine_prompt=combine_prompt_template1,\n",
    "#                                      verbose=True\n",
    "                                    )"
   ]
  },
  {
   "cell_type": "code",
   "execution_count": 120,
   "metadata": {},
   "outputs": [
    {
     "name": "stdout",
     "output_type": "stream",
     "text": [
      "- Energy Transition: China is shifting from fossil fuels to low-carbon energy sources to address climate change and ensure energy security.\n",
      "- Climate Change: China aims to mitigate climate-related disasters through its energy transition.\n",
      "- Geostrategic Change: Renewable energy is reshaping international relations and power dynamics.\n",
      "- Technological Innovation: Technology plays a crucial role in China's energy transformation and strategic positioning.\n",
      "- China's Challenges: The country must balance energy security, economic growth, and environmental sustainability.\n",
      "- Renewable Energy Policies: China is integrating renewables into its energy strategy, alongside other nations.\n",
      "- Future of Conventional Energy: Oil and natural gas will continue to play a role in China's energy mix.\n",
      "- Electricity and Tech Advancements: China is making progress in its electricity sector and energy technologies.\n",
      "- Socioeconomic Changes: Energy transformation requires fundamental changes in the economy and society.\n",
      "- China's Global Position: The management of China's energy has both domestic and international implications.\n",
      "\n",
      "- Energy Transition Challenges: China, as the world's largest coal producer and CO2 emitter, faces significant obstacles.\n",
      "- Climate Commitments: China targets carbon neutrality by 2060 and aims to peak emissions by 2030.\n",
      "- Comparison with Other Regions: China's energy transition timeline is shorter compared to the EU, US, and Japan.\n",
      "- Emissions Sources: Electricity/heat production, industry, and transport are major emission sources in China.\n",
      "- Role of Manufacturing: China's status as a global manufacturing hub results in high emissions from coal combustion.\n",
      "- Diversification in Energy Policy: China's energy strategy includes a variety of sources in response to climate change.\n",
      "\n",
      "- Industrial Production Impact: China's production of high-polluting products significantly affects the environment.\n",
      "- International Trade: As a major exporter of materials like cement and steel, China is deeply intertwined with global trade.\n",
      "- Emissions Intensity: China's energy and emissions intensity must improve.\n",
      "- Energy Transition Roadmap: China plans to electrify sectors and change the energy structure for a low-carbon economy.\n",
      "- Electrification Progress: China is working to electrify various sectors amid growing electricity demand.\n",
      "- Carbon Reduction Targets: China seeks a 90% reduction in electricity system carbon emissions by 2050.\n",
      "- Energy Mix Transformation: The energy mix is shifting towards more renewables and nuclear energy, with some coal and natural gas.\n",
      "- Policy and Economic Challenges: Ambitious climate goals must be met while maintaining a stable energy supply.\n",
      "- Peak Fossil Fuel Demand: Global fossil fuel demand is expected to peak, signaling structural changes.\n",
      "- Innovation and Intellectual Property: Innovation in renewables is key, with an increase in patents indicating growth.\n",
      "\n",
      "- Low-Carbon Tech Development: Offshore wind, CCUS, and green hydrogen development are crucial for emission reduction.\n",
      "- Global Energy Transition: The transition is complex and influenced by innovation, policy, and economic conditions.\n",
      "- Geopolitical Impacts: Energy technology changes are shifting the global energy landscape and geopolitics.\n",
      "- China's Energy Role: China's strategy includes both conventional and renewable energy innovations.\n",
      "- Energy Transition Uncertainty: The transition is complex with multiple stakeholders and economic conditions.\n",
      "\n",
      "- China's Political System: The fragmented political structure in China affects the energy transition.\n",
      "- Conventional Resources and Imports: China relies on imported oil and natural gas, becoming the largest importer.\n",
      "- Environmental Commitments: China is committed to reducing carbon intensity by using cleaner energy sources like natural gas.\n",
      "\n",
      "- Energy Transition and Trade: China is adjusting energy strategies in response to climate change and trade tensions.\n",
      "- Gas Market Dynamics: China is responding to gas price fluctuations and diversifying import sources for energy security.\n",
      "\n",
      "- Global Impact and Strategy: China is transitioning to cleaner energy, managing import vulnerability, and engaging in strategic energy deals.\n",
      "- Domestic Challenges and Responses: China is reducing coal reliance, closing inefficient plants, and fostering energy technology innovation.\n",
      "- Renewable Energy Sector Role: China contributes significantly to global renewable growth and is addressing domestic production imbalances.\n",
      "- Solar PV Industry Shifts: China dominates the solar PV industry, impacting global trade and innovation.\n",
      "\n",
      "- Energy R&D Expenditures: Investment trends and the strategic impact of China's renewable R&D are discussed.\n",
      "- Renewable Tech Maturity: Some renewable technologies are competitive, while others are developing.\n",
      "- Energy Strategies Diversity: Countries have diverse energy strategies based on their resources and priorities.\n",
      "- China's Energy Consumption Mix: The shift from coal to renewables and natural gas is outlined.\n",
      "- Coal Dependence Challenges: China's high coal consumption and construction of new coal plants pose challenges.\n",
      "- Energy Supply Issues: In response to blackouts and energy supply issues, China is expanding renewable energy.\n",
      "- Energy Security and Excess Capacity: China prioritizes energy security, leading to new coal plant construction.\n",
      "- Renewable Energy Advancement: China's leadership in renewable capacity contrasts with its status as a major emitter.\n",
      "- Global Energy Transition Themes: China's climate and energy policy, renewable energy innovation, and energy geopolitics are key topics.\n",
      "- Energy and Environmental Policy: Technological innovation, economic implications, and international relations are central themes, with a focus on China.\n"
     ]
    }
   ],
   "source": [
    "output1 = summary_chain1.run(docs)\n",
    "print (output1)"
   ]
  }
 ],
 "metadata": {
  "kernelspec": {
   "display_name": "Python 3",
   "language": "python",
   "name": "python3"
  },
  "language_info": {
   "codemirror_mode": {
    "name": "ipython",
    "version": 3
   },
   "file_extension": ".py",
   "mimetype": "text/x-python",
   "name": "python",
   "nbconvert_exporter": "python",
   "pygments_lexer": "ipython3",
   "version": "3.10.12"
  }
 },
 "nbformat": 4,
 "nbformat_minor": 2
}
