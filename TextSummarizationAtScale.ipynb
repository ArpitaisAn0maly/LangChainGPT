{
 "cells": [
  {
   "cell_type": "code",
   "execution_count": 1,
   "metadata": {},
   "outputs": [
    {
     "name": "stderr",
     "output_type": "stream",
     "text": [
      "/tmp/ipykernel_594/3622290940.py:1: DeprecationWarning: \n",
      "Pyarrow will become a required dependency of pandas in the next major release of pandas (pandas 3.0),\n",
      "(to allow more performant data types, such as the Arrow string type, and better interoperability with other libraries)\n",
      "but was not found to be installed on your system.\n",
      "If this would cause problems for you,\n",
      "please provide us feedback at https://github.com/pandas-dev/pandas/issues/54466\n",
      "        \n",
      "  import pandas as pd\n"
     ]
    }
   ],
   "source": [
    "\n",
    "from langchain import  PromptTemplate\n",
    "\n"
   ]
  },
  {
   "cell_type": "code",
   "execution_count": 4,
   "metadata": {},
   "outputs": [
    {
     "data": {
      "text/plain": [
       "False"
      ]
     },
     "execution_count": 4,
     "metadata": {},
     "output_type": "execute_result"
    }
   ],
   "source": [
    "from dotenv import load_dotenv\n",
    "\n",
    "\n",
    "os.environ[\"OPENAI_API_TYPE\"] = OPENAI_API_TYPE\n",
    "os.environ[\"OPENAI_API_VERSION\"] = OPENAI_API_VERSION\n",
    "os.environ[\"OPENAI_API_BASE\"] = OPENAI_API_BASE\n",
    "os.environ[\"AZURE_OPENAI_ENDPOINT\"] = OPENAI_API_BASE\n",
    "os.environ[\"OPENAI_API_KEY\"] = OPENAI_API_KEY\n",
    "os.environ[\"OPENAI_DEPLOYMENT_NAME\"] = OPENAI_DEPLOYMENT_NAME\n",
    "\n",
    "load_dotenv()"
   ]
  },
  {
   "cell_type": "code",
   "execution_count": 6,
   "metadata": {},
   "outputs": [],
   "source": [
    "\n",
    "from langchain.chat_models import AzureChatOpenAI\n",
    "from langchain.schema import HumanMessage"
   ]
  },
  {
   "cell_type": "code",
   "execution_count": 8,
   "metadata": {},
   "outputs": [
    {
     "name": "stderr",
     "output_type": "stream",
     "text": [
      "/home/vscode/.local/lib/python3.10/site-packages/langchain_core/_api/deprecation.py:117: LangChainDeprecationWarning: The class `langchain_community.chat_models.azure_openai.AzureChatOpenAI` was deprecated in langchain-community 0.0.10 and will be removed in 0.2.0. An updated version of the class exists in the langchain-openai package and should be used instead. To use it run `pip install -U langchain-openai` and import as `from langchain_openai import AzureChatOpenAI`.\n",
      "  warn_deprecated(\n"
     ]
    }
   ],
   "source": [
    "# Test the model connection\n",
    "model = AzureChatOpenAI(\n",
    "    openai_api_version=OPENAI_API_VERSION,\n",
    "    deployment_name=OPENAI_DEPLOYMENT_NAME,\n",
    ")\n",
    "  "
   ]
  },
  {
   "cell_type": "code",
   "execution_count": 9,
   "metadata": {},
   "outputs": [
    {
     "name": "stderr",
     "output_type": "stream",
     "text": [
      "/home/vscode/.local/lib/python3.10/site-packages/langchain_core/_api/deprecation.py:117: LangChainDeprecationWarning: The function `__call__` was deprecated in LangChain 0.1.7 and will be removed in 0.2.0. Use invoke instead.\n",
      "  warn_deprecated(\n"
     ]
    },
    {
     "data": {
      "text/plain": [
       "AIMessage(content=\"J'aime la programmation.\")"
      ]
     },
     "execution_count": 9,
     "metadata": {},
     "output_type": "execute_result"
    }
   ],
   "source": [
    "message = HumanMessage(\n",
    "    content=\"Translate this sentence from English to French. I love programming.\"\n",
    ")\n",
    "model([message])\n",
    "\n"
   ]
  },
  {
   "cell_type": "code",
   "execution_count": 10,
   "metadata": {},
   "outputs": [],
   "source": [
    "from langchain.document_loaders import PyPDFLoader\n",
    "# Load the book\n",
    "loader = PyPDFLoader(\"/workspaces/info-assist/docs/Into-Thin-Air-_Novella_-Krakauer.pdf\")\n",
    "pages = loader.load()\n",
    "\n",
    "# Cut out the open and closing parts\n",
    "# pages = pages[0:36]\n",
    "\n",
    "# Combine the pages, and replace the tabs with spaces\n",
    "text = \"\"\n",
    "\n",
    "for page in pages:\n",
    "    text += page.page_content\n",
    "    \n",
    "text = text.replace('\\t', ' ')"
   ]
  },
  {
   "cell_type": "code",
   "execution_count": 11,
   "metadata": {},
   "outputs": [
    {
     "data": {
      "text/plain": [
       "126727"
      ]
     },
     "execution_count": 11,
     "metadata": {},
     "output_type": "execute_result"
    }
   ],
   "source": [
    "num_tokens=model.get_num_tokens(text)\n",
    "num_tokens"
   ]
  },
  {
   "cell_type": "code",
   "execution_count": 12,
   "metadata": {},
   "outputs": [],
   "source": [
    "# Loaders\n",
    "from langchain.schema import Document\n",
    "\n",
    "# Splitters\n",
    "from langchain.text_splitter import RecursiveCharacterTextSplitter\n",
    "\n",
    "\n",
    "# Embedding Support\n",
    "\n",
    "from langchain.embeddings import AzureOpenAIEmbeddings\n",
    "\n",
    "# LLM Part :Summarizer is Map Reduce\n",
    "from langchain.chains.summarize import load_summarize_chain\n",
    "\n",
    "# Data Science part\n",
    "import numpy as np\n",
    "from sklearn.cluster import KMeans"
   ]
  },
  {
   "cell_type": "code",
   "execution_count": 13,
   "metadata": {},
   "outputs": [],
   "source": [
    "text_splitter = RecursiveCharacterTextSplitter(separators=[\"\\n\\n\", \"\\n\", \"\\t\"], chunk_size=10000, chunk_overlap=3000)\n",
    "\n",
    "docs = text_splitter.create_documents([text])"
   ]
  },
  {
   "cell_type": "code",
   "execution_count": 14,
   "metadata": {},
   "outputs": [
    {
     "name": "stdout",
     "output_type": "stream",
     "text": [
      "Now our book is split up into 73 documents\n"
     ]
    }
   ],
   "source": [
    "num_documents = len(docs)\n",
    "\n",
    "print (f\"Now our book is split up into {num_documents} documents\")"
   ]
  },
  {
   "cell_type": "code",
   "execution_count": 15,
   "metadata": {},
   "outputs": [
    {
     "name": "stderr",
     "output_type": "stream",
     "text": [
      "/home/vscode/.local/lib/python3.10/site-packages/langchain_core/_api/deprecation.py:117: LangChainDeprecationWarning: The class `langchain_community.embeddings.azure_openai.AzureOpenAIEmbeddings` was deprecated in langchain-community 0.1.0 and will be removed in 0.2.0. An updated version of the class exists in the langchain-openai package and should be used instead. To use it run `pip install -U langchain-openai` and import as `from langchain_openai import AzureOpenAIEmbeddings`.\n",
      "  warn_deprecated(\n"
     ]
    }
   ],
   "source": [
    "\n",
    "embeddings = AzureOpenAIEmbeddings(\n",
    "    azure_deployment=\"text-embedding-ada-002\",\n",
    "    openai_api_version=\"2023-06-01-preview\",\n",
    ")"
   ]
  },
  {
   "cell_type": "code",
   "execution_count": 16,
   "metadata": {},
   "outputs": [],
   "source": [
    "\n",
    "vectors = embeddings.embed_documents([x.page_content for x in docs])"
   ]
  },
  {
   "cell_type": "code",
   "execution_count": 18,
   "metadata": {},
   "outputs": [],
   "source": [
    "from sklearn.manifold import TSNE\n",
    "\n",
    "import warnings\n",
    "from warnings import simplefilter\n",
    "\n",
    "# Filter out FutureWarnings\n",
    "simplefilter(action='ignore', category=FutureWarning)\n",
    "\n",
    "# Perform t-SNE and reduce from 1536 dimension to 2 dimensions\n",
    "tsne = TSNE(n_components=2, random_state=12)\n",
    "\n",
    "vectors = np.array(vectors)\n",
    "reduced_data_tsne = tsne.fit_transform(vectors)"
   ]
  },
  {
   "cell_type": "code",
   "execution_count": 92,
   "metadata": {},
   "outputs": [],
   "source": [
    "#Clustering on reduced dimentional data"
   ]
  },
  {
   "cell_type": "code",
   "execution_count": 19,
   "metadata": {},
   "outputs": [],
   "source": [
    "num_clusters = 5\n",
    "\n",
    "# Perform K-means clustering\n",
    "kmeans = KMeans(n_clusters=num_clusters, random_state=42).fit(reduced_data_tsne)"
   ]
  },
  {
   "cell_type": "code",
   "execution_count": 20,
   "metadata": {},
   "outputs": [
    {
     "data": {
      "text/plain": [
       "array([1, 2, 2, 2, 2, 2, 2, 2, 2, 2, 2, 1, 1, 1, 1, 1, 1, 1, 3, 2, 3, 2,\n",
       "       2, 0, 0, 0, 3, 0, 0, 0, 0, 0, 0, 0, 1, 1, 3, 3, 4, 4, 3, 3, 0, 0,\n",
       "       1, 3, 4, 4, 4, 3, 3, 3, 3, 3, 4, 4, 4, 4, 4, 4, 4, 4, 4, 4, 4, 4,\n",
       "       4, 1, 1, 1, 0, 0, 1], dtype=int32)"
      ]
     },
     "execution_count": 20,
     "metadata": {},
     "output_type": "execute_result"
    }
   ],
   "source": [
    "kmeans.labels_"
   ]
  },
  {
   "cell_type": "code",
   "execution_count": 22,
   "metadata": {},
   "outputs": [
    {
     "data": {
      "image/png": "[encoded data removed]",
      "text/plain": [
       "<Figure size 640x480 with 1 Axes>"
      ]
     },
     "metadata": {},
     "output_type": "display_data"
    }
   ],
   "source": [
    "# Plot the reduced data\n",
    "import matplotlib.pyplot as plt\n",
    "plt.scatter(reduced_data_tsne[:, 0], reduced_data_tsne[:, 1], c=kmeans.labels_)\n",
    "plt.xlabel('Dimension 1')\n",
    "plt.ylabel('Dimension 2')\n",
    "plt.title('Clustering of emebedded chunks')\n",
    "plt.show()"
   ]
  },
  {
   "cell_type": "code",
   "execution_count": 27,
   "metadata": {},
   "outputs": [],
   "source": [
    "# Create DataFrame from reduced dimentions and cluster labels\n",
    "df = pd.DataFrame({\n",
    "    'Dimension 1': reduced_data_tsne[:, 0],\n",
    "    'Dimension 2': reduced_data_tsne[:, 1],\n",
    "    'Cluster': kmeans.labels_\n",
    "})"
   ]
  },
  {
   "cell_type": "code",
   "execution_count": null,
   "metadata": {},
   "outputs": [],
   "source": [
    "#find the most representative vector from each cluster"
   ]
  },
  {
   "cell_type": "code",
   "execution_count": 59,
   "metadata": {},
   "outputs": [
    {
     "data": {
      "application/vnd.plotly.v1+json": {
       "config": {
        "plotlyServerURL": "https://plot.ly"
       },
       "data": [
        {
         "hovertemplate": "Dimension 1=%{x}<br>Dimension 2=%{y}<br>Cluster=%{marker.color}<extra></extra>",
         "legendgroup": "",
         "marker": {
          "color": [
           1,
           2,
           2,
           2,
           2,
           2,
           2,
           2,
           2,
           2,
           2,
           1,
           1,
           1,
           1,
           1,
           1,
           1,
           3,
           2,
           3,
           2,
           2,
           0,
           0,
           0,
           3,
           0,
           0,
           0,
           0,
           0,
           0,
           0,
           1,
           1,
           3,
           3,
           4,
           4,
           3,
           3,
           0,
           0,
           1,
           3,
           4,
           4,
           4,
           3,
           3,
           3,
           3,
           3,
           4,
           4,
           4,
           4,
           4,
           4,
           4,
           4,
           4,
           4,
           4,
           4,
           4,
           1,
           1,
           1,
           0,
           0,
           1
          ],
          "coloraxis": "coloraxis",
          "opacity": 0.7,
          "symbol": "circle"
         },
         "mode": "markers",
         "name": "",
         "orientation": "v",
         "showlegend": false,
         "type": "scatter",
         "x": [
          7.079259872436523,
          8.058245658874512,
          8.004104614257812,
          7.440629482269287,
          7.6642680168151855,
          7.84203577041626,
          8.265177726745605,
          8.142950057983398,
          8.647232055664062,
          9.128618240356445,
          9.195128440856934,
          9.228986740112305,
          8.982346534729004,
          9.950430870056152,
          9.860164642333984,
          7.85875129699707,
          8.112189292907715,
          9.67741870880127,
          9.684796333312988,
          9.445503234863281,
          9.884932518005371,
          6.244842052459717,
          9.580960273742676,
          11.55738639831543,
          10.790160179138184,
          10.865378379821777,
          10.801736831665039,
          13.13789176940918,
          13.292922019958496,
          13.484877586364746,
          13.42899227142334,
          12.146565437316895,
          11.495433807373047,
          11.249114990234375,
          9.644006729125977,
          9.742239952087402,
          11.271617889404297,
          11.143391609191895,
          14.49031925201416,
          14.78023910522461,
          12.022953033447266,
          11.859742164611816,
          11.529498100280762,
          11.553080558776855,
          11.30595588684082,
          12.1153564453125,
          15.30691909790039,
          14.302658081054688,
          15.36797046661377,
          12.3366060256958,
          12.474289894104004,
          13.151968002319336,
          13.231839179992676,
          13.637492179870605,
          13.636819839477539,
          13.305688858032227,
          13.551182746887207,
          13.965397834777832,
          13.60882568359375,
          12.815040588378906,
          12.601749420166016,
          13.173502922058105,
          13.692185401916504,
          14.484696388244629,
          14.709521293640137,
          15.125646591186523,
          15.767738342285156,
          9.46629810333252,
          9.869720458984375,
          10.024740219116211,
          10.657903671264648,
          10.546043395996094,
          7.544233798980713
         ],
         "xaxis": "x",
         "y": [
          1.9662957191467285,
          -1.3304344415664673,
          -1.3580853939056396,
          -1.34524667263031,
          -0.6233102679252625,
          0.47361376881599426,
          1.0353103876113892,
          1.2582712173461914,
          0.9145515561103821,
          0.139622762799263,
          -0.16762934625148773,
          2.662126302719116,
          2.664985179901123,
          2.784273386001587,
          3.1612188816070557,
          3.8568642139434814,
          3.8131723403930664,
          3.323784351348877,
          5.623112678527832,
          -2.8589773178100586,
          5.981537818908691,
          0.6448465585708618,
          -0.8208039402961731,
          -0.784033477306366,
          -1.7368937730789185,
          -1.6700044870376587,
          4.644286155700684,
          0.4501652717590332,
          0.054900962859392166,
          -0.499369740486145,
          -1.0893386602401733,
          0.7471203804016113,
          1.0626134872436523,
          0.7831923961639404,
          4.516403675079346,
          4.346672534942627,
          3.703951120376587,
          3.1515870094299316,
          1.5530071258544922,
          1.3423786163330078,
          3.336060047149658,
          3.3533945083618164,
          1.8454818725585938,
          2.056814670562744,
          2.263545036315918,
          2.769705295562744,
          1.5363872051239014,
          3.6332383155822754,
          5.6375627517700195,
          5.19597053527832,
          4.893739223480225,
          5.309823989868164,
          5.279603958129883,
          5.3218817710876465,
          3.9715235233306885,
          2.9312024116516113,
          2.878386974334717,
          2.196457862854004,
          2.3496789932250977,
          2.2079408168792725,
          3.134540557861328,
          3.9321162700653076,
          4.130468845367432,
          4.836012840270996,
          4.107061862945557,
          4.049164295196533,
          3.766220808029175,
          1.6007788181304932,
          1.4946212768554688,
          1.3193988800048828,
          -0.5109376907348633,
          0.5687185525894165,
          2.286069631576538
         ],
         "yaxis": "y"
        },
        {
         "marker": {
          "color": "#636EFA",
          "size": 11,
          "symbol": "star"
         },
         "mode": "markers",
         "name": "Cluster 0 Closest Member",
         "type": "scatter",
         "x": [
          12.146565437316895
         ],
         "y": [
          0.7471203804016113
         ]
        },
        {
         "marker": {
          "color": "#636EFA",
          "size": 12,
          "symbol": "x"
         },
         "mode": "markers",
         "name": "Cluster 0 Centroid",
         "type": "scatter",
         "x": [
          11.838231086730957
         ],
         "y": [
          0.09131641685962677
         ]
        },
        {
         "marker": {
          "color": "#636EFA",
          "size": 8,
          "symbol": "circle"
         },
         "mode": "markers",
         "name": "Cluster 0 Members",
         "type": "scatter",
         "x": [
          11.55738639831543,
          10.790160179138184,
          10.865378379821777,
          13.13789176940918,
          13.292922019958496,
          13.484877586364746,
          13.42899227142334,
          12.146565437316895,
          11.495433807373047,
          11.249114990234375,
          11.529498100280762,
          11.553080558776855,
          10.657903671264648,
          10.546043395996094
         ],
         "y": [
          -0.784033477306366,
          -1.7368937730789185,
          -1.6700044870376587,
          0.4501652717590332,
          0.054900962859392166,
          -0.499369740486145,
          -1.0893386602401733,
          0.7471203804016113,
          1.0626134872436523,
          0.7831923961639404,
          1.8454818725585938,
          2.056814670562744,
          -0.5109376907348633,
          0.5687185525894165
         ]
        },
        {
         "marker": {
          "color": "#EF553B",
          "size": 11,
          "symbol": "star"
         },
         "mode": "markers",
         "name": "Cluster 1 Closest Member",
         "type": "scatter",
         "x": [
          9.228986740112305
         ],
         "y": [
          2.662126302719116
         ]
        },
        {
         "marker": {
          "color": "#EF553B",
          "size": 12,
          "symbol": "x"
         },
         "mode": "markers",
         "name": "Cluster 1 Centroid",
         "type": "scatter",
         "x": [
          9.223115921020508
         ],
         "y": [
          2.804013729095459
         ]
        },
        {
         "marker": {
          "color": "#EF553B",
          "size": 8,
          "symbol": "circle"
         },
         "mode": "markers",
         "name": "Cluster 1 Members",
         "type": "scatter",
         "x": [
          7.079259872436523,
          9.228986740112305,
          8.982346534729004,
          9.950430870056152,
          9.860164642333984,
          7.85875129699707,
          8.112189292907715,
          9.67741870880127,
          9.644006729125977,
          9.742239952087402,
          11.30595588684082,
          9.46629810333252,
          9.869720458984375,
          10.024740219116211,
          7.544233798980713
         ],
         "y": [
          1.9662957191467285,
          2.662126302719116,
          2.664985179901123,
          2.784273386001587,
          3.1612188816070557,
          3.8568642139434814,
          3.8131723403930664,
          3.323784351348877,
          4.516403675079346,
          4.346672534942627,
          2.263545036315918,
          1.6007788181304932,
          1.4946212768554688,
          1.3193988800048828,
          2.286069631576538
         ]
        },
        {
         "marker": {
          "color": "#00CC96",
          "size": 11,
          "symbol": "star"
         },
         "mode": "markers",
         "name": "Cluster 2 Closest Member",
         "type": "scatter",
         "x": [
          7.6642680168151855
         ],
         "y": [
          -0.6233102679252625
         ]
        },
        {
         "marker": {
          "color": "#00CC96",
          "size": 12,
          "symbol": "x"
         },
         "mode": "markers",
         "name": "Cluster 2 Centroid",
         "type": "scatter",
         "x": [
          8.281515121459961
         ],
         "y": [
          -0.3106362521648407
         ]
        },
        {
         "marker": {
          "color": "#00CC96",
          "size": 8,
          "symbol": "circle"
         },
         "mode": "markers",
         "name": "Cluster 2 Members",
         "type": "scatter",
         "x": [
          8.058245658874512,
          8.004104614257812,
          7.440629482269287,
          7.6642680168151855,
          7.84203577041626,
          8.265177726745605,
          8.142950057983398,
          8.647232055664062,
          9.128618240356445,
          9.195128440856934,
          9.445503234863281,
          6.244842052459717,
          9.580960273742676
         ],
         "y": [
          -1.3304344415664673,
          -1.3580853939056396,
          -1.34524667263031,
          -0.6233102679252625,
          0.47361376881599426,
          1.0353103876113892,
          1.2582712173461914,
          0.9145515561103821,
          0.139622762799263,
          -0.16762934625148773,
          -2.8589773178100586,
          0.6448465585708618,
          -0.8208039402961731
         ]
        },
        {
         "marker": {
          "color": "#AB63FA",
          "size": 11,
          "symbol": "star"
         },
         "mode": "markers",
         "name": "Cluster 3 Closest Member",
         "type": "scatter",
         "x": [
          12.474289894104004
         ],
         "y": [
          4.893739223480225
         ]
        },
        {
         "marker": {
          "color": "#AB63FA",
          "size": 12,
          "symbol": "x"
         },
         "mode": "markers",
         "name": "Cluster 3 Centroid",
         "type": "scatter",
         "x": [
          11.816671371459961
         ],
         "y": [
          4.5049729347229
         ]
        },
        {
         "marker": {
          "color": "#AB63FA",
          "size": 8,
          "symbol": "circle"
         },
         "mode": "markers",
         "name": "Cluster 3 Members",
         "type": "scatter",
         "x": [
          9.684796333312988,
          9.884932518005371,
          10.801736831665039,
          11.271617889404297,
          11.143391609191895,
          12.022953033447266,
          11.859742164611816,
          12.1153564453125,
          12.3366060256958,
          12.474289894104004,
          13.151968002319336,
          13.231839179992676,
          13.637492179870605
         ],
         "y": [
          5.623112678527832,
          5.981537818908691,
          4.644286155700684,
          3.703951120376587,
          3.1515870094299316,
          3.336060047149658,
          3.3533945083618164,
          2.769705295562744,
          5.19597053527832,
          4.893739223480225,
          5.309823989868164,
          5.279603958129883,
          5.3218817710876465
         ]
        },
        {
         "marker": {
          "color": "#FFA15A",
          "size": 11,
          "symbol": "star"
         },
         "mode": "markers",
         "name": "Cluster 4 Closest Member",
         "type": "scatter",
         "x": [
          14.302658081054688
         ],
         "y": [
          3.6332383155822754
         ]
        },
        {
         "marker": {
          "color": "#FFA15A",
          "size": 12,
          "symbol": "x"
         },
         "mode": "markers",
         "name": "Cluster 4 Centroid",
         "type": "scatter",
         "x": [
          14.149227142333984
         ],
         "y": [
          3.232964038848877
         ]
        },
        {
         "marker": {
          "color": "#FFA15A",
          "size": 8,
          "symbol": "circle"
         },
         "mode": "markers",
         "name": "Cluster 4 Members",
         "type": "scatter",
         "x": [
          14.49031925201416,
          14.78023910522461,
          15.30691909790039,
          14.302658081054688,
          15.36797046661377,
          13.636819839477539,
          13.305688858032227,
          13.551182746887207,
          13.965397834777832,
          13.60882568359375,
          12.815040588378906,
          12.601749420166016,
          13.173502922058105,
          13.692185401916504,
          14.484696388244629,
          14.709521293640137,
          15.125646591186523,
          15.767738342285156
         ],
         "y": [
          1.5530071258544922,
          1.3423786163330078,
          1.5363872051239014,
          3.6332383155822754,
          5.6375627517700195,
          3.9715235233306885,
          2.9312024116516113,
          2.878386974334717,
          2.196457862854004,
          2.3496789932250977,
          2.2079408168792725,
          3.134540557861328,
          3.9321162700653076,
          4.130468845367432,
          4.836012840270996,
          4.107061862945557,
          4.049164295196533,
          3.766220808029175
         ]
        }
       ],
       "layout": {
        "coloraxis": {
         "colorbar": {
          "title": {
           "text": "Cluster"
          }
         },
         "colorscale": [
          [
           0,
           "#0d0887"
          ],
          [
           0.1111111111111111,
           "#46039f"
          ],
          [
           0.2222222222222222,
           "#7201a8"
          ],
          [
           0.3333333333333333,
           "#9c179e"
          ],
          [
           0.4444444444444444,
           "#bd3786"
          ],
          [
           0.5555555555555556,
           "#d8576b"
          ],
          [
           0.6666666666666666,
           "#ed7953"
          ],
          [
           0.7777777777777778,
           "#fb9f3a"
          ],
          [
           0.8888888888888888,
           "#fdca26"
          ],
          [
           1,
           "#f0f921"
          ]
         ],
         "showscale": false
        },
        "height": 800,
        "legend": {
         "tracegroupgap": 0
        },
        "template": {
         "data": {
          "bar": [
           {
            "error_x": {
             "color": "#2a3f5f"
            },
            "error_y": {
             "color": "#2a3f5f"
            },
            "marker": {
             "line": {
              "color": "#E5ECF6",
              "width": 0.5
             },
             "pattern": {
              "fillmode": "overlay",
              "size": 10,
              "solidity": 0.2
             }
            },
            "type": "bar"
           }
          ],
          "barpolar": [
           {
            "marker": {
             "line": {
              "color": "#E5ECF6",
              "width": 0.5
             },
             "pattern": {
              "fillmode": "overlay",
              "size": 10,
              "solidity": 0.2
             }
            },
            "type": "barpolar"
           }
          ],
          "carpet": [
           {
            "aaxis": {
             "endlinecolor": "#2a3f5f",
             "gridcolor": "white",
             "linecolor": "white",
             "minorgridcolor": "white",
             "startlinecolor": "#2a3f5f"
            },
            "baxis": {
             "endlinecolor": "#2a3f5f",
             "gridcolor": "white",
             "linecolor": "white",
             "minorgridcolor": "white",
             "startlinecolor": "#2a3f5f"
            },
            "type": "carpet"
           }
          ],
          "choropleth": [
           {
            "colorbar": {
             "outlinewidth": 0,
             "ticks": ""
            },
            "type": "choropleth"
           }
          ],
          "contour": [
           {
            "colorbar": {
             "outlinewidth": 0,
             "ticks": ""
            },
            "colorscale": [
             [
              0,
              "#0d0887"
             ],
             [
              0.1111111111111111,
              "#46039f"
             ],
             [
              0.2222222222222222,
              "#7201a8"
             ],
             [
              0.3333333333333333,
              "#9c179e"
             ],
             [
              0.4444444444444444,
              "#bd3786"
             ],
             [
              0.5555555555555556,
              "#d8576b"
             ],
             [
              0.6666666666666666,
              "#ed7953"
             ],
             [
              0.7777777777777778,
              "#fb9f3a"
             ],
             [
              0.8888888888888888,
              "#fdca26"
             ],
             [
              1,
              "#f0f921"
             ]
            ],
            "type": "contour"
           }
          ],
          "contourcarpet": [
           {
            "colorbar": {
             "outlinewidth": 0,
             "ticks": ""
            },
            "type": "contourcarpet"
           }
          ],
          "heatmap": [
           {
            "colorbar": {
             "outlinewidth": 0,
             "ticks": ""
            },
            "colorscale": [
             [
              0,
              "#0d0887"
             ],
             [
              0.1111111111111111,
              "#46039f"
             ],
             [
              0.2222222222222222,
              "#7201a8"
             ],
             [
              0.3333333333333333,
              "#9c179e"
             ],
             [
              0.4444444444444444,
              "#bd3786"
             ],
             [
              0.5555555555555556,
              "#d8576b"
             ],
             [
              0.6666666666666666,
              "#ed7953"
             ],
             [
              0.7777777777777778,
              "#fb9f3a"
             ],
             [
              0.8888888888888888,
              "#fdca26"
             ],
             [
              1,
              "#f0f921"
             ]
            ],
            "type": "heatmap"
           }
          ],
          "heatmapgl": [
           {
            "colorbar": {
             "outlinewidth": 0,
             "ticks": ""
            },
            "colorscale": [
             [
              0,
              "#0d0887"
             ],
             [
              0.1111111111111111,
              "#46039f"
             ],
             [
              0.2222222222222222,
              "#7201a8"
             ],
             [
              0.3333333333333333,
              "#9c179e"
             ],
             [
              0.4444444444444444,
              "#bd3786"
             ],
             [
              0.5555555555555556,
              "#d8576b"
             ],
             [
              0.6666666666666666,
              "#ed7953"
             ],
             [
              0.7777777777777778,
              "#fb9f3a"
             ],
             [
              0.8888888888888888,
              "#fdca26"
             ],
             [
              1,
              "#f0f921"
             ]
            ],
            "type": "heatmapgl"
           }
          ],
          "histogram": [
           {
            "marker": {
             "pattern": {
              "fillmode": "overlay",
              "size": 10,
              "solidity": 0.2
             }
            },
            "type": "histogram"
           }
          ],
          "histogram2d": [
           {
            "colorbar": {
             "outlinewidth": 0,
             "ticks": ""
            },
            "colorscale": [
             [
              0,
              "#0d0887"
             ],
             [
              0.1111111111111111,
              "#46039f"
             ],
             [
              0.2222222222222222,
              "#7201a8"
             ],
             [
              0.3333333333333333,
              "#9c179e"
             ],
             [
              0.4444444444444444,
              "#bd3786"
             ],
             [
              0.5555555555555556,
              "#d8576b"
             ],
             [
              0.6666666666666666,
              "#ed7953"
             ],
             [
              0.7777777777777778,
              "#fb9f3a"
             ],
             [
              0.8888888888888888,
              "#fdca26"
             ],
             [
              1,
              "#f0f921"
             ]
            ],
            "type": "histogram2d"
           }
          ],
          "histogram2dcontour": [
           {
            "colorbar": {
             "outlinewidth": 0,
             "ticks": ""
            },
            "colorscale": [
             [
              0,
              "#0d0887"
             ],
             [
              0.1111111111111111,
              "#46039f"
             ],
             [
              0.2222222222222222,
              "#7201a8"
             ],
             [
              0.3333333333333333,
              "#9c179e"
             ],
             [
              0.4444444444444444,
              "#bd3786"
             ],
             [
              0.5555555555555556,
              "#d8576b"
             ],
             [
              0.6666666666666666,
              "#ed7953"
             ],
             [
              0.7777777777777778,
              "#fb9f3a"
             ],
             [
              0.8888888888888888,
              "#fdca26"
             ],
             [
              1,
              "#f0f921"
             ]
            ],
            "type": "histogram2dcontour"
           }
          ],
          "mesh3d": [
           {
            "colorbar": {
             "outlinewidth": 0,
             "ticks": ""
            },
            "type": "mesh3d"
           }
          ],
          "parcoords": [
           {
            "line": {
             "colorbar": {
              "outlinewidth": 0,
              "ticks": ""
             }
            },
            "type": "parcoords"
           }
          ],
          "pie": [
           {
            "automargin": true,
            "type": "pie"
           }
          ],
          "scatter": [
           {
            "fillpattern": {
             "fillmode": "overlay",
             "size": 10,
             "solidity": 0.2
            },
            "type": "scatter"
           }
          ],
          "scatter3d": [
           {
            "line": {
             "colorbar": {
              "outlinewidth": 0,
              "ticks": ""
             }
            },
            "marker": {
             "colorbar": {
              "outlinewidth": 0,
              "ticks": ""
             }
            },
            "type": "scatter3d"
           }
          ],
          "scattercarpet": [
           {
            "marker": {
             "colorbar": {
              "outlinewidth": 0,
              "ticks": ""
             }
            },
            "type": "scattercarpet"
           }
          ],
          "scattergeo": [
           {
            "marker": {
             "colorbar": {
              "outlinewidth": 0,
              "ticks": ""
             }
            },
            "type": "scattergeo"
           }
          ],
          "scattergl": [
           {
            "marker": {
             "colorbar": {
              "outlinewidth": 0,
              "ticks": ""
             }
            },
            "type": "scattergl"
           }
          ],
          "scattermapbox": [
           {
            "marker": {
             "colorbar": {
              "outlinewidth": 0,
              "ticks": ""
             }
            },
            "type": "scattermapbox"
           }
          ],
          "scatterpolar": [
           {
            "marker": {
             "colorbar": {
              "outlinewidth": 0,
              "ticks": ""
             }
            },
            "type": "scatterpolar"
           }
          ],
          "scatterpolargl": [
           {
            "marker": {
             "colorbar": {
              "outlinewidth": 0,
              "ticks": ""
             }
            },
            "type": "scatterpolargl"
           }
          ],
          "scatterternary": [
           {
            "marker": {
             "colorbar": {
              "outlinewidth": 0,
              "ticks": ""
             }
            },
            "type": "scatterternary"
           }
          ],
          "surface": [
           {
            "colorbar": {
             "outlinewidth": 0,
             "ticks": ""
            },
            "colorscale": [
             [
              0,
              "#0d0887"
             ],
             [
              0.1111111111111111,
              "#46039f"
             ],
             [
              0.2222222222222222,
              "#7201a8"
             ],
             [
              0.3333333333333333,
              "#9c179e"
             ],
             [
              0.4444444444444444,
              "#bd3786"
             ],
             [
              0.5555555555555556,
              "#d8576b"
             ],
             [
              0.6666666666666666,
              "#ed7953"
             ],
             [
              0.7777777777777778,
              "#fb9f3a"
             ],
             [
              0.8888888888888888,
              "#fdca26"
             ],
             [
              1,
              "#f0f921"
             ]
            ],
            "type": "surface"
           }
          ],
          "table": [
           {
            "cells": {
             "fill": {
              "color": "#EBF0F8"
             },
             "line": {
              "color": "white"
             }
            },
            "header": {
             "fill": {
              "color": "#C8D4E3"
             },
             "line": {
              "color": "white"
             }
            },
            "type": "table"
           }
          ]
         },
         "layout": {
          "annotationdefaults": {
           "arrowcolor": "#2a3f5f",
           "arrowhead": 0,
           "arrowwidth": 1
          },
          "autotypenumbers": "strict",
          "coloraxis": {
           "colorbar": {
            "outlinewidth": 0,
            "ticks": ""
           }
          },
          "colorscale": {
           "diverging": [
            [
             0,
             "#8e0152"
            ],
            [
             0.1,
             "#c51b7d"
            ],
            [
             0.2,
             "#de77ae"
            ],
            [
             0.3,
             "#f1b6da"
            ],
            [
             0.4,
             "#fde0ef"
            ],
            [
             0.5,
             "#f7f7f7"
            ],
            [
             0.6,
             "#e6f5d0"
            ],
            [
             0.7,
             "#b8e186"
            ],
            [
             0.8,
             "#7fbc41"
            ],
            [
             0.9,
             "#4d9221"
            ],
            [
             1,
             "#276419"
            ]
           ],
           "sequential": [
            [
             0,
             "#0d0887"
            ],
            [
             0.1111111111111111,
             "#46039f"
            ],
            [
             0.2222222222222222,
             "#7201a8"
            ],
            [
             0.3333333333333333,
             "#9c179e"
            ],
            [
             0.4444444444444444,
             "#bd3786"
            ],
            [
             0.5555555555555556,
             "#d8576b"
            ],
            [
             0.6666666666666666,
             "#ed7953"
            ],
            [
             0.7777777777777778,
             "#fb9f3a"
            ],
            [
             0.8888888888888888,
             "#fdca26"
            ],
            [
             1,
             "#f0f921"
            ]
           ],
           "sequentialminus": [
            [
             0,
             "#0d0887"
            ],
            [
             0.1111111111111111,
             "#46039f"
            ],
            [
             0.2222222222222222,
             "#7201a8"
            ],
            [
             0.3333333333333333,
             "#9c179e"
            ],
            [
             0.4444444444444444,
             "#bd3786"
            ],
            [
             0.5555555555555556,
             "#d8576b"
            ],
            [
             0.6666666666666666,
             "#ed7953"
            ],
            [
             0.7777777777777778,
             "#fb9f3a"
            ],
            [
             0.8888888888888888,
             "#fdca26"
            ],
            [
             1,
             "#f0f921"
            ]
           ]
          },
          "colorway": [
           "#636efa",
           "#EF553B",
           "#00cc96",
           "#ab63fa",
           "#FFA15A",
           "#19d3f3",
           "#FF6692",
           "#B6E880",
           "#FF97FF",
           "#FECB52"
          ],
          "font": {
           "color": "#2a3f5f"
          },
          "geo": {
           "bgcolor": "white",
           "lakecolor": "white",
           "landcolor": "#E5ECF6",
           "showlakes": true,
           "showland": true,
           "subunitcolor": "white"
          },
          "hoverlabel": {
           "align": "left"
          },
          "hovermode": "closest",
          "mapbox": {
           "style": "light"
          },
          "paper_bgcolor": "white",
          "plot_bgcolor": "#E5ECF6",
          "polar": {
           "angularaxis": {
            "gridcolor": "white",
            "linecolor": "white",
            "ticks": ""
           },
           "bgcolor": "#E5ECF6",
           "radialaxis": {
            "gridcolor": "white",
            "linecolor": "white",
            "ticks": ""
           }
          },
          "scene": {
           "xaxis": {
            "backgroundcolor": "#E5ECF6",
            "gridcolor": "white",
            "gridwidth": 2,
            "linecolor": "white",
            "showbackground": true,
            "ticks": "",
            "zerolinecolor": "white"
           },
           "yaxis": {
            "backgroundcolor": "#E5ECF6",
            "gridcolor": "white",
            "gridwidth": 2,
            "linecolor": "white",
            "showbackground": true,
            "ticks": "",
            "zerolinecolor": "white"
           },
           "zaxis": {
            "backgroundcolor": "#E5ECF6",
            "gridcolor": "white",
            "gridwidth": 2,
            "linecolor": "white",
            "showbackground": true,
            "ticks": "",
            "zerolinecolor": "white"
           }
          },
          "shapedefaults": {
           "line": {
            "color": "#2a3f5f"
           }
          },
          "ternary": {
           "aaxis": {
            "gridcolor": "white",
            "linecolor": "white",
            "ticks": ""
           },
           "baxis": {
            "gridcolor": "white",
            "linecolor": "white",
            "ticks": ""
           },
           "bgcolor": "#E5ECF6",
           "caxis": {
            "gridcolor": "white",
            "linecolor": "white",
            "ticks": ""
           }
          },
          "title": {
           "x": 0.05
          },
          "xaxis": {
           "automargin": true,
           "gridcolor": "white",
           "linecolor": "white",
           "ticks": "",
           "title": {
            "standoff": 15
           },
           "zerolinecolor": "white",
           "zerolinewidth": 2
          },
          "yaxis": {
           "automargin": true,
           "gridcolor": "white",
           "linecolor": "white",
           "ticks": "",
           "title": {
            "standoff": 15
           },
           "zerolinecolor": "white",
           "zerolinewidth": 2
          }
         }
        },
        "title": {
         "text": "Best Representation Vectors "
        },
        "xaxis": {
         "anchor": "y",
         "domain": [
          0,
          1
         ],
         "title": {
          "text": "Dimension 1"
         }
        },
        "yaxis": {
         "anchor": "x",
         "domain": [
          0,
          1
         ],
         "title": {
          "text": "Dimension 2"
         }
        }
       }
      },
      "text/html": [
       "<div>                            <div id=\"9c11b203-ca54-47cc-9cf3-3fe7a20a3843\" class=\"plotly-graph-div\" style=\"height:800px; width:100%;\"></div>            <script type=\"text/javascript\">                require([\"plotly\"], function(Plotly) {                    window.PLOTLYENV=window.PLOTLYENV || {};                                    if (document.getElementById(\"9c11b203-ca54-47cc-9cf3-3fe7a20a3843\")) {                    Plotly.newPlot(                        \"9c11b203-ca54-47cc-9cf3-3fe7a20a3843\",                        [{\"hovertemplate\":\"Dimension 1=%{x}\\u003cbr\\u003eDimension 2=%{y}\\u003cbr\\u003eCluster=%{marker.color}\\u003cextra\\u003e\\u003c\\u002fextra\\u003e\",\"legendgroup\":\"\",\"marker\":{\"color\":[1,2,2,2,2,2,2,2,2,2,2,1,1,1,1,1,1,1,3,2,3,2,2,0,0,0,3,0,0,0,0,0,0,0,1,1,3,3,4,4,3,3,0,0,1,3,4,4,4,3,3,3,3,3,4,4,4,4,4,4,4,4,4,4,4,4,4,1,1,1,0,0,1],\"coloraxis\":\"coloraxis\",\"opacity\":0.7,\"symbol\":\"circle\"},\"mode\":\"markers\",\"name\":\"\",\"orientation\":\"v\",\"showlegend\":false,\"x\":[7.079259872436523,8.058245658874512,8.004104614257812,7.440629482269287,7.6642680168151855,7.84203577041626,8.265177726745605,8.142950057983398,8.647232055664062,9.128618240356445,9.195128440856934,9.228986740112305,8.982346534729004,9.950430870056152,9.860164642333984,7.85875129699707,8.112189292907715,9.67741870880127,9.684796333312988,9.445503234863281,9.884932518005371,6.244842052459717,9.580960273742676,11.55738639831543,10.790160179138184,10.865378379821777,10.801736831665039,13.13789176940918,13.292922019958496,13.484877586364746,13.42899227142334,12.146565437316895,11.495433807373047,11.249114990234375,9.644006729125977,9.742239952087402,11.271617889404297,11.143391609191895,14.49031925201416,14.78023910522461,12.022953033447266,11.859742164611816,11.529498100280762,11.553080558776855,11.30595588684082,12.1153564453125,15.30691909790039,14.302658081054688,15.36797046661377,12.3366060256958,12.474289894104004,13.151968002319336,13.231839179992676,13.637492179870605,13.636819839477539,13.305688858032227,13.551182746887207,13.965397834777832,13.60882568359375,12.815040588378906,12.601749420166016,13.173502922058105,13.692185401916504,14.484696388244629,14.709521293640137,15.125646591186523,15.767738342285156,9.46629810333252,9.869720458984375,10.024740219116211,10.657903671264648,10.546043395996094,7.544233798980713],\"xaxis\":\"x\",\"y\":[1.9662957191467285,-1.3304344415664673,-1.3580853939056396,-1.34524667263031,-0.6233102679252625,0.47361376881599426,1.0353103876113892,1.2582712173461914,0.9145515561103821,0.139622762799263,-0.16762934625148773,2.662126302719116,2.664985179901123,2.784273386001587,3.1612188816070557,3.8568642139434814,3.8131723403930664,3.323784351348877,5.623112678527832,-2.8589773178100586,5.981537818908691,0.6448465585708618,-0.8208039402961731,-0.784033477306366,-1.7368937730789185,-1.6700044870376587,4.644286155700684,0.4501652717590332,0.054900962859392166,-0.499369740486145,-1.0893386602401733,0.7471203804016113,1.0626134872436523,0.7831923961639404,4.516403675079346,4.346672534942627,3.703951120376587,3.1515870094299316,1.5530071258544922,1.3423786163330078,3.336060047149658,3.3533945083618164,1.8454818725585938,2.056814670562744,2.263545036315918,2.769705295562744,1.5363872051239014,3.6332383155822754,5.6375627517700195,5.19597053527832,4.893739223480225,5.309823989868164,5.279603958129883,5.3218817710876465,3.9715235233306885,2.9312024116516113,2.878386974334717,2.196457862854004,2.3496789932250977,2.2079408168792725,3.134540557861328,3.9321162700653076,4.130468845367432,4.836012840270996,4.107061862945557,4.049164295196533,3.766220808029175,1.6007788181304932,1.4946212768554688,1.3193988800048828,-0.5109376907348633,0.5687185525894165,2.286069631576538],\"yaxis\":\"y\",\"type\":\"scatter\"},{\"marker\":{\"color\":\"#636EFA\",\"size\":11,\"symbol\":\"star\"},\"mode\":\"markers\",\"name\":\"Cluster 0 Closest Member\",\"x\":[12.146565437316895],\"y\":[0.7471203804016113],\"type\":\"scatter\"},{\"marker\":{\"color\":\"#636EFA\",\"size\":12,\"symbol\":\"x\"},\"mode\":\"markers\",\"name\":\"Cluster 0 Centroid\",\"x\":[11.838231086730957],\"y\":[0.09131641685962677],\"type\":\"scatter\"},{\"marker\":{\"color\":\"#636EFA\",\"size\":8,\"symbol\":\"circle\"},\"mode\":\"markers\",\"name\":\"Cluster 0 Members\",\"x\":[11.55738639831543,10.790160179138184,10.865378379821777,13.13789176940918,13.292922019958496,13.484877586364746,13.42899227142334,12.146565437316895,11.495433807373047,11.249114990234375,11.529498100280762,11.553080558776855,10.657903671264648,10.546043395996094],\"y\":[-0.784033477306366,-1.7368937730789185,-1.6700044870376587,0.4501652717590332,0.054900962859392166,-0.499369740486145,-1.0893386602401733,0.7471203804016113,1.0626134872436523,0.7831923961639404,1.8454818725585938,2.056814670562744,-0.5109376907348633,0.5687185525894165],\"type\":\"scatter\"},{\"marker\":{\"color\":\"#EF553B\",\"size\":11,\"symbol\":\"star\"},\"mode\":\"markers\",\"name\":\"Cluster 1 Closest Member\",\"x\":[9.228986740112305],\"y\":[2.662126302719116],\"type\":\"scatter\"},{\"marker\":{\"color\":\"#EF553B\",\"size\":12,\"symbol\":\"x\"},\"mode\":\"markers\",\"name\":\"Cluster 1 Centroid\",\"x\":[9.223115921020508],\"y\":[2.804013729095459],\"type\":\"scatter\"},{\"marker\":{\"color\":\"#EF553B\",\"size\":8,\"symbol\":\"circle\"},\"mode\":\"markers\",\"name\":\"Cluster 1 Members\",\"x\":[7.079259872436523,9.228986740112305,8.982346534729004,9.950430870056152,9.860164642333984,7.85875129699707,8.112189292907715,9.67741870880127,9.644006729125977,9.742239952087402,11.30595588684082,9.46629810333252,9.869720458984375,10.024740219116211,7.544233798980713],\"y\":[1.9662957191467285,2.662126302719116,2.664985179901123,2.784273386001587,3.1612188816070557,3.8568642139434814,3.8131723403930664,3.323784351348877,4.516403675079346,4.346672534942627,2.263545036315918,1.6007788181304932,1.4946212768554688,1.3193988800048828,2.286069631576538],\"type\":\"scatter\"},{\"marker\":{\"color\":\"#00CC96\",\"size\":11,\"symbol\":\"star\"},\"mode\":\"markers\",\"name\":\"Cluster 2 Closest Member\",\"x\":[7.6642680168151855],\"y\":[-0.6233102679252625],\"type\":\"scatter\"},{\"marker\":{\"color\":\"#00CC96\",\"size\":12,\"symbol\":\"x\"},\"mode\":\"markers\",\"name\":\"Cluster 2 Centroid\",\"x\":[8.281515121459961],\"y\":[-0.3106362521648407],\"type\":\"scatter\"},{\"marker\":{\"color\":\"#00CC96\",\"size\":8,\"symbol\":\"circle\"},\"mode\":\"markers\",\"name\":\"Cluster 2 Members\",\"x\":[8.058245658874512,8.004104614257812,7.440629482269287,7.6642680168151855,7.84203577041626,8.265177726745605,8.142950057983398,8.647232055664062,9.128618240356445,9.195128440856934,9.445503234863281,6.244842052459717,9.580960273742676],\"y\":[-1.3304344415664673,-1.3580853939056396,-1.34524667263031,-0.6233102679252625,0.47361376881599426,1.0353103876113892,1.2582712173461914,0.9145515561103821,0.139622762799263,-0.16762934625148773,-2.8589773178100586,0.6448465585708618,-0.8208039402961731],\"type\":\"scatter\"},{\"marker\":{\"color\":\"#AB63FA\",\"size\":11,\"symbol\":\"star\"},\"mode\":\"markers\",\"name\":\"Cluster 3 Closest Member\",\"x\":[12.474289894104004],\"y\":[4.893739223480225],\"type\":\"scatter\"},{\"marker\":{\"color\":\"#AB63FA\",\"size\":12,\"symbol\":\"x\"},\"mode\":\"markers\",\"name\":\"Cluster 3 Centroid\",\"x\":[11.816671371459961],\"y\":[4.5049729347229],\"type\":\"scatter\"},{\"marker\":{\"color\":\"#AB63FA\",\"size\":8,\"symbol\":\"circle\"},\"mode\":\"markers\",\"name\":\"Cluster 3 Members\",\"x\":[9.684796333312988,9.884932518005371,10.801736831665039,11.271617889404297,11.143391609191895,12.022953033447266,11.859742164611816,12.1153564453125,12.3366060256958,12.474289894104004,13.151968002319336,13.231839179992676,13.637492179870605],\"y\":[5.623112678527832,5.981537818908691,4.644286155700684,3.703951120376587,3.1515870094299316,3.336060047149658,3.3533945083618164,2.769705295562744,5.19597053527832,4.893739223480225,5.309823989868164,5.279603958129883,5.3218817710876465],\"type\":\"scatter\"},{\"marker\":{\"color\":\"#FFA15A\",\"size\":11,\"symbol\":\"star\"},\"mode\":\"markers\",\"name\":\"Cluster 4 Closest Member\",\"x\":[14.302658081054688],\"y\":[3.6332383155822754],\"type\":\"scatter\"},{\"marker\":{\"color\":\"#FFA15A\",\"size\":12,\"symbol\":\"x\"},\"mode\":\"markers\",\"name\":\"Cluster 4 Centroid\",\"x\":[14.149227142333984],\"y\":[3.232964038848877],\"type\":\"scatter\"},{\"marker\":{\"color\":\"#FFA15A\",\"size\":8,\"symbol\":\"circle\"},\"mode\":\"markers\",\"name\":\"Cluster 4 Members\",\"x\":[14.49031925201416,14.78023910522461,15.30691909790039,14.302658081054688,15.36797046661377,13.636819839477539,13.305688858032227,13.551182746887207,13.965397834777832,13.60882568359375,12.815040588378906,12.601749420166016,13.173502922058105,13.692185401916504,14.484696388244629,14.709521293640137,15.125646591186523,15.767738342285156],\"y\":[1.5530071258544922,1.3423786163330078,1.5363872051239014,3.6332383155822754,5.6375627517700195,3.9715235233306885,2.9312024116516113,2.878386974334717,2.196457862854004,2.3496789932250977,2.2079408168792725,3.134540557861328,3.9321162700653076,4.130468845367432,4.836012840270996,4.107061862945557,4.049164295196533,3.766220808029175],\"type\":\"scatter\"}],                        {\"template\":{\"data\":{\"histogram2dcontour\":[{\"type\":\"histogram2dcontour\",\"colorbar\":{\"outlinewidth\":0,\"ticks\":\"\"},\"colorscale\":[[0.0,\"#0d0887\"],[0.1111111111111111,\"#46039f\"],[0.2222222222222222,\"#7201a8\"],[0.3333333333333333,\"#9c179e\"],[0.4444444444444444,\"#bd3786\"],[0.5555555555555556,\"#d8576b\"],[0.6666666666666666,\"#ed7953\"],[0.7777777777777778,\"#fb9f3a\"],[0.8888888888888888,\"#fdca26\"],[1.0,\"#f0f921\"]]}],\"choropleth\":[{\"type\":\"choropleth\",\"colorbar\":{\"outlinewidth\":0,\"ticks\":\"\"}}],\"histogram2d\":[{\"type\":\"histogram2d\",\"colorbar\":{\"outlinewidth\":0,\"ticks\":\"\"},\"colorscale\":[[0.0,\"#0d0887\"],[0.1111111111111111,\"#46039f\"],[0.2222222222222222,\"#7201a8\"],[0.3333333333333333,\"#9c179e\"],[0.4444444444444444,\"#bd3786\"],[0.5555555555555556,\"#d8576b\"],[0.6666666666666666,\"#ed7953\"],[0.7777777777777778,\"#fb9f3a\"],[0.8888888888888888,\"#fdca26\"],[1.0,\"#f0f921\"]]}],\"heatmap\":[{\"type\":\"heatmap\",\"colorbar\":{\"outlinewidth\":0,\"ticks\":\"\"},\"colorscale\":[[0.0,\"#0d0887\"],[0.1111111111111111,\"#46039f\"],[0.2222222222222222,\"#7201a8\"],[0.3333333333333333,\"#9c179e\"],[0.4444444444444444,\"#bd3786\"],[0.5555555555555556,\"#d8576b\"],[0.6666666666666666,\"#ed7953\"],[0.7777777777777778,\"#fb9f3a\"],[0.8888888888888888,\"#fdca26\"],[1.0,\"#f0f921\"]]}],\"heatmapgl\":[{\"type\":\"heatmapgl\",\"colorbar\":{\"outlinewidth\":0,\"ticks\":\"\"},\"colorscale\":[[0.0,\"#0d0887\"],[0.1111111111111111,\"#46039f\"],[0.2222222222222222,\"#7201a8\"],[0.3333333333333333,\"#9c179e\"],[0.4444444444444444,\"#bd3786\"],[0.5555555555555556,\"#d8576b\"],[0.6666666666666666,\"#ed7953\"],[0.7777777777777778,\"#fb9f3a\"],[0.8888888888888888,\"#fdca26\"],[1.0,\"#f0f921\"]]}],\"contourcarpet\":[{\"type\":\"contourcarpet\",\"colorbar\":{\"outlinewidth\":0,\"ticks\":\"\"}}],\"contour\":[{\"type\":\"contour\",\"colorbar\":{\"outlinewidth\":0,\"ticks\":\"\"},\"colorscale\":[[0.0,\"#0d0887\"],[0.1111111111111111,\"#46039f\"],[0.2222222222222222,\"#7201a8\"],[0.3333333333333333,\"#9c179e\"],[0.4444444444444444,\"#bd3786\"],[0.5555555555555556,\"#d8576b\"],[0.6666666666666666,\"#ed7953\"],[0.7777777777777778,\"#fb9f3a\"],[0.8888888888888888,\"#fdca26\"],[1.0,\"#f0f921\"]]}],\"surface\":[{\"type\":\"surface\",\"colorbar\":{\"outlinewidth\":0,\"ticks\":\"\"},\"colorscale\":[[0.0,\"#0d0887\"],[0.1111111111111111,\"#46039f\"],[0.2222222222222222,\"#7201a8\"],[0.3333333333333333,\"#9c179e\"],[0.4444444444444444,\"#bd3786\"],[0.5555555555555556,\"#d8576b\"],[0.6666666666666666,\"#ed7953\"],[0.7777777777777778,\"#fb9f3a\"],[0.8888888888888888,\"#fdca26\"],[1.0,\"#f0f921\"]]}],\"mesh3d\":[{\"type\":\"mesh3d\",\"colorbar\":{\"outlinewidth\":0,\"ticks\":\"\"}}],\"scatter\":[{\"fillpattern\":{\"fillmode\":\"overlay\",\"size\":10,\"solidity\":0.2},\"type\":\"scatter\"}],\"parcoords\":[{\"type\":\"parcoords\",\"line\":{\"colorbar\":{\"outlinewidth\":0,\"ticks\":\"\"}}}],\"scatterpolargl\":[{\"type\":\"scatterpolargl\",\"marker\":{\"colorbar\":{\"outlinewidth\":0,\"ticks\":\"\"}}}],\"bar\":[{\"error_x\":{\"color\":\"#2a3f5f\"},\"error_y\":{\"color\":\"#2a3f5f\"},\"marker\":{\"line\":{\"color\":\"#E5ECF6\",\"width\":0.5},\"pattern\":{\"fillmode\":\"overlay\",\"size\":10,\"solidity\":0.2}},\"type\":\"bar\"}],\"scattergeo\":[{\"type\":\"scattergeo\",\"marker\":{\"colorbar\":{\"outlinewidth\":0,\"ticks\":\"\"}}}],\"scatterpolar\":[{\"type\":\"scatterpolar\",\"marker\":{\"colorbar\":{\"outlinewidth\":0,\"ticks\":\"\"}}}],\"histogram\":[{\"marker\":{\"pattern\":{\"fillmode\":\"overlay\",\"size\":10,\"solidity\":0.2}},\"type\":\"histogram\"}],\"scattergl\":[{\"type\":\"scattergl\",\"marker\":{\"colorbar\":{\"outlinewidth\":0,\"ticks\":\"\"}}}],\"scatter3d\":[{\"type\":\"scatter3d\",\"line\":{\"colorbar\":{\"outlinewidth\":0,\"ticks\":\"\"}},\"marker\":{\"colorbar\":{\"outlinewidth\":0,\"ticks\":\"\"}}}],\"scattermapbox\":[{\"type\":\"scattermapbox\",\"marker\":{\"colorbar\":{\"outlinewidth\":0,\"ticks\":\"\"}}}],\"scatterternary\":[{\"type\":\"scatterternary\",\"marker\":{\"colorbar\":{\"outlinewidth\":0,\"ticks\":\"\"}}}],\"scattercarpet\":[{\"type\":\"scattercarpet\",\"marker\":{\"colorbar\":{\"outlinewidth\":0,\"ticks\":\"\"}}}],\"carpet\":[{\"aaxis\":{\"endlinecolor\":\"#2a3f5f\",\"gridcolor\":\"white\",\"linecolor\":\"white\",\"minorgridcolor\":\"white\",\"startlinecolor\":\"#2a3f5f\"},\"baxis\":{\"endlinecolor\":\"#2a3f5f\",\"gridcolor\":\"white\",\"linecolor\":\"white\",\"minorgridcolor\":\"white\",\"startlinecolor\":\"#2a3f5f\"},\"type\":\"carpet\"}],\"table\":[{\"cells\":{\"fill\":{\"color\":\"#EBF0F8\"},\"line\":{\"color\":\"white\"}},\"header\":{\"fill\":{\"color\":\"#C8D4E3\"},\"line\":{\"color\":\"white\"}},\"type\":\"table\"}],\"barpolar\":[{\"marker\":{\"line\":{\"color\":\"#E5ECF6\",\"width\":0.5},\"pattern\":{\"fillmode\":\"overlay\",\"size\":10,\"solidity\":0.2}},\"type\":\"barpolar\"}],\"pie\":[{\"automargin\":true,\"type\":\"pie\"}]},\"layout\":{\"autotypenumbers\":\"strict\",\"colorway\":[\"#636efa\",\"#EF553B\",\"#00cc96\",\"#ab63fa\",\"#FFA15A\",\"#19d3f3\",\"#FF6692\",\"#B6E880\",\"#FF97FF\",\"#FECB52\"],\"font\":{\"color\":\"#2a3f5f\"},\"hovermode\":\"closest\",\"hoverlabel\":{\"align\":\"left\"},\"paper_bgcolor\":\"white\",\"plot_bgcolor\":\"#E5ECF6\",\"polar\":{\"bgcolor\":\"#E5ECF6\",\"angularaxis\":{\"gridcolor\":\"white\",\"linecolor\":\"white\",\"ticks\":\"\"},\"radialaxis\":{\"gridcolor\":\"white\",\"linecolor\":\"white\",\"ticks\":\"\"}},\"ternary\":{\"bgcolor\":\"#E5ECF6\",\"aaxis\":{\"gridcolor\":\"white\",\"linecolor\":\"white\",\"ticks\":\"\"},\"baxis\":{\"gridcolor\":\"white\",\"linecolor\":\"white\",\"ticks\":\"\"},\"caxis\":{\"gridcolor\":\"white\",\"linecolor\":\"white\",\"ticks\":\"\"}},\"coloraxis\":{\"colorbar\":{\"outlinewidth\":0,\"ticks\":\"\"}},\"colorscale\":{\"sequential\":[[0.0,\"#0d0887\"],[0.1111111111111111,\"#46039f\"],[0.2222222222222222,\"#7201a8\"],[0.3333333333333333,\"#9c179e\"],[0.4444444444444444,\"#bd3786\"],[0.5555555555555556,\"#d8576b\"],[0.6666666666666666,\"#ed7953\"],[0.7777777777777778,\"#fb9f3a\"],[0.8888888888888888,\"#fdca26\"],[1.0,\"#f0f921\"]],\"sequentialminus\":[[0.0,\"#0d0887\"],[0.1111111111111111,\"#46039f\"],[0.2222222222222222,\"#7201a8\"],[0.3333333333333333,\"#9c179e\"],[0.4444444444444444,\"#bd3786\"],[0.5555555555555556,\"#d8576b\"],[0.6666666666666666,\"#ed7953\"],[0.7777777777777778,\"#fb9f3a\"],[0.8888888888888888,\"#fdca26\"],[1.0,\"#f0f921\"]],\"diverging\":[[0,\"#8e0152\"],[0.1,\"#c51b7d\"],[0.2,\"#de77ae\"],[0.3,\"#f1b6da\"],[0.4,\"#fde0ef\"],[0.5,\"#f7f7f7\"],[0.6,\"#e6f5d0\"],[0.7,\"#b8e186\"],[0.8,\"#7fbc41\"],[0.9,\"#4d9221\"],[1,\"#276419\"]]},\"xaxis\":{\"gridcolor\":\"white\",\"linecolor\":\"white\",\"ticks\":\"\",\"title\":{\"standoff\":15},\"zerolinecolor\":\"white\",\"automargin\":true,\"zerolinewidth\":2},\"yaxis\":{\"gridcolor\":\"white\",\"linecolor\":\"white\",\"ticks\":\"\",\"title\":{\"standoff\":15},\"zerolinecolor\":\"white\",\"automargin\":true,\"zerolinewidth\":2},\"scene\":{\"xaxis\":{\"backgroundcolor\":\"#E5ECF6\",\"gridcolor\":\"white\",\"linecolor\":\"white\",\"showbackground\":true,\"ticks\":\"\",\"zerolinecolor\":\"white\",\"gridwidth\":2},\"yaxis\":{\"backgroundcolor\":\"#E5ECF6\",\"gridcolor\":\"white\",\"linecolor\":\"white\",\"showbackground\":true,\"ticks\":\"\",\"zerolinecolor\":\"white\",\"gridwidth\":2},\"zaxis\":{\"backgroundcolor\":\"#E5ECF6\",\"gridcolor\":\"white\",\"linecolor\":\"white\",\"showbackground\":true,\"ticks\":\"\",\"zerolinecolor\":\"white\",\"gridwidth\":2}},\"shapedefaults\":{\"line\":{\"color\":\"#2a3f5f\"}},\"annotationdefaults\":{\"arrowcolor\":\"#2a3f5f\",\"arrowhead\":0,\"arrowwidth\":1},\"geo\":{\"bgcolor\":\"white\",\"landcolor\":\"#E5ECF6\",\"subunitcolor\":\"white\",\"showland\":true,\"showlakes\":true,\"lakecolor\":\"white\"},\"title\":{\"x\":0.05},\"mapbox\":{\"style\":\"light\"}}},\"xaxis\":{\"anchor\":\"y\",\"domain\":[0.0,1.0],\"title\":{\"text\":\"Dimension 1\"}},\"yaxis\":{\"anchor\":\"x\",\"domain\":[0.0,1.0],\"title\":{\"text\":\"Dimension 2\"}},\"coloraxis\":{\"colorbar\":{\"title\":{\"text\":\"Cluster\"}},\"colorscale\":[[0.0,\"#0d0887\"],[0.1111111111111111,\"#46039f\"],[0.2222222222222222,\"#7201a8\"],[0.3333333333333333,\"#9c179e\"],[0.4444444444444444,\"#bd3786\"],[0.5555555555555556,\"#d8576b\"],[0.6666666666666666,\"#ed7953\"],[0.7777777777777778,\"#fb9f3a\"],[0.8888888888888888,\"#fdca26\"],[1.0,\"#f0f921\"]],\"showscale\":false},\"legend\":{\"tracegroupgap\":0},\"title\":{\"text\":\"Best Representation Vectors \"},\"height\":800},                        {\"responsive\": true}                    ).then(function(){\n",
       "                            \n",
       "var gd = document.getElementById('9c11b203-ca54-47cc-9cf3-3fe7a20a3843');\n",
       "var x = new MutationObserver(function (mutations, observer) {{\n",
       "        var display = window.getComputedStyle(gd).display;\n",
       "        if (!display || display === 'none') {{\n",
       "            console.log([gd, 'removed!']);\n",
       "            Plotly.purge(gd);\n",
       "            observer.disconnect();\n",
       "        }}\n",
       "}});\n",
       "\n",
       "// Listen for the removal of the full notebook cells\n",
       "var notebookContainer = gd.closest('#notebook-container');\n",
       "if (notebookContainer) {{\n",
       "    x.observe(notebookContainer, {childList: true});\n",
       "}}\n",
       "\n",
       "// Listen for the clearing of the current output cell\n",
       "var outputEl = gd.closest('.output');\n",
       "if (outputEl) {{\n",
       "    x.observe(outputEl, {childList: true});\n",
       "}}\n",
       "\n",
       "                        })                };                });            </script>        </div>"
      ]
     },
     "metadata": {},
     "output_type": "display_data"
    }
   ],
   "source": [
    "import numpy as np\n",
    "import plotly.graph_objects as go\n",
    "import plotly.express as px\n",
    "\n",
    "# Calculate centroids for each cluster\n",
    "centroids = []\n",
    "closest_member_indices = []\n",
    "for cluster_label in np.unique(df['Cluster']):\n",
    "    cluster_points = df[df['Cluster'] == cluster_label][['Dimension 1', 'Dimension 2']]\n",
    "    centroid = cluster_points.mean()\n",
    "    centroids.append((centroid, cluster_label))  # Store centroid and cluster label\n",
    "\n",
    "# Create a scatter plot for the data points\n",
    "scatter = px.scatter(df, x='Dimension 1', y='Dimension 2', color='Cluster', opacity=0.7, title='Best Representation Vectors ')\n",
    "\n",
    "# Add centroids and closest members to the scatter plot\n",
    "for i, (centroid, cluster_label) in enumerate(centroids):\n",
    "    cluster_color = px.colors.qualitative.Plotly[cluster_label]  # Get cluster color\n",
    "    \n",
    "    # Find the index of the closest member to the centroid\n",
    "    closest_member_idx = df[df['Cluster'] == cluster_label][['Dimension 1', 'Dimension 2']].apply(lambda x: np.linalg.norm(x - centroid), axis=1).idxmin()\n",
    "    closest_member_indices.append(closest_member_idx)\n",
    "    closest_member = df.loc[closest_member_idx]\n",
    "    \n",
    "    # Plot closest member\n",
    "    scatter.add_trace(go.Scatter(x=[closest_member['Dimension 1']], y=[closest_member['Dimension 2']], mode='markers', marker=dict(color=cluster_color, symbol='star', size=11), name=f'Cluster {cluster_label} Closest Member'))\n",
    "\n",
    "    # Plot centroid\n",
    "    scatter.add_trace(go.Scatter(x=[centroid[0]], y=[centroid[1]], mode='markers', marker=dict(color=cluster_color, symbol='x', size=12), name=f'Cluster {cluster_label} Centroid'))\n",
    "    \n",
    "     # Plot cluster members\n",
    "    cluster_members = df[df['Cluster'] == cluster_label][['Dimension 1', 'Dimension 2']]\n",
    "    scatter.add_trace(go.Scatter(x=cluster_members['Dimension 1'], y=cluster_members['Dimension 2'], mode='markers', marker=dict(color=cluster_color, symbol='circle', size=8), name=f'Cluster {cluster_label} Members'))\n",
    "\n",
    "# Hide the color bar\n",
    "scatter.update_coloraxes(showscale=False)\n",
    "\n",
    "scatter.update_layout(height=800)\n",
    "\n",
    "# Show the plot\n",
    "scatter.show()"
   ]
  },
  {
   "cell_type": "code",
   "execution_count": 48,
   "metadata": {},
   "outputs": [
    {
     "data": {
      "text/plain": [
       "[4, 11, 31, 47, 50]"
      ]
     },
     "execution_count": 48,
     "metadata": {},
     "output_type": "execute_result"
    }
   ],
   "source": [
    "\n",
    "selected_indices = sorted(closest_member_indices)\n",
    "selected_indices"
   ]
  },
  {
   "cell_type": "code",
   "execution_count": 49,
   "metadata": {},
   "outputs": [],
   "source": [
    "map_prompt = \"\"\"\n",
    "You will be given a single passage of a book. This section will be enclosed in triple backticks (```)\n",
    "Your goal is to give a summary of this section so that a reader will have a full understanding of what happened.\n",
    "Your response should be at least three paragraphs and fully encompass what was said in the passage.\n",
    "\n",
    "```{text}```\n",
    "FULL SUMMARY:\n",
    "\"\"\"\n",
    "map_prompt_template = PromptTemplate(template=map_prompt, input_variables=[\"text\"])"
   ]
  },
  {
   "cell_type": "code",
   "execution_count": 50,
   "metadata": {},
   "outputs": [],
   "source": [
    "map_chain = load_summarize_chain(llm=model,\n",
    "                             chain_type=\"stuff\",\n",
    "                             prompt=map_prompt_template)"
   ]
  },
  {
   "cell_type": "code",
   "execution_count": 51,
   "metadata": {},
   "outputs": [],
   "source": [
    "selected_docs = [docs[doc] for doc in selected_indices]"
   ]
  },
  {
   "cell_type": "code",
   "execution_count": 52,
   "metadata": {},
   "outputs": [
    {
     "name": "stderr",
     "output_type": "stream",
     "text": [
      "/home/vscode/.local/lib/python3.10/site-packages/langchain_core/_api/deprecation.py:117: LangChainDeprecationWarning:\n",
      "\n",
      "The function `run` was deprecated in LangChain 0.1.0 and will be removed in 0.2.0. Use invoke instead.\n",
      "\n"
     ]
    },
    {
     "name": "stdout",
     "output_type": "stream",
     "text": [
      "Summary #0 (chunk #4) - Preview: The passage describes the global recognition of Sir Edmund Hillary after he and Tenzing Norgay became the first to summit Mount Everest. Hillary, a New Zealander, was celebrated worldwide and his image was widely reproduced. The author did not experi \n",
      "\n",
      "Summary #1 (chunk #11) - Preview: The passage describes the trek towards Mount Everest's Base Camp, led by guide Rob Hall, who maintains a slow pace to allow for proper acclimatization to the high altitude. The narrator, part of the expedition, reflects on the enormity of Everest upo \n",
      "\n",
      "Summary #2 (chunk #31) - Preview: The passage describes the experiences of a group of climbers, including the narrator, who are attempting to acclimate to high altitudes in preparation for a summit push on Mount Everest. One member of the group, Pittman, is portrayed as oblivious and \n",
      "\n",
      "Summary #3 (chunk #47) - Preview: The passage describes a harrowing and chaotic scene on Mount Everest during a summit attempt. The narrator, whose identity isn't given in the text but is likely a client on the expedition, recounts their experience at the Hillary Step, a notorious se \n",
      "\n",
      "Summary #4 (chunk #50) - Preview: In the given passage, we learn about the concerns and responsibilities of guide Neal Beidleman during a summit attempt on Mount Everest. Beidleman, an aerospace engineer turned mountaineer, is depicted as a strong, conscientious, and well-liked guide \n",
      "\n"
     ]
    }
   ],
   "source": [
    "# Make an empty list to hold your summaries\n",
    "summary_list = []\n",
    "\n",
    "# Loop through a range of the lenght of your selected docs\n",
    "for i, doc in enumerate(selected_docs):\n",
    "    \n",
    "    # Go get a summary of the chunk\n",
    "    chunk_summary = map_chain.run([doc])\n",
    "    \n",
    "    # Append that summary to your list\n",
    "    summary_list.append(chunk_summary)\n",
    "    \n",
    "    print (f\"Summary #{i} (chunk #{selected_indices[i]}) - Preview: {chunk_summary[:250]} \\n\")\n",
    "    # print (f\"Summary #{i} (chunk #{selected_indices[i]}) - Full summary: {chunk_summary} \\n\")"
   ]
  },
  {
   "cell_type": "code",
   "execution_count": 53,
   "metadata": {},
   "outputs": [
    {
     "name": "stdout",
     "output_type": "stream",
     "text": [
      "Your total summary has 2468 tokens\n"
     ]
    }
   ],
   "source": [
    "summaries = \"\\n\".join(summary_list)\n",
    "\n",
    "# Convert it back to a document\n",
    "summaries = Document(page_content=summaries)\n",
    "\n",
    "print (f\"Your total summary has {model.get_num_tokens(summaries.page_content)} tokens\")"
   ]
  },
  {
   "cell_type": "code",
   "execution_count": 54,
   "metadata": {},
   "outputs": [],
   "source": [
    "combine_prompt = \"\"\"\n",
    "You will be given a series of summaries from a book. The summaries will be enclosed in triple backticks (```)\n",
    "Your goal is to give a verbose summary of what happened in the story.\n",
    "The reader should be able to grasp what happened in the book.\n",
    "\n",
    "```{text}```\n",
    "VERBOSE SUMMARY:\n",
    "\"\"\"\n",
    "combine_prompt_template = PromptTemplate(template=combine_prompt, input_variables=[\"text\"])"
   ]
  },
  {
   "cell_type": "code",
   "execution_count": 56,
   "metadata": {},
   "outputs": [],
   "source": [
    "reduce_chain = load_summarize_chain(llm=model,\n",
    "                             chain_type=\"stuff\",\n",
    "                             prompt=combine_prompt_template,\n",
    "                             verbose=True # Set this to true if you want to see the inner workings\n",
    "                                   )"
   ]
  },
  {
   "cell_type": "code",
   "execution_count": 57,
   "metadata": {},
   "outputs": [
    {
     "name": "stdout",
     "output_type": "stream",
     "text": [
      "\n",
      "\n",
      "\u001b[1m> Entering new StuffDocumentsChain chain...\u001b[0m\n",
      "\n",
      "\n",
      "\u001b[1m> Entering new LLMChain chain...\u001b[0m\n",
      "Prompt after formatting:\n",
      "\u001b[32;1m\u001b[1;3m\n",
      "You will be given a series of summaries from a book. The summaries will be enclosed in triple backticks (```)\n",
      "Your goal is to give a verbose summary of what happened in the story.\n",
      "The reader should be able to grasp what happened in the book.\n",
      "\n",
      "```The passage describes the global recognition of Sir Edmund Hillary after he and Tenzing Norgay became the first to summit Mount Everest. Hillary, a New Zealander, was celebrated worldwide and his image was widely reproduced. The author did not experience this historical moment firsthand, as they were not yet born, but a later Everest ascent had a profound impact on their life. Specifically, the author refers to the May 22, 1963, ascent of Everest's West Ridge by Tom Hornbein and Willi Unsoeld, which was heralded as an outstanding mountaineering achievement due to the route's difficulty. The two climbers were forced to bivouac at an unprecedented altitude, which led to severe frostbite for Unsoeld, but they survived and the event resonated deeply with the author, who was a child at the time and knew Unsoeld personally.\n",
      "\n",
      "The author goes on to describe their own fascination with mountaineering, influenced by the exploits of Hornbein and Unsoeld. Climbing became the central focus of the author's life, with the ambition of scaling Everest themselves. They describe the climbing community and its values, emphasizing the importance of the style of ascent over simply reaching the top. The author lived a frugal lifestyle, working only to fund their climbing expeditions, and eventually, despite their childhood ambition, they came to view Everest with a degree of disdain, seeing it as a less worthy objective due to the perceived ease of its most popular route and the commercialization of the expeditions.\n",
      "\n",
      "The final part of the passage discusses the commercialization of Everest in more detail. Dick Bass's ascent, despite his limited experience, was seen as a turning point, making Everest seem accessible to wealthy amateurs. The author describes the increasing number of commercial expeditions and the Nepalese government's efforts to manage the crowds and environmental impact by raising permit fees. However, these fee increases had the unintended effect of pushing more climbers to attempt the mountain from the Tibetan side, where the costs were lower. The passage suggests a tension between the author's romantic view of climbing as a pure pursuit and the reality of Everest climbing becoming a commercial enterprise accessible to those with sufficient financial resources.\n",
      "The passage describes the trek towards Mount Everest's Base Camp, led by guide Rob Hall, who maintains a slow pace to allow for proper acclimatization to the high altitude. The narrator, part of the expedition, reflects on the enormity of Everest upon reaching a viewpoint outside the village of Namche. Despite having climbed many mountains before, the narrator feels that Everest is incomparable and experiences mixed emotions of anticipation and dread. The journey then leads to Tengboche, home to the largest Buddhist monastery in the Khumbu region, where the group meets the head lama after his three-month silent meditation. They receive blessings and ceremonial scarves, known as katas, which are said to protect them from harm on their ascent to Everest's summit.\n",
      "\n",
      "As the trek continues, the narrator describes the enchanting landscape and the ease of travel, with most gear carried by yaks and porters. The group often stops at teahouses and interacts with other travelers along the trail. The narrator frequently finds himself in the company of Doug Hansen, a postal worker, and Andy Harris, a junior guide under Rob Hall. Andy, who is presented as a strong and attractive man with a passion for outdoor work, expresses his reluctance to leave his partner Fiona and their new house-building project to join the Everest expedition. Despite this, he could not pass up the opportunity to climb the mountain, especially under the guidance of Rob Hall. Andy's experience in the Himalayas and medical work with Fiona in Pheriche is detailed, emphasizing his deep connection to the region and its people.\n",
      "\n",
      "The group spends several nights in Pheriche, where they visit a medical clinic established to address the high incidence of altitude-related illnesses among trekkers. The clinic, staffed by volunteers like Laura Ziemer and her husband Jim Litch, has drastically reduced the mortality rate through education and emergency care. The narrator notes the clinic's prestige and the high qualifications of its volunteer staff, including Caroline Mackenzie, the expedition's doctor, who had previously worked there. The narrator also recounts the romantic history of Rob Hall meeting his wife Jan Arnold at the clinic, their subsequent climbs, and her absence from the current expedition due to her pregnancy. An evening at the clinic leads to a conversation among Hall, Harris, and the clinic staff about the risks associated with climbing and guiding on Everest, leaving a haunting impression on those present.\n",
      "The passage describes the experiences of a group of climbers, including the narrator, who are attempting to acclimate to high altitudes in preparation for a summit push on Mount Everest. One member of the group, Pittman, is portrayed as oblivious and insulated from the harsh realities of the climb by her wealth and self-absorption, drawing a parallel with Jane Austen's character Emma. The narrator quotes Joan Didion, reflecting on the human tendency to create narratives to make sense of experiences, indicating that he is a writer seeking to find meaning in the climb.\n",
      "\n",
      "The narrator then details his experience waking up at 4:00 A.M. at Camp Two, located at 21,300 feet, readying himself for the climb to Camp Three at 24,000 feet. He describes the arduous process of leaving the warmth of his sleeping bag in the extreme cold, and the struggle to dress and prepare for the climb. He also relates the physical challenges he faces, such as the pain from his cracked fingertips and the difficulty of navigating the icy terrain in the dark. Despite the harsh conditions, the group begins their climb towards the Lhotse Face.\n",
      "\n",
      "As the climb progresses, the narrator discusses the increasingly dangerous conditions they face, including severe cold, high winds, and poor visibility. At a height of 23,000 feet, he makes the decision to wait for guide Mike Groom to discuss the safety of continuing. However, before they can confer, they receive an order via radio to descend. Upon returning to Camp Two, the narrator notes that while he is tired but alright, other members of the group have suffered physical harm, including frostbite and a frozen larynx, particularly Doug, who had previous frostbite injuries and recent throat surgery. Despite Doug's despair over his injuries, the group leader, Rob, encourages him not to give up hope for the summit.\n",
      "\n",
      "The passage ends with a description of the low morale among various expeditions at Camp Two. Disputes arise over the responsibility to fix ropes on the Lhotse Face. A conflict is highlighted between the leaders of the Taiwanese and South African teams and Hall, the leader of the narrator's expedition. There is a breakdown in cooperation, leading to arguments and threats. The sour mood is exacerbated by news of a Sherpa, Ngawang Topche, who has fallen seriously ill, suggesting a more severe condition than initially thought. This tension and adversity underscore the extreme and often unpredictable challenges faced by climbers on Everest.\n",
      "The passage describes a harrowing and chaotic scene on Mount Everest during a summit attempt. The narrator, whose identity isn't given in the text but is likely a client on the expedition, recounts their experience at the Hillary Step, a notorious section of the climb. The narrator had been waiting for over an hour at a high altitude without supplemental oxygen, leading to severe hypoxia and mental impairment. Rob Hall, the expedition leader, expresses disappointment that only three of his eight clients reached the summit, especially since all of rival guide Scott Fischer's clients seemed to be making progress towards the top. The narrator then describes the difficulty of descending the mountain without oxygen and the mix-up at the South Summit where guide Andy Harris mistakenly believed all the oxygen bottles were empty, likely due to a malfunctioning regulator.\n",
      "\n",
      "In the second paragraph, the narrator reflects on the signs of Harris's irrational behavior and severe hypoxia, which he failed to recognize due to his own mental impairment and the established dynamic of guide-client relationships where clients are trained not to question their guides. Even when it became apparent that there were full oxygen bottles, Harris's obstinacy prevented him from acknowledging this, which the narrator later speculated might have been due to a malfunctioning regulator. Despite the confusion, the narrator, with assistance from another climber named Mike, was able to secure a new oxygen bottle and continue descending.\n",
      "\n",
      "The final paragraph describes the narrator's descent into worsening weather conditions and his encounter with Beck Weathers, who was standing alone and shivering violently. Weathers had undergone radial keratotomy, a surgical procedure to correct myopia, which resulted in his vision deteriorating at high altitudes. Despite this, he had climbed well but decided not to continue to the summit due to his worsening vision. Rob Hall instructed Weathers to wait at the Balcony, a point on the mountain, and promised to descend with him later. The narrator urges Weathers to descend with him, but Weathers decides to wait for guide Mike Groom, who was expected to follow shortly with a rope. The narrator laments this decision, recognizing it as a serious mistake given the deteriorating conditions and the urgency of getting down the mountain.\n",
      "In the given passage, we learn about the concerns and responsibilities of guide Neal Beidleman during a summit attempt on Mount Everest. Beidleman, an aerospace engineer turned mountaineer, is depicted as a strong, conscientious, and well-liked guide, albeit with less high-altitude experience compared to his fellow guides Anatoli Boukreev and expedition leader Scott Fischer. Despite his relative inexperience, Beidleman had successfully climbed another high peak, Makalu, and had been recognized for his abilities by both Fischer and Rob Hall, the leader of a separate expedition. Due to his junior status, Beidleman was paid less than Boukreev for his guiding services on Everest and was acutely aware of his place in the expedition hierarchy. He felt uncomfortable asserting himself, which he later regretted, particularly regarding the enforcement of the turnaround time—a critical safety measure that dictated climbers must begin their descent by 2:00 P.M. if they hadn't reached the summit.\n",
      "\n",
      "The passage outlines the plan for summit day, which included Lopsang Jangbu leading the group with a radio and rope, Boukreev and Beidleman guiding in the middle, and Fischer sweeping from the rear with another radio. A strict 2:00 P.M. turnaround time was agreed upon to ensure climbers would descend safely before conditions deteriorated. Unfortunately, due to various delays and the lack of a radio, Beidleman was unable to communicate with Fischer and enforce the turnaround time. He found himself waiting at the summit for Fischer and the clients, feeling a growing anxiety about the lateness of the hour. When climbers began to arrive after the cutoff time, including Sandy Pittman who ran out of oxygen but was assisted by Lopsang, Beidleman was forced to remain at the summit longer than planned. Hall, Groom, and Namba also reached the summit around this time, with Hall optimistically radioing base camp about their success, unaware that climbers like Hansen and Fischer were significantly delayed.\n",
      "\n",
      "The passage concludes by detailing the physical and mental exhaustion that Scott Fischer was experiencing. Despite his strong reputation and energy reserves, Fischer had been pushing himself hard and was visibly fatigued. Additionally, Fischer may have been suffering from a mysterious liver condition that caused debilitating symptoms, though he kept it hidden from most people. After a hard sleep, Fischer was slow to start on summit day and lagged behind the rest of the climbers. Beidleman encountered an exhausted Fischer on his descent, but assumed Fischer would quickly reach the summit and catch up to help with the clients. Beidleman's focus shifted to ensuring the safety of the clients, particularly Pittman, whom he perceived to be in a precarious condition. With time pressing and conditions worsening, Beidleman decided to lead the clients down, passing Fischer who acknowledged them but was clearly struggling. Despite this, Beidleman and the others did not recognize the gravity of Fischer's situation at the time.```\n",
      "VERBOSE SUMMARY:\n",
      "\u001b[0m\n",
      "\n",
      "\u001b[1m> Finished chain.\u001b[0m\n",
      "\n",
      "\u001b[1m> Finished chain.\u001b[0m\n"
     ]
    }
   ],
   "source": [
    "output = reduce_chain.run([summaries])"
   ]
  },
  {
   "cell_type": "code",
   "execution_count": 58,
   "metadata": {},
   "outputs": [
    {
     "name": "stdout",
     "output_type": "stream",
     "text": [
      "The story unfolds with the author reflecting on the legacy of Sir Edmund Hillary and Tenzing Norgay, the first climbers to reach the summit of Mount Everest in 1953, a feat that thrust them into global fame. Although the author was not alive to witness this event, they were deeply influenced by another historic ascent of Everest's West Ridge by Tom Hornbein and Willi Unsoeld on May 22, 1963. This climb, particularly challenging and dangerous, ended with Hornbein and Unsoeld surviving a night at extremely high altitude, resulting in severe frostbite for Unsoeld. The author knew Unsoeld personally and the experience had a significant impact on them as a child, inspiring a lifelong passion for mountaineering.\n",
      "\n",
      "This passion led the author to dedicate their life to climbing, driven by the ambition to scale Everest themselves. The climbing community's strong emphasis on the style and ethics of climbing over the mere act of reaching the summit shaped the author's approach to mountaineering. They led a minimalist lifestyle, focused solely on funding their expeditions. However, over time, the author's perspective on Everest shifted, viewing the mountain with a measure of disdain due to the commercialization of expeditions and the \"easier\" routes that had become popular.\n",
      "\n",
      "The author discusses the commercialization in greater detail, highlighting Dick Bass's ascent as a turning point that made Everest seem attainable to wealthy amateurs. The Nepalese government attempted to manage the increasing number of climbers and the environmental impact by raising permit fees, but this inadvertently pushed climbers to the Tibetan side where costs were lower. The author grapples with the tension between their romantic view of climbing as a noble pursuit and the reality of Everest climbing as a commercial venture.\n",
      "\n",
      "The narrative then follows an expedition towards Everest's Base Camp, led by guide Rob Hall, who ensures a slow pace for acclimatization. The narrator, a member of the expedition, is awed by the sheer scale of Everest compared to previous climbs and feels a mix of excitement and apprehension. The expedition visits the Tengboche monastery, where they receive blessings from the head lama, and later spends time in Pheriche, interacting with the local medical clinic staff who work to combat altitude-related illnesses. Doctor Caroline Mackenzie, part of the expedition, formerly volunteered at the clinic, which is where Rob Hall met his wife Jan Arnold. An evening discussion at the clinic about the dangers of Everest leaves the group contemplative.\n",
      "\n",
      "As the group acclimatizes, the narrator describes a wake-up call at Camp Two for a climb to Camp Three, detailing the physical challenges and the extreme cold. The group encounters dangerous conditions and receives an order to descend due to safety concerns. Upon their return to Camp Two, morale is low with disputes arising among various expeditions. A Sherpa's severe illness adds to the tension and difficulty of the situation.\n",
      "\n",
      "In a dramatic and chaotic scene, the narrator describes being hypoxic and impaired at the Hillary Step during the summit attempt. Rob Hall is disappointed with the summit success rate, and a confusion ensues regarding the oxygen supplies, exacerbated by guide Andy Harris's hypoxia and refusal to use what he mistakenly believed were empty oxygen bottles. The narrator encounters Beck Weathers, who is struggling with vision problems due to a previous eye surgery and decides to wait for help in worsening weather, a decision the narrator deems a mistake.\n",
      "\n",
      "Lastly, the narrative focuses on guide Neal Beidleman, an aerospace engineer turned mountaineer, who feels the weight of responsibility despite his junior status among guides. The summit day plan is outlined, with a strict 2:00 P.M. turnaround time for safety. Delays and lack of communication result in climbers reaching the summit after the cutoff time, including Sandy Pittman who runs out of oxygen. Scott Fischer, another guide, is extremely fatigued and may be suffering from a liver condition. Beidleman encounters Fischer on his descent, assumes Fischer will catch up, and focuses on guiding the clients down, not fully realizing the severity of Fischer's condition.\n",
      "\n",
      "Throughout the passages, the author weaves a tale of ambition, danger, and the complex interplay between human endeavor and the commercialization of one of the most formidable and sacred places on Earth.\n"
     ]
    }
   ],
   "source": [
    "print (output)"
   ]
  }
 ],
 "metadata": {
  "kernelspec": {
   "display_name": "Python 3",
   "language": "python",
   "name": "python3"
  },
  "language_info": {
   "codemirror_mode": {
    "name": "ipython",
    "version": 3
   },
   "file_extension": ".py",
   "mimetype": "text/x-python",
   "name": "python",
   "nbconvert_exporter": "python",
   "pygments_lexer": "ipython3",
   "version": "3.10.12"
  }
 },
 "nbformat": 4,
 "nbformat_minor": 2
}
